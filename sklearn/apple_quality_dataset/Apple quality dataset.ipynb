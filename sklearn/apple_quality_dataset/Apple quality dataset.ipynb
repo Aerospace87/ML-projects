{
 "cells": [
  {
   "cell_type": "markdown",
   "id": "c10f7d25",
   "metadata": {},
   "source": [
    "# Introduction"
   ]
  },
  {
   "cell_type": "markdown",
   "id": "f1e53295",
   "metadata": {},
   "source": [
    "The following dataset has een downloaded from kaggle (ref https://www.kaggle.com/datasets/nelgiriyewithana/apple-quality?resource=download). The dataset contains attributes about a set of fruits as:\n",
    "\n",
    "1. A_id: Unique identifier for each fruit\n",
    "2. Size: Size of the fruit\n",
    "3. Weight: Weight of the fruit\n",
    "4. Sweetness: Degree of sweetness of the fruit\n",
    "5. Crunchiness: Texture indicating the crunchiness of the fruit\n",
    "6. Juiciness: Level of juiciness of the fruit\n",
    "7. Ripeness: Stage of ripeness of the fruit\n",
    "8. Acidity: Acidity level of the fruit\n",
    "9. Quality: Overall quality of the fruit\n",
    "\n",
    "The object of the current notebook is to develop a model ale to classify the different types of fruits. The data has been scaled and cleaned for ease of use."
   ]
  },
  {
   "cell_type": "markdown",
   "id": "b6939963",
   "metadata": {},
   "source": [
    "# Analyzing data"
   ]
  },
  {
   "cell_type": "code",
   "execution_count": 3,
   "id": "355904fb",
   "metadata": {},
   "outputs": [],
   "source": [
    "import pandas as pd"
   ]
  },
  {
   "cell_type": "code",
   "execution_count": 4,
   "id": "f2863c28",
   "metadata": {},
   "outputs": [],
   "source": [
    "apple_quality_df = pd.read_csv('apple_quality.csv')"
   ]
  },
  {
   "cell_type": "code",
   "execution_count": 5,
   "id": "23ffac81",
   "metadata": {},
   "outputs": [
    {
     "data": {
      "text/html": [
       "<div>\n",
       "<style scoped>\n",
       "    .dataframe tbody tr th:only-of-type {\n",
       "        vertical-align: middle;\n",
       "    }\n",
       "\n",
       "    .dataframe tbody tr th {\n",
       "        vertical-align: top;\n",
       "    }\n",
       "\n",
       "    .dataframe thead th {\n",
       "        text-align: right;\n",
       "    }\n",
       "</style>\n",
       "<table border=\"1\" class=\"dataframe\">\n",
       "  <thead>\n",
       "    <tr style=\"text-align: right;\">\n",
       "      <th></th>\n",
       "      <th>A_id</th>\n",
       "      <th>Size</th>\n",
       "      <th>Weight</th>\n",
       "      <th>Sweetness</th>\n",
       "      <th>Crunchiness</th>\n",
       "      <th>Juiciness</th>\n",
       "      <th>Ripeness</th>\n",
       "    </tr>\n",
       "  </thead>\n",
       "  <tbody>\n",
       "    <tr>\n",
       "      <th>count</th>\n",
       "      <td>4000.000000</td>\n",
       "      <td>4000.000000</td>\n",
       "      <td>4000.000000</td>\n",
       "      <td>4000.000000</td>\n",
       "      <td>4000.000000</td>\n",
       "      <td>4000.000000</td>\n",
       "      <td>4000.000000</td>\n",
       "    </tr>\n",
       "    <tr>\n",
       "      <th>mean</th>\n",
       "      <td>1999.500000</td>\n",
       "      <td>-0.503015</td>\n",
       "      <td>-0.989547</td>\n",
       "      <td>-0.470479</td>\n",
       "      <td>0.985478</td>\n",
       "      <td>0.512118</td>\n",
       "      <td>0.498277</td>\n",
       "    </tr>\n",
       "    <tr>\n",
       "      <th>std</th>\n",
       "      <td>1154.844867</td>\n",
       "      <td>1.928059</td>\n",
       "      <td>1.602507</td>\n",
       "      <td>1.943441</td>\n",
       "      <td>1.402757</td>\n",
       "      <td>1.930286</td>\n",
       "      <td>1.874427</td>\n",
       "    </tr>\n",
       "    <tr>\n",
       "      <th>min</th>\n",
       "      <td>0.000000</td>\n",
       "      <td>-7.151703</td>\n",
       "      <td>-7.149848</td>\n",
       "      <td>-6.894485</td>\n",
       "      <td>-6.055058</td>\n",
       "      <td>-5.961897</td>\n",
       "      <td>-5.864599</td>\n",
       "    </tr>\n",
       "    <tr>\n",
       "      <th>25%</th>\n",
       "      <td>999.750000</td>\n",
       "      <td>-1.816765</td>\n",
       "      <td>-2.011770</td>\n",
       "      <td>-1.738425</td>\n",
       "      <td>0.062764</td>\n",
       "      <td>-0.801286</td>\n",
       "      <td>-0.771677</td>\n",
       "    </tr>\n",
       "    <tr>\n",
       "      <th>50%</th>\n",
       "      <td>1999.500000</td>\n",
       "      <td>-0.513703</td>\n",
       "      <td>-0.984736</td>\n",
       "      <td>-0.504758</td>\n",
       "      <td>0.998249</td>\n",
       "      <td>0.534219</td>\n",
       "      <td>0.503445</td>\n",
       "    </tr>\n",
       "    <tr>\n",
       "      <th>75%</th>\n",
       "      <td>2999.250000</td>\n",
       "      <td>0.805526</td>\n",
       "      <td>0.030976</td>\n",
       "      <td>0.801922</td>\n",
       "      <td>1.894234</td>\n",
       "      <td>1.835976</td>\n",
       "      <td>1.766212</td>\n",
       "    </tr>\n",
       "    <tr>\n",
       "      <th>max</th>\n",
       "      <td>3999.000000</td>\n",
       "      <td>6.406367</td>\n",
       "      <td>5.790714</td>\n",
       "      <td>6.374916</td>\n",
       "      <td>7.619852</td>\n",
       "      <td>7.364403</td>\n",
       "      <td>7.237837</td>\n",
       "    </tr>\n",
       "  </tbody>\n",
       "</table>\n",
       "</div>"
      ],
      "text/plain": [
       "              A_id         Size       Weight    Sweetness  Crunchiness  \\\n",
       "count  4000.000000  4000.000000  4000.000000  4000.000000  4000.000000   \n",
       "mean   1999.500000    -0.503015    -0.989547    -0.470479     0.985478   \n",
       "std    1154.844867     1.928059     1.602507     1.943441     1.402757   \n",
       "min       0.000000    -7.151703    -7.149848    -6.894485    -6.055058   \n",
       "25%     999.750000    -1.816765    -2.011770    -1.738425     0.062764   \n",
       "50%    1999.500000    -0.513703    -0.984736    -0.504758     0.998249   \n",
       "75%    2999.250000     0.805526     0.030976     0.801922     1.894234   \n",
       "max    3999.000000     6.406367     5.790714     6.374916     7.619852   \n",
       "\n",
       "         Juiciness     Ripeness  \n",
       "count  4000.000000  4000.000000  \n",
       "mean      0.512118     0.498277  \n",
       "std       1.930286     1.874427  \n",
       "min      -5.961897    -5.864599  \n",
       "25%      -0.801286    -0.771677  \n",
       "50%       0.534219     0.503445  \n",
       "75%       1.835976     1.766212  \n",
       "max       7.364403     7.237837  "
      ]
     },
     "execution_count": 5,
     "metadata": {},
     "output_type": "execute_result"
    }
   ],
   "source": [
    "apple_quality_df.describe()"
   ]
  },
  {
   "cell_type": "markdown",
   "id": "41c3734a",
   "metadata": {},
   "source": [
    "Clearly the statistics above show that the dataset has features already scaled and there are no missing values for each feature. However, oserving the data we notice that row 4000 contains non useful information therefore we remove it:"
   ]
  },
  {
   "cell_type": "code",
   "execution_count": 6,
   "id": "e8eedeec",
   "metadata": {
    "scrolled": true
   },
   "outputs": [],
   "source": [
    "apple_quality_df = apple_quality_df.iloc[:4000, :]"
   ]
  },
  {
   "cell_type": "markdown",
   "id": "799ce95a",
   "metadata": {},
   "source": [
    "The ojective is to classify the fruits quality ased on the other features. The possible categories are:"
   ]
  },
  {
   "cell_type": "code",
   "execution_count": 7,
   "id": "64b4e065",
   "metadata": {},
   "outputs": [
    {
     "data": {
      "text/plain": [
       "array(['good', 'bad'], dtype=object)"
      ]
     },
     "execution_count": 7,
     "metadata": {},
     "output_type": "execute_result"
    }
   ],
   "source": [
    "apple_quality_df[\"Quality\"].drop_duplicates().values"
   ]
  },
  {
   "cell_type": "markdown",
   "id": "65e457a2",
   "metadata": {},
   "source": [
    "Therefore we have a binary classification and we try to predict if the fruit is good or ad based on the available features. Let's first encode the two classed using 1 for good quality and 0 for ad quality:"
   ]
  },
  {
   "cell_type": "code",
   "execution_count": 8,
   "id": "2bdee414",
   "metadata": {},
   "outputs": [],
   "source": [
    "encoding_dict = {\"good\": 1, \"bad\": 0}\n",
    "apple_quality_df[\"Quality\"] = apple_quality_df[\"Quality\"].map(encoding_dict)"
   ]
  },
  {
   "cell_type": "code",
   "execution_count": 9,
   "id": "f6151c86",
   "metadata": {},
   "outputs": [
    {
     "name": "stdout",
     "output_type": "stream",
     "text": [
      " Number good fruits: 2004, number of ad fruits 1996\n"
     ]
    }
   ],
   "source": [
    "number_of_good_fruits = apple_quality_df[\"Quality\"].sum()\n",
    "number_of_bad_fruits = apple_quality_df[\"Quality\"].shape[0] - number_of_good_fruits\n",
    "print(f\" Number good fruits: {number_of_good_fruits}, number of ad fruits {number_of_bad_fruits}\")"
   ]
  },
  {
   "cell_type": "markdown",
   "id": "b432157a",
   "metadata": {},
   "source": [
    "The dataset is slightly inbalanced towards the good quality class "
   ]
  },
  {
   "cell_type": "markdown",
   "id": "37797a10",
   "metadata": {},
   "source": [
    "# Box Plots"
   ]
  },
  {
   "cell_type": "code",
   "execution_count": 10,
   "id": "b0017ca1",
   "metadata": {},
   "outputs": [
    {
     "data": {
      "image/png": "[encoded data removed]",
      "text/plain": [
       "<Figure size 1000x1000 with 6 Axes>"
      ]
     },
     "metadata": {},
     "output_type": "display_data"
    }
   ],
   "source": [
    "import matplotlib.pyplot as plt\n",
    "columns = ['Size', 'Weight', 'Sweetness', 'Crunchiness', 'Juiciness',\n",
    "       'Ripeness', 'Acidity', 'Quality']\n",
    "apple_quality_df[columns].boxplot(by=\"Quality\", figsize=(10,10))\n",
    "plt.show()"
   ]
  },
  {
   "cell_type": "markdown",
   "id": "e3bd4e1f",
   "metadata": {},
   "source": [
    "## Creation of the model features and label"
   ]
  },
  {
   "cell_type": "code",
   "execution_count": 11,
   "id": "f3412709",
   "metadata": {},
   "outputs": [],
   "source": [
    "from sklearn.model_selection import train_test_split, GridSearchCV\n",
    "import numpy as np"
   ]
  },
  {
   "cell_type": "code",
   "execution_count": 12,
   "id": "4ccb6fa7",
   "metadata": {},
   "outputs": [],
   "source": [
    "feature_to_consider = ['Juiciness', 'Ripeness', 'Size', 'Sweetness']\n",
    "X = apple_quality_df[feature_to_consider]\n",
    "\n",
    "Y = apple_quality_df[\"Quality\"]"
   ]
  },
  {
   "cell_type": "code",
   "execution_count": 13,
   "id": "d343a6cf",
   "metadata": {},
   "outputs": [],
   "source": [
    "X_train, X_test, Y_train, Y_test = train_test_split(X, Y, test_size=0.2)"
   ]
  },
  {
   "cell_type": "markdown",
   "id": "4236ea95",
   "metadata": {},
   "source": [
    "## Baseline model predicting always the most frequent class"
   ]
  },
  {
   "cell_type": "code",
   "execution_count": 14,
   "id": "38d6de32",
   "metadata": {},
   "outputs": [],
   "source": [
    "from sklearn.base import BaseEstimator, RegressorMixin\n",
    "from sklearn.metrics import accuracy_score"
   ]
  },
  {
   "cell_type": "code",
   "execution_count": 15,
   "id": "0c8ccb0d",
   "metadata": {},
   "outputs": [],
   "source": [
    "class BaselineEstimator(BaseEstimator, RegressorMixin):\n",
    "    \n",
    "    \"\"\" Estimator that gives a baseline prediction for regression or classification model\"\"\"\n",
    "    \n",
    "    def __init__(self, mode):\n",
    "        self.mode = mode\n",
    "    \n",
    "    def fit(self, X, y=None):\n",
    "        \n",
    "        if self.mode == \"most frequent\":\n",
    "            \n",
    "            counts = np.bincount(y)\n",
    "            self.predicted_value = np.argmax(counts)\n",
    "            \n",
    "        elif self.mode == \"mean\":\n",
    "            self.predicted_value = np.mean(y)\n",
    "            \n",
    "        else:\n",
    "            raise Exception('Mode not supported ! (most frequent / mean)')\n",
    "        \n",
    "        \n",
    "    def predict(self, X):\n",
    "        return self.predicted_value * np.ones(X.shape[0])"
   ]
  },
  {
   "cell_type": "code",
   "execution_count": 16,
   "id": "82df91c0",
   "metadata": {},
   "outputs": [
    {
     "name": "stdout",
     "output_type": "stream",
     "text": [
      " Accuracy of the model predicting always the most frequent class: 0.48875\n"
     ]
    }
   ],
   "source": [
    "baseline_estimator = BaselineEstimator(\"most frequent\")\n",
    "baseline_estimator.fit(X_train, Y_train)\n",
    "Y_pred = baseline_estimator.predict(X_test)\n",
    "print(f\" Accuracy of the model predicting always the most frequent class: {accuracy_score(Y_pred, Y_test)}\")"
   ]
  },
  {
   "cell_type": "markdown",
   "id": "d7073a0e",
   "metadata": {},
   "source": [
    "## Trying different types of models"
   ]
  },
  {
   "cell_type": "code",
   "execution_count": 17,
   "id": "031e12e3",
   "metadata": {},
   "outputs": [],
   "source": [
    "from sklearn.linear_model import LogisticRegression\n",
    "from sklearn.pipeline import Pipeline\n",
    "from sklearn.ensemble import RandomForestClassifier\n",
    "from sklearn.svm import SVC"
   ]
  },
  {
   "cell_type": "code",
   "execution_count": 18,
   "id": "23979649",
   "metadata": {},
   "outputs": [],
   "source": [
    "SVC?"
   ]
  },
  {
   "cell_type": "code",
   "execution_count": 19,
   "id": "1c4489e8",
   "metadata": {},
   "outputs": [],
   "source": [
    "logistic_regression = LogisticRegression()\n",
    "logistic_regression_param_grid = {\"C\": np.linspace(0.1, 2.0, num=20)}\n",
    "support_vector_machine_classifier = SVC()\n",
    "support_vector_param_grid = {\"C\": np.linspace(1, 10, 10), \"kernel\":['linear', 'poly', 'rbf', 'sigmoid'], \"degree\": [1,2,3,4]}\n",
    "\n",
    "random_forest_classifier = RandomForestClassifier()\n",
    "random_forest_param_grid = {'max_depth': np.arange(1,10)}"
   ]
  },
  {
   "cell_type": "code",
   "execution_count": 20,
   "id": "1cb124da",
   "metadata": {},
   "outputs": [],
   "source": [
    "dict_cross_validation = {\n",
    "    logistic_regression : logistic_regression_param_grid,\n",
    "    random_forest_classifier: random_forest_param_grid,\n",
    "    support_vector_machine_classifier: support_vector_param_grid\n",
    "}\n",
    "\n",
    "result = []\n",
    " \n",
    "for estimator, param_grid in dict_cross_validation.items():\n",
    "    gs = GridSearchCV(estimator, param_grid)\n",
    "\n",
    "    gs.fit(X_train, Y_train)\n",
    "    \n",
    "\n",
    "    result.append((gs.best_estimator_, gs.best_score_))"
   ]
  },
  {
   "cell_type": "code",
   "execution_count": 28,
   "id": "095732ec",
   "metadata": {},
   "outputs": [
    {
     "data": {
      "text/plain": [
       "[(LogisticRegression(C=0.1), 0.721875),\n",
       " (RandomForestClassifier(max_depth=9), 0.79625),\n",
       " (SVC(C=5.0, degree=1), 0.8175000000000001)]"
      ]
     },
     "execution_count": 28,
     "metadata": {},
     "output_type": "execute_result"
    }
   ],
   "source": [
    "result\n"
   ]
  },
  {
   "cell_type": "code",
   "execution_count": 22,
   "id": "87be7b6d",
   "metadata": {},
   "outputs": [],
   "source": [
    "final_model = result[2][0]\n",
    "Y_pred = final_model.predict(X_test)"
   ]
  },
  {
   "cell_type": "code",
   "execution_count": 24,
   "id": "47126f61",
   "metadata": {
    "scrolled": true
   },
   "outputs": [
    {
     "data": {
      "text/plain": [
       "0.82875"
      ]
     },
     "execution_count": 24,
     "metadata": {},
     "output_type": "execute_result"
    }
   ],
   "source": [
    "accuracy_score(Y_pred, Y_test)"
   ]
  },
  {
   "cell_type": "markdown",
   "id": "1963e0df",
   "metadata": {},
   "source": [
    "## Showing decision boundary"
   ]
  },
  {
   "cell_type": "code",
   "execution_count": 30,
   "id": "1ad9f4be",
   "metadata": {},
   "outputs": [],
   "source": [
    "from sklearn.inspection import DecisionBoundaryDisplay"
   ]
  },
  {
   "cell_type": "code",
   "execution_count": null,
   "id": "b7350a1d",
   "metadata": {},
   "outputs": [],
   "source": [
    "disp = DecisionBoundaryDisplay.from_estimator(final_model, X_train, response_method=\"predict\",\n",
    "xlabel=iris.feature_names[0], ylabel=iris.feature_names[1],\n",
    "alpha=0.5)"
   ]
  },
  {
   "cell_type": "code",
   "execution_count": 31,
   "id": "2d727f97",
   "metadata": {},
   "outputs": [
    {
     "data": {
      "text/html": [
       "<div>\n",
       "<style scoped>\n",
       "    .dataframe tbody tr th:only-of-type {\n",
       "        vertical-align: middle;\n",
       "    }\n",
       "\n",
       "    .dataframe tbody tr th {\n",
       "        vertical-align: top;\n",
       "    }\n",
       "\n",
       "    .dataframe thead th {\n",
       "        text-align: right;\n",
       "    }\n",
       "</style>\n",
       "<table border=\"1\" class=\"dataframe\">\n",
       "  <thead>\n",
       "    <tr style=\"text-align: right;\">\n",
       "      <th></th>\n",
       "      <th>Juiciness</th>\n",
       "      <th>Ripeness</th>\n",
       "      <th>Size</th>\n",
       "      <th>Sweetness</th>\n",
       "    </tr>\n",
       "  </thead>\n",
       "  <tbody>\n",
       "    <tr>\n",
       "      <th>542</th>\n",
       "      <td>0.164350</td>\n",
       "      <td>-1.184325</td>\n",
       "      <td>-0.172770</td>\n",
       "      <td>-0.495673</td>\n",
       "    </tr>\n",
       "    <tr>\n",
       "      <th>107</th>\n",
       "      <td>1.835903</td>\n",
       "      <td>0.113931</td>\n",
       "      <td>1.307057</td>\n",
       "      <td>-1.470802</td>\n",
       "    </tr>\n",
       "    <tr>\n",
       "      <th>3156</th>\n",
       "      <td>-2.108648</td>\n",
       "      <td>-0.418797</td>\n",
       "      <td>-0.013655</td>\n",
       "      <td>-1.956035</td>\n",
       "    </tr>\n",
       "    <tr>\n",
       "      <th>1291</th>\n",
       "      <td>1.166009</td>\n",
       "      <td>1.895061</td>\n",
       "      <td>0.670874</td>\n",
       "      <td>2.778495</td>\n",
       "    </tr>\n",
       "    <tr>\n",
       "      <th>2167</th>\n",
       "      <td>0.813084</td>\n",
       "      <td>0.786991</td>\n",
       "      <td>1.931474</td>\n",
       "      <td>-2.582810</td>\n",
       "    </tr>\n",
       "    <tr>\n",
       "      <th>...</th>\n",
       "      <td>...</td>\n",
       "      <td>...</td>\n",
       "      <td>...</td>\n",
       "      <td>...</td>\n",
       "    </tr>\n",
       "    <tr>\n",
       "      <th>1486</th>\n",
       "      <td>-0.194521</td>\n",
       "      <td>-0.310921</td>\n",
       "      <td>2.713948</td>\n",
       "      <td>-1.467581</td>\n",
       "    </tr>\n",
       "    <tr>\n",
       "      <th>246</th>\n",
       "      <td>-1.605194</td>\n",
       "      <td>2.963923</td>\n",
       "      <td>0.550523</td>\n",
       "      <td>-0.569825</td>\n",
       "    </tr>\n",
       "    <tr>\n",
       "      <th>1924</th>\n",
       "      <td>2.872311</td>\n",
       "      <td>-1.757396</td>\n",
       "      <td>0.872366</td>\n",
       "      <td>-0.190436</td>\n",
       "    </tr>\n",
       "    <tr>\n",
       "      <th>3992</th>\n",
       "      <td>-1.703385</td>\n",
       "      <td>3.840101</td>\n",
       "      <td>1.764253</td>\n",
       "      <td>-0.083383</td>\n",
       "    </tr>\n",
       "    <tr>\n",
       "      <th>2199</th>\n",
       "      <td>-1.226006</td>\n",
       "      <td>1.858117</td>\n",
       "      <td>-3.309756</td>\n",
       "      <td>-3.036953</td>\n",
       "    </tr>\n",
       "  </tbody>\n",
       "</table>\n",
       "<p>3200 rows × 4 columns</p>\n",
       "</div>"
      ],
      "text/plain": [
       "      Juiciness  Ripeness      Size  Sweetness\n",
       "542    0.164350 -1.184325 -0.172770  -0.495673\n",
       "107    1.835903  0.113931  1.307057  -1.470802\n",
       "3156  -2.108648 -0.418797 -0.013655  -1.956035\n",
       "1291   1.166009  1.895061  0.670874   2.778495\n",
       "2167   0.813084  0.786991  1.931474  -2.582810\n",
       "...         ...       ...       ...        ...\n",
       "1486  -0.194521 -0.310921  2.713948  -1.467581\n",
       "246   -1.605194  2.963923  0.550523  -0.569825\n",
       "1924   2.872311 -1.757396  0.872366  -0.190436\n",
       "3992  -1.703385  3.840101  1.764253  -0.083383\n",
       "2199  -1.226006  1.858117 -3.309756  -3.036953\n",
       "\n",
       "[3200 rows x 4 columns]"
      ]
     },
     "execution_count": 31,
     "metadata": {},
     "output_type": "execute_result"
    }
   ],
   "source": [
    "X_train"
   ]
  },
  {
   "cell_type": "code",
   "execution_count": 33,
   "id": "b3cf0e73",
   "metadata": {},
   "outputs": [],
   "source": [
    "DecisionBoundaryDisplay?"
   ]
  },
  {
   "cell_type": "markdown",
   "id": "5bf3a7d6",
   "metadata": {},
   "source": [
    "## Model Export into pickle file for future usage"
   ]
  },
  {
   "cell_type": "code",
   "execution_count": 25,
   "id": "ab9f1226",
   "metadata": {},
   "outputs": [
    {
     "data": {
      "text/plain": [
       "['models/svc_classifier.joblib']"
      ]
     },
     "execution_count": 25,
     "metadata": {},
     "output_type": "execute_result"
    }
   ],
   "source": [
    "from joblib import dump\n",
    "dump(final_model, \"models/svc_classifier.joblib\")"
   ]
  },
  {
   "cell_type": "markdown",
   "id": "66390375",
   "metadata": {},
   "source": [
    "## Model import"
   ]
  },
  {
   "cell_type": "code",
   "execution_count": 26,
   "id": "6042c2d1",
   "metadata": {},
   "outputs": [],
   "source": [
    "from joblib import load\n",
    "support_vector_classifier = load(\"models/svc_classifier.joblib\")"
   ]
  },
  {
   "cell_type": "code",
   "execution_count": null,
   "id": "4bda177d",
   "metadata": {},
   "outputs": [],
   "source": []
  }
 ],
 "metadata": {
  "kernelspec": {
   "display_name": "Python 3 (ipykernel)",
   "language": "python",
   "name": "python3"
  },
  "language_info": {
   "codemirror_mode": {
    "name": "ipython",
    "version": 3
   },
   "file_extension": ".py",
   "mimetype": "text/x-python",
   "name": "python",
   "nbconvert_exporter": "python",
   "pygments_lexer": "ipython3",
   "version": "3.11.5"
  }
 },
 "nbformat": 4,
 "nbformat_minor": 5
}
