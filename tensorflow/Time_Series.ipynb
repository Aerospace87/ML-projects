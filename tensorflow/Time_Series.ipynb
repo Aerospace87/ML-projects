{
  "nbformat": 4,
  "nbformat_minor": 0,
  "metadata": {
    "colab": {
      "provenance": [],
      "include_colab_link": true
    },
    "kernelspec": {
      "name": "python3",
      "display_name": "Python 3"
    },
    "language_info": {
      "name": "python"
    }
  },
  "cells": [
    {
      "cell_type": "markdown",
      "metadata": {
        "id": "view-in-github",
        "colab_type": "text"
      },
      "source": [
        "<a href=\"https://colab.research.google.com/github/Aerospace87/ML-projects/blob/main/tensorflow/Time_Series.ipynb\" target=\"_parent\"><img src=\"https://colab.research.google.com/assets/colab-badge.svg\" alt=\"Open In Colab\"/></a>"
      ]
    },
    {
      "cell_type": "code",
      "execution_count": 90,
      "metadata": {
        "id": "hGFKVpUVUQI7"
      },
      "outputs": [],
      "source": [
        "import yfinance as yf\n",
        "import pandas as pd\n",
        "import numpy as np\n",
        "from numpy.fft import fftfreq"
      ]
    },
    {
      "cell_type": "code",
      "source": [
        "code_dict = {\n",
        "    \"Caterpillar Inc.\": \"CAT\",\n",
        "    \"CNH Industrial N.V.\": \"CNH\",\n",
        "    \"GE Aerospace\" :\"GE\"\n",
        "}\n",
        "\n",
        "cat = yf.Ticker(code_dict[\"GE Aerospace\"])"
      ],
      "metadata": {
        "id": "Pa3mnhVoUfwz"
      },
      "execution_count": 91,
      "outputs": []
    },
    {
      "cell_type": "code",
      "source": [
        "# get historical market data\n",
        "hist = cat.history(period=\"max\")"
      ],
      "metadata": {
        "id": "BBd2LR3vWhGb"
      },
      "execution_count": 92,
      "outputs": []
    },
    {
      "cell_type": "code",
      "source": [
        "hist = hist[\"Open\"].to_frame()"
      ],
      "metadata": {
        "id": "HxhfrN8AyvTg"
      },
      "execution_count": 93,
      "outputs": []
    },
    {
      "cell_type": "code",
      "source": [
        "# Convert the index from timestamp to date\n",
        "hist = hist.reset_index()\n",
        "hist[\"Date\"] = hist[\"Date\"].dt.date\n",
        "hist = hist.set_index(\"Date\")"
      ],
      "metadata": {
        "id": "Oy4rvqf79Fbd"
      },
      "execution_count": 94,
      "outputs": []
    },
    {
      "cell_type": "code",
      "source": [
        "hist.reset_index().plot(x=\"Date\",y=\"Open\")"
      ],
      "metadata": {
        "colab": {
          "base_uri": "https://localhost:8080/",
          "height": 467
        },
        "id": "JT3shrhWWtAY",
        "outputId": "47fee7df-47bb-4e14-951b-ff76407d3369"
      },
      "execution_count": 95,
      "outputs": [
        {
          "output_type": "execute_result",
          "data": {
            "text/plain": [
              "<Axes: xlabel='Date'>"
            ]
          },
          "metadata": {},
          "execution_count": 95
        },
        {
          "output_type": "display_data",
          "data": {
            "text/plain": [
              "<Figure size 640x480 with 1 Axes>"
            ],
            "image/png": "[encoded data removed]"
          },
          "metadata": {}
        }
      ]
    },
    {
      "cell_type": "markdown",
      "source": [
        "## Imputing Missing Values\n",
        "For some timesteps some values may be missing therefore we impute cnsidering the last not-null value"
      ],
      "metadata": {
        "id": "UQxO-IXW4bGr"
      }
    },
    {
      "cell_type": "code",
      "source": [
        "# Check if all the data points are equally spaced\n",
        "\n",
        "beginning_timestamp = hist.index.min()\n",
        "last_timestamp = hist.index.max()\n",
        "delta_t = hist.index[1] - beginning_timestamp\n",
        "\n",
        "\n",
        "equispaced_index = pd.date_range(start = beginning_timestamp,\n",
        "              end = last_timestamp,\n",
        "              freq = delta_t\n",
        ")\n",
        "\n",
        "equispaced_df = pd.DataFrame(index = equispaced_index,\n",
        "             data = {\"test_col\" : np.zeros(equispaced_index.size)}\n",
        ").reset_index()\n",
        "\n",
        "\n",
        "equispaced_df[\"index\"] = equispaced_df[\"index\"].dt.date\n",
        "\n",
        "hist = equispaced_df.merge(hist.reset_index(),\n",
        "                    how='left',\n",
        "                    left_on = 'index',\n",
        "                    right_on='Date'\n",
        ")\n",
        "\n",
        "cols = [\"index\", \"Open\"]\n",
        "\n",
        "hist = hist[cols]"
      ],
      "metadata": {
        "id": "ivFCbn2HgaXD"
      },
      "execution_count": 96,
      "outputs": []
    },
    {
      "cell_type": "code",
      "source": [
        "# Imputing the nulls with the last non null value\n",
        "\n",
        "nulls_indices = hist[hist[\"Open\"].isna()].index.copy()\n",
        "\n",
        "for idx in nulls_indices:\n",
        "\n",
        "  if idx == 0:\n",
        "    hist.iloc[(idx, 1)] = 0.0\n",
        "  elif idx >= 1:\n",
        "    hist.iloc[(idx, 1)] = hist.iloc[(idx - 1, 1)]\n",
        "\n",
        "hist.rename(columns={\"index\": \"Date\"}, inplace=True)\n",
        "\n",
        "hist = hist.set_index(\"Date\")"
      ],
      "metadata": {
        "id": "fr44CiVY1Il9"
      },
      "execution_count": 97,
      "outputs": []
    },
    {
      "cell_type": "code",
      "source": [
        "hist.describe()"
      ],
      "metadata": {
        "id": "GpV9N3rdW22p",
        "colab": {
          "base_uri": "https://localhost:8080/",
          "height": 300
        },
        "outputId": "74b9d07b-133c-456c-e192-1d1be0848d4f"
      },
      "execution_count": 98,
      "outputs": [
        {
          "output_type": "execute_result",
          "data": {
            "text/plain": [
              "               Open\n",
              "count  22943.000000\n",
              "mean      41.677609\n",
              "std       45.553066\n",
              "min        0.468906\n",
              "25%        1.396652\n",
              "50%       17.738792\n",
              "75%       79.496727\n",
              "max      194.089996"
            ],
            "text/html": [
              "\n",
              "  <div id=\"df-58bca9f1-9d24-434a-a940-6eada3d0f3fa\" class=\"colab-df-container\">\n",
              "    <div>\n",
              "<style scoped>\n",
              "    .dataframe tbody tr th:only-of-type {\n",
              "        vertical-align: middle;\n",
              "    }\n",
              "\n",
              "    .dataframe tbody tr th {\n",
              "        vertical-align: top;\n",
              "    }\n",
              "\n",
              "    .dataframe thead th {\n",
              "        text-align: right;\n",
              "    }\n",
              "</style>\n",
              "<table border=\"1\" class=\"dataframe\">\n",
              "  <thead>\n",
              "    <tr style=\"text-align: right;\">\n",
              "      <th></th>\n",
              "      <th>Open</th>\n",
              "    </tr>\n",
              "  </thead>\n",
              "  <tbody>\n",
              "    <tr>\n",
              "      <th>count</th>\n",
              "      <td>22943.000000</td>\n",
              "    </tr>\n",
              "    <tr>\n",
              "      <th>mean</th>\n",
              "      <td>41.677609</td>\n",
              "    </tr>\n",
              "    <tr>\n",
              "      <th>std</th>\n",
              "      <td>45.553066</td>\n",
              "    </tr>\n",
              "    <tr>\n",
              "      <th>min</th>\n",
              "      <td>0.468906</td>\n",
              "    </tr>\n",
              "    <tr>\n",
              "      <th>25%</th>\n",
              "      <td>1.396652</td>\n",
              "    </tr>\n",
              "    <tr>\n",
              "      <th>50%</th>\n",
              "      <td>17.738792</td>\n",
              "    </tr>\n",
              "    <tr>\n",
              "      <th>75%</th>\n",
              "      <td>79.496727</td>\n",
              "    </tr>\n",
              "    <tr>\n",
              "      <th>max</th>\n",
              "      <td>194.089996</td>\n",
              "    </tr>\n",
              "  </tbody>\n",
              "</table>\n",
              "</div>\n",
              "    <div class=\"colab-df-buttons\">\n",
              "\n",
              "  <div class=\"colab-df-container\">\n",
              "    <button class=\"colab-df-convert\" onclick=\"convertToInteractive('df-58bca9f1-9d24-434a-a940-6eada3d0f3fa')\"\n",
              "            title=\"Convert this dataframe to an interactive table.\"\n",
              "            style=\"display:none;\">\n",
              "\n",
              "  <svg xmlns=\"http://www.w3.org/2000/svg\" height=\"24px\" viewBox=\"0 -960 960 960\">\n",
              "    <path d=\"M120-120v-720h720v720H120Zm60-500h600v-160H180v160Zm220 220h160v-160H400v160Zm0 220h160v-160H400v160ZM180-400h160v-160H180v160Zm440 0h160v-160H620v160ZM180-180h160v-160H180v160Zm440 0h160v-160H620v160Z\"/>\n",
              "  </svg>\n",
              "    </button>\n",
              "\n",
              "  <style>\n",
              "    .colab-df-container {\n",
              "      display:flex;\n",
              "      gap: 12px;\n",
              "    }\n",
              "\n",
              "    .colab-df-convert {\n",
              "      background-color: #E8F0FE;\n",
              "      border: none;\n",
              "      border-radius: 50%;\n",
              "      cursor: pointer;\n",
              "      display: none;\n",
              "      fill: #1967D2;\n",
              "      height: 32px;\n",
              "      padding: 0 0 0 0;\n",
              "      width: 32px;\n",
              "    }\n",
              "\n",
              "    .colab-df-convert:hover {\n",
              "      background-color: #E2EBFA;\n",
              "      box-shadow: 0px 1px 2px rgba(60, 64, 67, 0.3), 0px 1px 3px 1px rgba(60, 64, 67, 0.15);\n",
              "      fill: #174EA6;\n",
              "    }\n",
              "\n",
              "    .colab-df-buttons div {\n",
              "      margin-bottom: 4px;\n",
              "    }\n",
              "\n",
              "    [theme=dark] .colab-df-convert {\n",
              "      background-color: #3B4455;\n",
              "      fill: #D2E3FC;\n",
              "    }\n",
              "\n",
              "    [theme=dark] .colab-df-convert:hover {\n",
              "      background-color: #434B5C;\n",
              "      box-shadow: 0px 1px 3px 1px rgba(0, 0, 0, 0.15);\n",
              "      filter: drop-shadow(0px 1px 2px rgba(0, 0, 0, 0.3));\n",
              "      fill: #FFFFFF;\n",
              "    }\n",
              "  </style>\n",
              "\n",
              "    <script>\n",
              "      const buttonEl =\n",
              "        document.querySelector('#df-58bca9f1-9d24-434a-a940-6eada3d0f3fa button.colab-df-convert');\n",
              "      buttonEl.style.display =\n",
              "        google.colab.kernel.accessAllowed ? 'block' : 'none';\n",
              "\n",
              "      async function convertToInteractive(key) {\n",
              "        const element = document.querySelector('#df-58bca9f1-9d24-434a-a940-6eada3d0f3fa');\n",
              "        const dataTable =\n",
              "          await google.colab.kernel.invokeFunction('convertToInteractive',\n",
              "                                                    [key], {});\n",
              "        if (!dataTable) return;\n",
              "\n",
              "        const docLinkHtml = 'Like what you see? Visit the ' +\n",
              "          '<a target=\"_blank\" href=https://colab.research.google.com/notebooks/data_table.ipynb>data table notebook</a>'\n",
              "          + ' to learn more about interactive tables.';\n",
              "        element.innerHTML = '';\n",
              "        dataTable['output_type'] = 'display_data';\n",
              "        await google.colab.output.renderOutput(dataTable, element);\n",
              "        const docLink = document.createElement('div');\n",
              "        docLink.innerHTML = docLinkHtml;\n",
              "        element.appendChild(docLink);\n",
              "      }\n",
              "    </script>\n",
              "  </div>\n",
              "\n",
              "\n",
              "<div id=\"df-56003000-991c-4c8e-a137-0f8804902fad\">\n",
              "  <button class=\"colab-df-quickchart\" onclick=\"quickchart('df-56003000-991c-4c8e-a137-0f8804902fad')\"\n",
              "            title=\"Suggest charts\"\n",
              "            style=\"display:none;\">\n",
              "\n",
              "<svg xmlns=\"http://www.w3.org/2000/svg\" height=\"24px\"viewBox=\"0 0 24 24\"\n",
              "     width=\"24px\">\n",
              "    <g>\n",
              "        <path d=\"M19 3H5c-1.1 0-2 .9-2 2v14c0 1.1.9 2 2 2h14c1.1 0 2-.9 2-2V5c0-1.1-.9-2-2-2zM9 17H7v-7h2v7zm4 0h-2V7h2v10zm4 0h-2v-4h2v4z\"/>\n",
              "    </g>\n",
              "</svg>\n",
              "  </button>\n",
              "\n",
              "<style>\n",
              "  .colab-df-quickchart {\n",
              "      --bg-color: #E8F0FE;\n",
              "      --fill-color: #1967D2;\n",
              "      --hover-bg-color: #E2EBFA;\n",
              "      --hover-fill-color: #174EA6;\n",
              "      --disabled-fill-color: #AAA;\n",
              "      --disabled-bg-color: #DDD;\n",
              "  }\n",
              "\n",
              "  [theme=dark] .colab-df-quickchart {\n",
              "      --bg-color: #3B4455;\n",
              "      --fill-color: #D2E3FC;\n",
              "      --hover-bg-color: #434B5C;\n",
              "      --hover-fill-color: #FFFFFF;\n",
              "      --disabled-bg-color: #3B4455;\n",
              "      --disabled-fill-color: #666;\n",
              "  }\n",
              "\n",
              "  .colab-df-quickchart {\n",
              "    background-color: var(--bg-color);\n",
              "    border: none;\n",
              "    border-radius: 50%;\n",
              "    cursor: pointer;\n",
              "    display: none;\n",
              "    fill: var(--fill-color);\n",
              "    height: 32px;\n",
              "    padding: 0;\n",
              "    width: 32px;\n",
              "  }\n",
              "\n",
              "  .colab-df-quickchart:hover {\n",
              "    background-color: var(--hover-bg-color);\n",
              "    box-shadow: 0 1px 2px rgba(60, 64, 67, 0.3), 0 1px 3px 1px rgba(60, 64, 67, 0.15);\n",
              "    fill: var(--button-hover-fill-color);\n",
              "  }\n",
              "\n",
              "  .colab-df-quickchart-complete:disabled,\n",
              "  .colab-df-quickchart-complete:disabled:hover {\n",
              "    background-color: var(--disabled-bg-color);\n",
              "    fill: var(--disabled-fill-color);\n",
              "    box-shadow: none;\n",
              "  }\n",
              "\n",
              "  .colab-df-spinner {\n",
              "    border: 2px solid var(--fill-color);\n",
              "    border-color: transparent;\n",
              "    border-bottom-color: var(--fill-color);\n",
              "    animation:\n",
              "      spin 1s steps(1) infinite;\n",
              "  }\n",
              "\n",
              "  @keyframes spin {\n",
              "    0% {\n",
              "      border-color: transparent;\n",
              "      border-bottom-color: var(--fill-color);\n",
              "      border-left-color: var(--fill-color);\n",
              "    }\n",
              "    20% {\n",
              "      border-color: transparent;\n",
              "      border-left-color: var(--fill-color);\n",
              "      border-top-color: var(--fill-color);\n",
              "    }\n",
              "    30% {\n",
              "      border-color: transparent;\n",
              "      border-left-color: var(--fill-color);\n",
              "      border-top-color: var(--fill-color);\n",
              "      border-right-color: var(--fill-color);\n",
              "    }\n",
              "    40% {\n",
              "      border-color: transparent;\n",
              "      border-right-color: var(--fill-color);\n",
              "      border-top-color: var(--fill-color);\n",
              "    }\n",
              "    60% {\n",
              "      border-color: transparent;\n",
              "      border-right-color: var(--fill-color);\n",
              "    }\n",
              "    80% {\n",
              "      border-color: transparent;\n",
              "      border-right-color: var(--fill-color);\n",
              "      border-bottom-color: var(--fill-color);\n",
              "    }\n",
              "    90% {\n",
              "      border-color: transparent;\n",
              "      border-bottom-color: var(--fill-color);\n",
              "    }\n",
              "  }\n",
              "</style>\n",
              "\n",
              "  <script>\n",
              "    async function quickchart(key) {\n",
              "      const quickchartButtonEl =\n",
              "        document.querySelector('#' + key + ' button');\n",
              "      quickchartButtonEl.disabled = true;  // To prevent multiple clicks.\n",
              "      quickchartButtonEl.classList.add('colab-df-spinner');\n",
              "      try {\n",
              "        const charts = await google.colab.kernel.invokeFunction(\n",
              "            'suggestCharts', [key], {});\n",
              "      } catch (error) {\n",
              "        console.error('Error during call to suggestCharts:', error);\n",
              "      }\n",
              "      quickchartButtonEl.classList.remove('colab-df-spinner');\n",
              "      quickchartButtonEl.classList.add('colab-df-quickchart-complete');\n",
              "    }\n",
              "    (() => {\n",
              "      let quickchartButtonEl =\n",
              "        document.querySelector('#df-56003000-991c-4c8e-a137-0f8804902fad button');\n",
              "      quickchartButtonEl.style.display =\n",
              "        google.colab.kernel.accessAllowed ? 'block' : 'none';\n",
              "    })();\n",
              "  </script>\n",
              "</div>\n",
              "\n",
              "    </div>\n",
              "  </div>\n"
            ],
            "application/vnd.google.colaboratory.intrinsic+json": {
              "type": "dataframe",
              "summary": "{\n  \"name\": \"hist\",\n  \"rows\": 8,\n  \"fields\": [\n    {\n      \"column\": \"Open\",\n      \"properties\": {\n        \"dtype\": \"number\",\n        \"std\": 8092.603486618915,\n        \"min\": 0.4689059667875198,\n        \"max\": 22943.0,\n        \"num_unique_values\": 8,\n        \"samples\": [\n          41.67760859231092,\n          17.738792419433594,\n          22943.0\n        ],\n        \"semantic_type\": \"\",\n        \"description\": \"\"\n      }\n    }\n  ]\n}"
            }
          },
          "metadata": {},
          "execution_count": 98
        }
      ]
    },
    {
      "cell_type": "markdown",
      "source": [
        "## Moving Average Derivation"
      ],
      "metadata": {
        "id": "wQ64TnnB7Izn"
      }
    },
    {
      "cell_type": "markdown",
      "source": [
        "Suppose we have a time series:\n",
        "\n",
        "\\begin{align}\n",
        "x_t \\hspace{2cm} t=0,1,..,T-1\n",
        "\\end{align}\n",
        "\n",
        "\n",
        "And its cumulative sum:\n",
        "\n",
        "\\begin{align}\n",
        "c_t = \\sum_{i=0}^t x_i\n",
        "\\end{align}\n",
        "\n",
        "And we want to compute the moving average at time step $t$, by considering the $w$ previous time steps ($t$ is also included):\n",
        "\n",
        "\\begin{align}\n",
        "\\overline{x}_t = \\frac{1}{w} \\sum_{i = t-w+1}^t x_i \\hspace{2cm} \\, for \\, t = w-1,...,T-1.\n",
        "\\end{align}\n",
        "\n",
        "The cumulative sum at time $t$ can be written as:\n",
        "\n",
        "\\begin{align}\n",
        "c_t = \\sum_{i=0}^t x_i = \\sum_{i=0}^{t-w} x_i \\, + \\, \\sum_{i=t-w+1}^{t} x_i = c_{t-w} \\, + \\, w\\, \\overline{x}_t\n",
        "\\end{align}\n",
        "\n",
        "The previous formula is defined for $t=w,...,T-1$ as can be seen by inspecting the upper extreme of the first sum and considering that $x_t$ is definited for $t\\ge0$, therefore:\n",
        "\n",
        "\\begin{align}\n",
        "\\overline{x}_t = \\frac{1}{w}(c_t - c_{t-w}) \\hspace{2cm} t=w,...,T-1.\n",
        "\\end{align}\n",
        "\n",
        "To find $\\overline{x}_t$ at time $t=w-1$ we use the definition:\n",
        "\n",
        "\\begin{align}\n",
        "\\overline{x}_{w-1} = \\frac{1}{w} \\sum_{i = (w-1)-w+1}^{w-1} x_i = \\frac{1}{w} \\sum_{i = 0}^{w-1} x_i = \\frac{1}{w} c_{w-1}.\n",
        "\\end{align}\n",
        "\n",
        "Overall, the moving average can be computed via:\n",
        "\n",
        "\\begin{cases}\n",
        "      \\overline{x}_{w-1} = \\frac{1}{w} c_{w-1}\\\\\n",
        "      \\overline{x}_t = \\frac{1}{w}(c_t - c_{t-w}) \\hspace{2cm} t=w,...,T-1.\n",
        "\\end{cases}\n"
      ],
      "metadata": {
        "id": "ptX5plp6vq0U"
      }
    },
    {
      "cell_type": "markdown",
      "source": [
        "### Algorithm definition\n",
        "\n",
        "If we want to use a unique array called mov we can implement the following algorithm:\n",
        "\n",
        "1. Define variable **mov** as the cumulative average.\n",
        "2. Modify the elemnts of the array mov from the index $w$ by using\n",
        "   the difference:\n",
        "   \n",
        "   **mov[w:] = mov[w:] - mov[:-w]**\n",
        "\n",
        "3. Note that mov[w-1] has still the initial value equal to the\n",
        "   cumulative sum at $t=w-1$ therefore we return the array:\n",
        "\n",
        "   **(1/w)  mov[w-1:]**\n",
        "\n",
        "\n",
        "This algorithm is implemented in the function moving_average_forecast:"
      ],
      "metadata": {
        "id": "8Uw-SQJs7IQq"
      }
    },
    {
      "cell_type": "code",
      "source": [
        "def moving_average_forecast(series, window_size):\n",
        "  \"\"\"Forecasts the mean of the last few values.\n",
        "     If window_size=1, then this is equivalent to naive forecast\n",
        "     This implementation is *much* faster than the previous one\"\"\"\n",
        "  mov = np.cumsum(series)\n",
        "\n",
        "  # This is necessary because to subtract two pandas series it is necessary\n",
        "  # That both series have the same index. Therefore we force the series\n",
        "  # mov[window_size:] and mov[:-window_size] to have the same index\n",
        "\n",
        "  index = pd.Index(\n",
        "      list(\n",
        "          range(mov.size - window_size)\n",
        "      )\n",
        "  )\n",
        "\n",
        "  mov[window_size:] = mov[window_size:].set_axis(index)- mov[:-window_size].set_axis(index)\n",
        "\n",
        "  return mov[window_size - 1:] / window_size"
      ],
      "metadata": {
        "id": "5UJgiJvF7LeU"
      },
      "execution_count": 99,
      "outputs": []
    },
    {
      "cell_type": "code",
      "source": [
        "window_size = 1\n",
        "\n",
        "mov_average_col = \"Open_mov_avg\"\n",
        "hist[mov_average_col] = moving_average_forecast(hist[\"Open\"], window_size)"
      ],
      "metadata": {
        "id": "APPB7v6A7M3q"
      },
      "execution_count": 100,
      "outputs": []
    },
    {
      "cell_type": "code",
      "source": [
        "hist.reset_index().plot(x=\"Date\", y= [\"Open\", \"Open_mov_avg\"])"
      ],
      "metadata": {
        "id": "sUI-RUO38Ppj",
        "outputId": "8cc3dc2b-88bb-4a27-c6ef-c659703e463e",
        "colab": {
          "base_uri": "https://localhost:8080/",
          "height": 467
        }
      },
      "execution_count": 101,
      "outputs": [
        {
          "output_type": "execute_result",
          "data": {
            "text/plain": [
              "<Axes: xlabel='Date'>"
            ]
          },
          "metadata": {},
          "execution_count": 101
        },
        {
          "output_type": "display_data",
          "data": {
            "text/plain": [
              "<Figure size 640x480 with 1 Axes>"
            ],
            "image/png": "[encoded data removed]"
          },
          "metadata": {}
        }
      ]
    },
    {
      "cell_type": "markdown",
      "source": [
        "### First Difference\n",
        "\n",
        "The first difference is defined as:\n",
        "$d_t = x_t - x_{t-q} \\hspace{2cm} t=q,..., T-1$\n",
        "\n",
        "Therefore it can be implemenentate in the function diff_series following the algoritm:\n",
        "\n",
        "1. Define the original series as the variable **series**\n",
        "\n",
        "2. Return the difference **series[q:] - series[:-q]**"
      ],
      "metadata": {
        "id": "_8frXHH3D32a"
      }
    },
    {
      "cell_type": "code",
      "source": [
        "def diff_series(series, q):\n",
        "  original_index = series.index.copy()\n",
        "\n",
        "  # saving te first q values in cae we want to recnstruct te original\n",
        "  # series\n",
        "  first_q_values = series[:q].to_numpy(copy=True)\n",
        "\n",
        "  # Removal of the first t0-1 indices\n",
        "  original_index = original_index.delete(list(range(q)))\n",
        "\n",
        "  # conversion into numpy array to avoid indices mismatches\n",
        "  series = series[q:].to_numpy(copy=True) - series[:-q].to_numpy(copy=True)\n",
        "\n",
        "  # Returning the final pandas series from the previous numpy array\n",
        "  return pd.Series(series, index=original_index), first_q_values, original_index"
      ],
      "metadata": {
        "id": "3KRIoMJpT1yw"
      },
      "execution_count": 102,
      "outputs": []
    },
    {
      "cell_type": "code",
      "source": [
        "hist[\"Open_diff\"], first_q_values, original_index =  diff_series(hist[\"Open\"], 3)"
      ],
      "metadata": {
        "id": "5ac5AC97Ufkw"
      },
      "execution_count": 103,
      "outputs": []
    },
    {
      "cell_type": "code",
      "source": [
        "hist.reset_index().plot(x=\"Date\", y=\"Open_diff\")"
      ],
      "metadata": {
        "id": "Y7xPIyCGaZjq",
        "outputId": "0712e24f-511c-4405-ecbc-c3da0b24f6e4",
        "colab": {
          "base_uri": "https://localhost:8080/",
          "height": 467
        }
      },
      "execution_count": 104,
      "outputs": [
        {
          "output_type": "execute_result",
          "data": {
            "text/plain": [
              "<Axes: xlabel='Date'>"
            ]
          },
          "metadata": {},
          "execution_count": 104
        },
        {
          "output_type": "display_data",
          "data": {
            "text/plain": [
              "<Figure size 640x480 with 1 Axes>"
            ],
            "image/png": "[encoded data removed]"
          },
          "metadata": {}
        }
      ]
    },
    {
      "cell_type": "markdown",
      "source": [
        "### Series Integration"
      ],
      "metadata": {
        "id": "Lqa3r5_XPQTk"
      }
    },
    {
      "cell_type": "markdown",
      "source": [
        "In order to reconstruct the original series from the differenced one we consider the first difference written for te first term of te original series as:\n",
        "\n",
        "$x_{t_0+q}=  x_{t_0} + d_{t_0+q} \\hspace{1cm} t_0=0, ...,q-1$\n",
        "\n",
        "$x_{t_0+2q}=  x_{t_0 + q} + d_{t_0+2q} \\hspace{1cm} t_0=0, ...,q-1$\n",
        "\n",
        "Therefore:\n",
        "\n",
        "$x_{t_0+2q}=  x_{t_0} + d_{t_0+q} + d_{t_0+2q} \\hspace{1cm} t_0=0, ...,q-1$\n",
        "\n",
        "Reasoning by induction we find then:\n",
        "\n",
        "$x_{t_0+nq}=  x_{t_0} + \\sum_{k=1}^n d_{t_0+kq}  \\hspace{1cm} t_0=0, ...,q-1$\n",
        "\n",
        "if we definw the $q$ subseries:\n",
        "\n",
        "$d^0 = d_{t_0 + kq}  \\hspace{1cm} k=1,...,n$ we apply cumulative sum and add $x_{t_0}$ we find the subseries $x_{t_0+nq}$. All the $q$ subseries (obtained by changing $t_0$) can be then used to reconstruct the full original series $x_t$.\n"
      ],
      "metadata": {
        "id": "tdQZp5F0PgQn"
      }
    },
    {
      "cell_type": "code",
      "source": [
        "def integrate_series(first_q_values, series):\n",
        "\n",
        "  \"\"\"Function to reconstruct a differenced time series given the first\n",
        "     q  values of the original series\"\"\"\n",
        "\n",
        "  original_index = series.index\n",
        "\n",
        "  q = first_q_values.size\n",
        "  T = series.size\n",
        "\n",
        "  # Creation of an annay of zeros with the final size of the time series\n",
        "  result = np.zeros(shape= T)\n",
        "\n",
        "  # Restablishing the first q values of the original series\n",
        "  result[:q] = first_q_values\n",
        "\n",
        "  # Creation of the q subseries\n",
        "  for t0 in range(q):\n",
        "    sub_series = series[t0+q::q].to_numpy()\n",
        "\n",
        "    sub_series = first_q_values[t0] + np.cumsum(sub_series)\n",
        "\n",
        "    # Population of the subseries\n",
        "    for k in range(len(sub_series)):\n",
        "      result[t0 + (k+1)*q] = sub_series[k]\n",
        "\n",
        "  return pd.Series(result, index = original_index)"
      ],
      "metadata": {
        "id": "Mu_van-HPsNi"
      },
      "execution_count": 105,
      "outputs": []
    },
    {
      "cell_type": "code",
      "source": [
        "hist[\"Open_diff_integrated\"] = integrate_series(first_q_values, hist[\"Open_diff\"])"
      ],
      "metadata": {
        "id": "RFwVXxsOWXXH"
      },
      "execution_count": 106,
      "outputs": []
    },
    {
      "cell_type": "code",
      "source": [
        "hist.reset_index().plot(x=\"Date\", y= [\"Open\", \"Open_diff_integrated\"])"
      ],
      "metadata": {
        "colab": {
          "base_uri": "https://localhost:8080/",
          "height": 467
        },
        "id": "WE2kY8Emi3Kt",
        "outputId": "5ce3ac63-25d0-409f-b543-7b62bca5634d"
      },
      "execution_count": 107,
      "outputs": [
        {
          "output_type": "execute_result",
          "data": {
            "text/plain": [
              "<Axes: xlabel='Date'>"
            ]
          },
          "metadata": {},
          "execution_count": 107
        },
        {
          "output_type": "display_data",
          "data": {
            "text/plain": [
              "<Figure size 640x480 with 1 Axes>"
            ],
            "image/png": "[encoded data removed]"
          },
          "metadata": {}
        }
      ]
    },
    {
      "cell_type": "markdown",
      "source": [
        "## Training and Validation Test Split"
      ],
      "metadata": {
        "id": "vd4-L457Rvrb"
      }
    },
    {
      "cell_type": "code",
      "source": [
        "number_time_steps = hist.shape[0]\n",
        "train_perc = 80.0\n",
        "train_index = int(np.floor(number_time_steps * train_perc/100.0))\n",
        "\n",
        "train_set = hist.iloc[:train_index]\n",
        "val_set = hist.iloc[train_index:]"
      ],
      "metadata": {
        "id": "34UuADQ1Rzks"
      },
      "execution_count": 108,
      "outputs": []
    },
    {
      "cell_type": "markdown",
      "source": [
        "## Naive Forecast\n",
        "\n",
        "Naive forecast predicts value at time $t+1$ as equal to the value of the series at time $t$. This will be our baseline model to evaluate all the models against it. Note that naive forecast $\\hat{x}_{t+1}$ is equivalent to moving average $\\overline{x}_t$ at time $t$ with $w=1$ in fact:\n",
        "\n",
        "\\begin{align}\n",
        "\\hat{x}_{t+1} \\approx \\overline{x}_t = \\frac{1}{1} \\sum_{i = t-1+1}^t x_i = \\sum_{i = t}^t x_i = x_{t}\n",
        "\\end{align}\n"
      ],
      "metadata": {
        "id": "NNYAFbLdU0Lc"
      }
    },
    {
      "cell_type": "code",
      "source": [
        "data_one_time_tep_before = hist[\"Open\"][train_index - 1:-1].values\n",
        "\n",
        "val_set[\"naive_forecast\"] = pd.Series(data = data_one_time_tep_before, index =val_set.index )"
      ],
      "metadata": {
        "id": "oYlW0rYiUxbb",
        "outputId": "8ea20dd6-e25a-419e-80bd-5bdaaddf18de",
        "colab": {
          "base_uri": "https://localhost:8080/"
        }
      },
      "execution_count": 109,
      "outputs": [
        {
          "output_type": "stream",
          "name": "stderr",
          "text": [
            "<ipython-input-109-c56b9a4f2e39>:3: SettingWithCopyWarning: \n",
            "A value is trying to be set on a copy of a slice from a DataFrame.\n",
            "Try using .loc[row_indexer,col_indexer] = value instead\n",
            "\n",
            "See the caveats in the documentation: https://pandas.pydata.org/pandas-docs/stable/user_guide/indexing.html#returning-a-view-versus-a-copy\n",
            "  val_set[\"naive_forecast\"] = pd.Series(data = data_one_time_tep_before, index =val_set.index )\n"
          ]
        }
      ]
    },
    {
      "cell_type": "code",
      "source": [
        "val_set.reset_index().plot(x=\"Date\",\n",
        "                           y=[\"Open\", \"naive_forecast\"],\n",
        "                           xlim = ('2024-10-01 00:00:00-04:00', '2024-10-15 00:00:00-04:00'),\n",
        "                           ylim = (175, 200))"
      ],
      "metadata": {
        "id": "KPYVoz_EZtsc",
        "outputId": "e2704302-4574-4cbb-8efc-4792ca748de1",
        "colab": {
          "base_uri": "https://localhost:8080/",
          "height": 473
        }
      },
      "execution_count": 110,
      "outputs": [
        {
          "output_type": "execute_result",
          "data": {
            "text/plain": [
              "<Axes: xlabel='Date'>"
            ]
          },
          "metadata": {},
          "execution_count": 110
        },
        {
          "output_type": "display_data",
          "data": {
            "text/plain": [
              "<Figure size 640x480 with 1 Axes>"
            ],
            "image/png": "[encoded data removed]"
          },
          "metadata": {}
        }
      ]
    },
    {
      "cell_type": "code",
      "source": [
        "errors = val_set[\"Open\"] - val_set[\"naive_forecast\"]\n",
        "abs_errors = np.abs(errors)\n",
        "MAE = abs_errors.mean()\n",
        "print(f\"The Mean Absolute Error (MAE) for the naive forecast is {MAE}\")"
      ],
      "metadata": {
        "colab": {
          "base_uri": "https://localhost:8080/"
        },
        "id": "KJaw9reeruA9",
        "outputId": "d369dfc2-62e1-41cd-a3e3-1d59caae1580"
      },
      "execution_count": 111,
      "outputs": [
        {
          "output_type": "stream",
          "name": "stdout",
          "text": [
            "The Mean Absolute Error (MAE) for the naive forecast is 0.6979554442755856\n"
          ]
        }
      ]
    },
    {
      "cell_type": "markdown",
      "source": [
        "## Moving Average Forecast"
      ],
      "metadata": {
        "id": "50kLxyyX4v1v"
      }
    },
    {
      "cell_type": "markdown",
      "source": [
        "### Fourier Transform\n",
        "Fourier transform and Power Spectral Density (PSD) are used to find seasonality in the timeseries. The frequencies of seasonality may be identifying by peaks in the PSD."
      ],
      "metadata": {
        "id": "g0Jdp0R542qg"
      }
    },
    {
      "cell_type": "code",
      "source": [
        "from scipy.fft import fft, ifft"
      ],
      "metadata": {
        "id": "8K5jBK-N09pV"
      },
      "execution_count": 112,
      "outputs": []
    },
    {
      "cell_type": "code",
      "source": [
        "# Number of time steps\n",
        "N = equispaced_index.size\n",
        "\n",
        "# frequencies in cycles/delta_t. Only the positive frequencies are taken\n",
        "# because the function is real and the FFT is symmetric\n",
        "frequencies = fftfreq(N, d = 1)[:N//2]\n",
        "\n",
        "# Discrete Fourier Transform computation. Only te values with Re[ft] >= 0 are taken\n",
        "ft = fft(hist[\"Open\"].values)[:N//2]\n",
        "\n",
        "max_frequency = np.max(frequencies)\n",
        "\n",
        "# POwer Spectral Density (fft^2)\n",
        "psd = np.square(np.abs(ft))\n",
        "\n",
        "import matplotlib.pyplot as plt\n",
        "\n",
        "plt.xlim(-0.005,max_frequency)\n",
        "\n",
        "plt.yscale(\"log\")\n",
        "plt.plot(frequencies, psd)"
      ],
      "metadata": {
        "colab": {
          "base_uri": "https://localhost:8080/",
          "height": 448
        },
        "id": "fQltJF7a4-qM",
        "outputId": "fea00a21-5d7c-467d-801c-24bb35483604"
      },
      "execution_count": 113,
      "outputs": [
        {
          "output_type": "execute_result",
          "data": {
            "text/plain": [
              "[<matplotlib.lines.Line2D at 0x7d1b37005f60>]"
            ]
          },
          "metadata": {},
          "execution_count": 113
        },
        {
          "output_type": "display_data",
          "data": {
            "text/plain": [
              "<Figure size 640x480 with 1 Axes>"
            ],
            "image/png": "[encoded data removed]"
          },
          "metadata": {}
        }
      ]
    },
    {
      "cell_type": "markdown",
      "source": [
        "Therefore there is no seasonality in the time series. Let's consider the moving average in the validation set with varying window size :"
      ],
      "metadata": {
        "id": "3ZAOJ6XJbP18"
      }
    },
    {
      "cell_type": "code",
      "source": [
        "windows = [1, 7, 30]\n",
        "\n",
        "true_val = val_set[\"Open\"]\n",
        "\n",
        "\n",
        "plt.plot(val_set.index, true_val, label = \"Open\")\n",
        "\n",
        "for w in windows:\n",
        "\n",
        "  mov_val = moving_average_forecast(hist[\"Open\"][train_index - w:], w)\n",
        "  pred_val_index = mov_val.index + delta_t\n",
        "  pred_val = pd.Series(mov_val.values, index = pred_val_index)[:-1]\n",
        "\n",
        "  errors = true_val - pred_val\n",
        "  abs_errors = np.abs(errors)\n",
        "  MAE = abs_errors.mean()\n",
        "\n",
        "  label = f\"{str(w)}, MAE = {MAE:{4}.{2}}\"\n",
        "\n",
        "  plt.plot(mov_val.index, mov_val, label = label)\n",
        "\n",
        "plt.legend(loc=\"upper left\")\n",
        "plt.legend(fontsize = 8.0)\n",
        "plt.show()"
      ],
      "metadata": {
        "colab": {
          "base_uri": "https://localhost:8080/",
          "height": 430
        },
        "id": "lzS7QWqlHK8E",
        "outputId": "3622fc10-6968-44bd-9aba-b25ed96aaacc"
      },
      "execution_count": 114,
      "outputs": [
        {
          "output_type": "display_data",
          "data": {
            "text/plain": [
              "<Figure size 640x480 with 1 Axes>"
            ],
            "image/png": "[encoded data removed]"
          },
          "metadata": {}
        }
      ]
    },
    {
      "cell_type": "markdown",
      "source": [
        "## Machine Learning"
      ],
      "metadata": {
        "id": "boLmtrqRGd6f"
      }
    },
    {
      "cell_type": "markdown",
      "source": [
        "## Stationarity Check"
      ],
      "metadata": {
        "id": "9ZCAUi1LyyX-"
      }
    },
    {
      "cell_type": "code",
      "source": [
        "from statsmodels.tsa.stattools import adfuller"
      ],
      "metadata": {
        "id": "bIsnfexvzJl2"
      },
      "execution_count": 115,
      "outputs": []
    },
    {
      "cell_type": "code",
      "source": [
        "diff = hist[\"Open_diff\"][~hist[\"Open_diff\"].isna()].values"
      ],
      "metadata": {
        "id": "viKBqc3LzFV6"
      },
      "execution_count": 116,
      "outputs": []
    },
    {
      "cell_type": "code",
      "source": [
        "ADF = adfuller(diff, regression = 'c')\n",
        "test_statistic = ADF[0]\n",
        "p_value = ADF[1]"
      ],
      "metadata": {
        "id": "QvfNSdVFyxOM"
      },
      "execution_count": 117,
      "outputs": []
    },
    {
      "cell_type": "code",
      "source": [
        "significance = 0.05\n",
        "if p_value < significance:\n",
        "  msg = \"The series is stationary because there is not unit root in the series \"\n",
        "  msg += f\"\\nbased on a significance of {significance*100}% (Alternate Hypothesis).\"\n",
        "\n",
        "  print(msg)"
      ],
      "metadata": {
        "colab": {
          "base_uri": "https://localhost:8080/"
        },
        "id": "c9sUFrKmy69i",
        "outputId": "7011d735-98f9-47ab-94e6-bde53ffa0bc8"
      },
      "execution_count": 118,
      "outputs": [
        {
          "output_type": "stream",
          "name": "stdout",
          "text": [
            "The series is stationary because there is not unit root in the series \n",
            "based on a significance of 5.0% (Alternate Hypothesis).\n"
          ]
        }
      ]
    },
    {
      "cell_type": "markdown",
      "source": [
        "### Partial Auto Correlation Function (PACF)"
      ],
      "metadata": {
        "id": "gQQYi5p788NL"
      }
    },
    {
      "cell_type": "code",
      "source": [
        "from statsmodels.graphics.tsaplots import plot_pacf, plot_acf"
      ],
      "metadata": {
        "id": "YoFCrdvn9FAQ"
      },
      "execution_count": 119,
      "outputs": []
    },
    {
      "cell_type": "code",
      "source": [
        "def plot_PACF(series, confidence=0.95, lags=40, fig_width=12, fig_height=6):\n",
        "\n",
        "  \"\"\"Function to plot the partial autcorrelation function\"\"\"\n",
        "  plt.figure(figsize=(fig_width, fig_height))\n",
        "  plot_pacf(series, lags=lags, alpha = 1.0 - confidence)\n",
        "  plt.xlabel('lag')\n",
        "  plt.ylabel('PACF')\n",
        "  plt.show()"
      ],
      "metadata": {
        "id": "vOb0tnq-_zGe"
      },
      "execution_count": 120,
      "outputs": []
    },
    {
      "cell_type": "code",
      "source": [
        "def plot_ACF(series, confidence=0.95, lags=40, fig_width=12, fig_height=6):\n",
        "\n",
        "  \"\"\"Function to plot the autcorrelation function\"\"\"\n",
        "  plt.figure(figsize=(fig_width, fig_height))\n",
        "  plot_acf(series, lags=lags, alpha = 1.0 - confidence)\n",
        "  plt.xlabel('lag')\n",
        "  plt.ylabel('ACF')\n",
        "  plt.show()"
      ],
      "metadata": {
        "id": "X-67690L_01D"
      },
      "execution_count": 121,
      "outputs": []
    },
    {
      "cell_type": "code",
      "source": [
        "plot_PACF(diff)"
      ],
      "metadata": {
        "id": "ghFM6YCiEzzT",
        "outputId": "a80f5f84-919d-4a60-98b1-6ba5019318cf",
        "colab": {
          "base_uri": "https://localhost:8080/",
          "height": 490
        }
      },
      "execution_count": 122,
      "outputs": [
        {
          "output_type": "display_data",
          "data": {
            "text/plain": [
              "<Figure size 1200x600 with 0 Axes>"
            ]
          },
          "metadata": {}
        },
        {
          "output_type": "display_data",
          "data": {
            "text/plain": [
              "<Figure size 640x480 with 1 Axes>"
            ],
            "image/png": "[encoded data removed]"
          },
          "metadata": {}
        }
      ]
    },
    {
      "cell_type": "code",
      "source": [
        "plot_ACF(diff)"
      ],
      "metadata": {
        "id": "WzWCYSUlAB4Y",
        "outputId": "ab1bd72f-3234-47c6-b298-69f59765b4db",
        "colab": {
          "base_uri": "https://localhost:8080/",
          "height": 490
        }
      },
      "execution_count": 123,
      "outputs": [
        {
          "output_type": "display_data",
          "data": {
            "text/plain": [
              "<Figure size 1200x600 with 0 Axes>"
            ]
          },
          "metadata": {}
        },
        {
          "output_type": "display_data",
          "data": {
            "text/plain": [
              "<Figure size 640x480 with 1 Axes>"
            ],
            "image/png": "[encoded data removed]"
          },
          "metadata": {}
        }
      ]
    },
    {
      "cell_type": "markdown",
      "source": [
        "### Time Window\n",
        "\n",
        "We want to forecast the next value of a time series using a time window made of the previous $n_w$ time steps. Each time window will have an initial time represented by the second time instant of the preceding window. For example for window $j$ and $j+1$ we will have:\n",
        "\n",
        "\\begin{aligned}\n",
        "window_j: \\hspace{2cm} t_j, t_{j+1}, ... , t_{j+n_w-1}, \\\\\n",
        "window_{j+1}: \\hspace{2cm} {t_{j+1}}, t_{j+2}, ... , t_{j+n_w}\n",
        "\\end{aligned}\n",
        "\n",
        "In order to train a supervised machine learning model we need a label for each training sample. In this case, we will have that for each window the first $n_{w-1}$ time steps represents the training sample while the last time step $t_{n_w}$ represents the target to predict.\n"
      ],
      "metadata": {
        "id": "9KQ3dFlNGnS9"
      }
    },
    {
      "cell_type": "code",
      "source": [
        "import tensorflow as tf"
      ],
      "metadata": {
        "id": "SS6-xMypGiVi"
      },
      "execution_count": 77,
      "outputs": []
    },
    {
      "cell_type": "code",
      "source": [
        "train_set = train_set.reset_index()[\"Open\"]\n",
        "val_set = val_set.reset_index()[\"Open\"]"
      ],
      "metadata": {
        "id": "Lsav15eOOcz0"
      },
      "execution_count": 124,
      "outputs": []
    },
    {
      "cell_type": "code",
      "source": [
        "# Creation of a tensorflow dataset from list\n",
        "train_set = tf.data.Dataset.from_tensor_slices(train_set.values)\n",
        "val_set = tf.data.Dataset.from_tensor_slices(val_set.values)"
      ],
      "metadata": {
        "id": "COucFAistQG2"
      },
      "execution_count": 125,
      "outputs": []
    },
    {
      "cell_type": "code",
      "source": [
        "samples_per_window = 5\n",
        "# Shift used to make a window starting with the second time step of the previous\n",
        "# window\n",
        "# Drop Remainder is used to obtain all windows with an equal number of samples_per_window\n",
        "# Beacuse ML models expect same number of training examples in each window\n",
        "train_set = train_set.window(size=samples_per_window, shift=1, drop_remainder=True)\n",
        "val_set = val_set.window(size=samples_per_window, shift=1, drop_remainder=True)\n",
        "\n",
        "# Storing te numer of windows into a variable used later to shaffle\n",
        "# the dataset\n",
        "number_of_windows_train = tf.data.experimental.cardinality(train_set).numpy()\n",
        "number_of_windows_val = tf.data.experimental.cardinality(train_set).numpy()"
      ],
      "metadata": {
        "id": "DTXRTeYKudiy"
      },
      "execution_count": 126,
      "outputs": []
    },
    {
      "cell_type": "code",
      "source": [
        "# Printing the structure of the windows for the first\n",
        "# five windows to check data\n",
        "for idx, window in enumerate(train_set.take(5)):\n",
        "  string = f\"WINDOW {idx}: \"\n",
        "  for elem in window:\n",
        "    string += f\"{str(elem.numpy())[:8]} \"\n",
        "\n",
        "  print(string)"
      ],
      "metadata": {
        "id": "OlpOu9svwtNw",
        "outputId": "ffd69c5c-dabe-45be-bf38-b41b33e88358",
        "colab": {
          "base_uri": "https://localhost:8080/"
        }
      },
      "execution_count": 127,
      "outputs": [
        {
          "output_type": "stream",
          "name": "stdout",
          "text": [
            "WINDOW 0: 0.624761 0.619555 0.616431 0.609142 0.609142 \n",
            "WINDOW 1: 0.619555 0.616431 0.609142 0.609142 0.609142 \n",
            "WINDOW 2: 0.616431 0.609142 0.609142 0.609142 0.593523 \n",
            "WINDOW 3: 0.609142 0.609142 0.609142 0.593523 0.592482 \n",
            "WINDOW 4: 0.609142 0.609142 0.593523 0.592482 0.595605 \n"
          ]
        }
      ]
    },
    {
      "cell_type": "code",
      "source": [
        "# Conversion of each window into a tensor.\n",
        "# The batch method takes a number of samples_per_window and create a tensor\n",
        "# The falt_map method run a function on a each dataset part of a nested\n",
        "# dataset\n",
        "\n",
        "train_set = train_set.flat_map(lambda window: window.batch(samples_per_window))\n",
        "val_set = val_set.flat_map(lambda window: window.batch(samples_per_window))"
      ],
      "metadata": {
        "id": "ObL28WuzyMJt"
      },
      "execution_count": 129,
      "outputs": []
    },
    {
      "cell_type": "code",
      "source": [
        "# Printing the tensors that constitute the dataset\n",
        "for idx, window in enumerate(train_set.take(5)):\n",
        "  print(f\"TENSOR {idx}: {window.numpy()}\")"
      ],
      "metadata": {
        "id": "N47D_hHQ7TEl",
        "outputId": "2ad4c480-33f3-4c81-c813-b75b09abc82a",
        "colab": {
          "base_uri": "https://localhost:8080/"
        }
      },
      "execution_count": 130,
      "outputs": [
        {
          "output_type": "stream",
          "name": "stdout",
          "text": [
            "TENSOR 0: [0.62476159 0.61955587 0.61643146 0.60914277 0.60914277]\n",
            "TENSOR 1: [0.61955587 0.61643146 0.60914277 0.60914277 0.60914277]\n",
            "TENSOR 2: [0.61643146 0.60914277 0.60914277 0.60914277 0.59352385]\n",
            "TENSOR 3: [0.60914277 0.60914277 0.60914277 0.59352385 0.59248243]\n",
            "TENSOR 4: [0.60914277 0.60914277 0.59352385 0.59248243 0.59560581]\n"
          ]
        }
      ]
    },
    {
      "cell_type": "code",
      "source": [
        "# We split each tensor into two tensors one representing the input features and\n",
        "# the other the representing the target. The map method maps each tensor, part of\n",
        "# the dataset into a couple of tensors. The first tensor has the first samples_per_window -1\n",
        "# samples while the last has only the last sample\n",
        "\n",
        "train_set = train_set.map(lambda window: (window[:-1], window[-1:]))\n",
        "val_set = val_set.map(lambda window: (window[:-1], window[-1:]))"
      ],
      "metadata": {
        "id": "r9y431Lw9sYs"
      },
      "execution_count": 131,
      "outputs": []
    },
    {
      "cell_type": "code",
      "source": [
        "for input_sample, target_sample in train_set.take(5):\n",
        "  print(f\"INPUT SAMPLE: {input_sample.numpy()} \", f\"TARGET: {target_sample.numpy()}\")"
      ],
      "metadata": {
        "id": "uzR2JDAJBgtU",
        "outputId": "fa5fab88-0903-437e-e0da-4efbabd960ad",
        "colab": {
          "base_uri": "https://localhost:8080/"
        }
      },
      "execution_count": 132,
      "outputs": [
        {
          "output_type": "stream",
          "name": "stdout",
          "text": [
            "INPUT SAMPLE: [0.62476159 0.61955587 0.61643146 0.60914277]  TARGET: [0.60914277]\n",
            "INPUT SAMPLE: [0.61955587 0.61643146 0.60914277 0.60914277]  TARGET: [0.60914277]\n",
            "INPUT SAMPLE: [0.61643146 0.60914277 0.60914277 0.60914277]  TARGET: [0.59352385]\n",
            "INPUT SAMPLE: [0.60914277 0.60914277 0.60914277 0.59352385]  TARGET: [0.59248243]\n",
            "INPUT SAMPLE: [0.60914277 0.60914277 0.59352385 0.59248243]  TARGET: [0.59560581]\n"
          ]
        }
      ]
    },
    {
      "cell_type": "code",
      "source": [
        "# When a ML model is trained it is necessary that the samples are\n",
        "# Independent and and Identically Distributed (IID)\n",
        "# IID can be guaranteed by shuffllying the dataset\n",
        "# therefore the order of the windows in the dataset changes but the structure\n",
        "# of each window remains the same\n",
        "\n",
        "train_set = train_set.shuffle(buffer_size = number_of_windows_train)\n",
        "val_set = train_set.shuffle(buffer_size = number_of_windows_val)"
      ],
      "metadata": {
        "id": "RRVwWrKlByyb"
      },
      "execution_count": 133,
      "outputs": []
    },
    {
      "cell_type": "code",
      "source": [
        "# Showing the shuffled dataset\n",
        "for input_sample, target_sample in train_set.take(5):\n",
        "  print(f\"INPUT SAMPLE: {input_sample.numpy()} \", f\"TARGET: {target_sample.numpy()}\")"
      ],
      "metadata": {
        "id": "ycySSTD1r2F4",
        "outputId": "33d9dc45-e0d7-4ed0-a601-4fdc9c9101d3",
        "colab": {
          "base_uri": "https://localhost:8080/"
        }
      },
      "execution_count": 134,
      "outputs": [
        {
          "output_type": "stream",
          "name": "stdout",
          "text": [
            "INPUT SAMPLE: [0.89150483 0.89150483 0.89150483 0.89488609]  TARGET: [0.89375926]\n",
            "INPUT SAMPLE: [0.56174124 0.56174124 0.57131618 0.5713162 ]  TARGET: [0.58195538]\n",
            "INPUT SAMPLE: [70.02244534 70.58024357 70.43150321 70.09680712]  TARGET: [70.65463875]\n",
            "INPUT SAMPLE: [59.2214661  59.81074509 59.81074509 59.81074509]  TARGET: [59.73710884]\n",
            "INPUT SAMPLE: [1.29641883 1.29006251 1.29641839 1.29324107]  TARGET: [1.27735405]\n"
          ]
        }
      ]
    },
    {
      "cell_type": "code",
      "source": [
        "windows_per_batch = 2\n",
        "\n",
        "# Creating mini batches of windows_per_batch\n",
        "train_set = train_set.batch(windows_per_batch).prefetch(1)\n",
        "val_set = val_set.batch(windows_per_batch).prefetch(1)"
      ],
      "metadata": {
        "id": "yZ_Ug26tv6rS"
      },
      "execution_count": 135,
      "outputs": []
    },
    {
      "cell_type": "code",
      "source": [
        "for idx, (X_train, Y_train) in enumerate(train_set.take(5)):\n",
        "  print(f\"BATCH {idx}:\\nX_train={X_train.numpy()}, Y_train={Y_train.numpy()}\")"
      ],
      "metadata": {
        "id": "qtyJOUhQwtln",
        "outputId": "3ea1d863-10d0-4d14-fa58-fd63509a301c",
        "colab": {
          "base_uri": "https://localhost:8080/"
        }
      },
      "execution_count": 136,
      "outputs": [
        {
          "output_type": "stream",
          "name": "stdout",
          "text": [
            "BATCH 0:\n",
            "X_train=[[11.09099848 11.09099848 11.09099848 11.00485329]\n",
            " [ 0.82541631  0.82172646  0.8340278   0.8340278 ]], Y_train=[[11.02638579]\n",
            " [ 0.8340278 ]]\n",
            "BATCH 1:\n",
            "X_train=[[13.89406927 13.89406927 13.6439349  13.80310619]\n",
            " [ 0.84708438  0.83038061  0.83515304  0.83515304]], Y_train=[[14.00777285]\n",
            " [ 0.83515304]]\n",
            "BATCH 2:\n",
            "X_train=[[0.64465599 0.65108114 0.65108138 0.65108138]\n",
            " [1.26959439 1.29380274 1.32019141 1.30395908]], Y_train=[[0.65108138]\n",
            " [1.30395908]]\n",
            "BATCH 3:\n",
            "X_train=[[0.76037286 0.74828617 0.75048369 0.75048422]\n",
            " [6.0917164  5.92681751 5.92681751 5.92681751]], Y_train=[[0.74608841]\n",
            " [5.93651405]]\n",
            "BATCH 4:\n",
            "X_train=[[0.87831255 0.87462223 0.87462223 0.87462223]\n",
            " [0.76229523 0.76357212 0.76357212 0.76357212]], Y_train=[[0.87462218]\n",
            " [0.75974144]]\n"
          ]
        }
      ]
    },
    {
      "cell_type": "code",
      "source": [
        "for idx, (X_val, Y_val) in enumerate(val_set.take(5)):\n",
        "  print(f\"BATCH {idx}:\\nX_train={X_val.numpy()}, Y_train={Y_val.numpy()}\")"
      ],
      "metadata": {
        "id": "3DqVqvWixQlu",
        "colab": {
          "base_uri": "https://localhost:8080/"
        },
        "outputId": "a2b0ec05-f22f-4762-8cbe-787ab4304c5d"
      },
      "execution_count": 137,
      "outputs": [
        {
          "output_type": "stream",
          "name": "stdout",
          "text": [
            "BATCH 0:\n",
            "X_train=[[100.98507073 100.36521149 100.15855772 101.72308388]\n",
            " [ 11.11252875  11.09099587  11.15560589  11.15560589]], Y_train=[[100.217606  ]\n",
            " [ 11.15560589]]\n",
            "BATCH 1:\n",
            "X_train=[[75.80505647 77.00562859 77.00562859 77.00562859]\n",
            " [88.62413729 88.62413729 88.62413729 88.62413729]], Y_train=[[77.53610052]\n",
            " [89.19320486]]\n",
            "BATCH 2:\n",
            "X_train=[[108.79203351 108.12126053 108.52374019 109.46271892]\n",
            " [ 95.18438617  93.48765867  94.19458954  94.08150759]], Y_train=[[109.46271892]\n",
            " [ 94.08150759]]\n",
            "BATCH 3:\n",
            "X_train=[[70.61745018 70.72898491 71.36116138 71.80742249]\n",
            " [10.38710976 10.28024089 10.28024089 10.28024089]], Y_train=[[70.61744253]\n",
            " [10.38710685]]\n",
            "BATCH 4:\n",
            "X_train=[[58.00473573 58.07554306 57.86317533 57.75698264]\n",
            " [ 1.36022904  1.3464539   1.3464539   1.3464539 ]], Y_train=[[57.75698264]\n",
            " [ 1.34989823]]\n"
          ]
        }
      ]
    },
    {
      "cell_type": "markdown",
      "source": [
        "## Linear Regression Model ( Classical AR Model)"
      ],
      "metadata": {
        "id": "Cd5vQkp0NlKq"
      }
    },
    {
      "cell_type": "code",
      "source": [
        "from keras.models import Sequential\n",
        "from keras.layers import Dense\n",
        "from keras.optimizers import SGD\n",
        "from keras.losses import Huber"
      ],
      "metadata": {
        "id": "6qSNrj6aN0b8"
      },
      "execution_count": 142,
      "outputs": []
    },
    {
      "cell_type": "code",
      "source": [
        "# We create a model with one Dense layer. By default the dense layer\n",
        "# uses a linear activation function for all neurons. Therefore we will\n",
        "# have a linear regression where the features are the previous n_w-1 time\n",
        "# steps and the target is n_w-th time step\n",
        "\n",
        "linear_model = Sequential([\n",
        "  Dense(1, input_shape=[samples_per_window - 1])\n",
        "])"
      ],
      "metadata": {
        "colab": {
          "base_uri": "https://localhost:8080/"
        },
        "id": "kD9pzXOWNTsi",
        "outputId": "8aee9e03-fdda-42e1-b5d3-9176261d026d"
      },
      "execution_count": 152,
      "outputs": [
        {
          "output_type": "stream",
          "name": "stderr",
          "text": [
            "/usr/local/lib/python3.10/dist-packages/keras/src/layers/core/dense.py:87: UserWarning: Do not pass an `input_shape`/`input_dim` argument to a layer. When using Sequential models, prefer using an `Input(shape)` object as the first layer in the model instead.\n",
            "  super().__init__(activity_regularizer=activity_regularizer, **kwargs)\n"
          ]
        }
      ]
    },
    {
      "cell_type": "code",
      "source": [
        "# Optimizer. Stochasting Gradient Descend with learning rate e-05\n",
        "optimizer = SGD(learning_rate=1e-5, momentum=0.9)\n",
        "linear_model.compile(loss=Huber(),\n",
        "              optimizer=optimizer,\n",
        "              metrics=[\"mae\"])"
      ],
      "metadata": {
        "id": "0npJs6kBOziZ"
      },
      "execution_count": 153,
      "outputs": []
    },
    {
      "cell_type": "code",
      "source": [
        "linear_model.fit(train_set, epochs=100, validation_data=val_set)"
      ],
      "metadata": {
        "id": "7X5KgoqgPMpt",
        "outputId": "4ec46c96-9610-4ba8-bfcb-932aad5d56be",
        "colab": {
          "base_uri": "https://localhost:8080/"
        }
      },
      "execution_count": 154,
      "outputs": [
        {
          "output_type": "stream",
          "name": "stdout",
          "text": [
            "Epoch 1/100\n",
            "   9173/Unknown \u001b[1m12s\u001b[0m 1ms/step - loss: 0.4649 - mae: 0.6386"
          ]
        },
        {
          "output_type": "stream",
          "name": "stderr",
          "text": [
            "/usr/lib/python3.10/contextlib.py:153: UserWarning: Your input ran out of data; interrupting training. Make sure that your dataset or generator can generate at least `steps_per_epoch * epochs` batches. You may need to use the `.repeat()` function when building your dataset.\n",
            "  self.gen.throw(typ, value, traceback)\n"
          ]
        },
        {
          "output_type": "stream",
          "name": "stdout",
          "text": [
            "\b\b\b\b\b\b\b\b\b\b\b\b\b\b\b\b\b\b\b\b\b\b\b\b\b\b\b\b\b\b\b\b\b\b\b\b\b\b\b\b\b\b\b\b\b\b\b\b\b\b\b\b\b\b\b\b\b\r\u001b[1m9175/9175\u001b[0m \u001b[32m━━━━━━━━━━━━━━━━━━━━\u001b[0m\u001b[37m\u001b[0m \u001b[1m32s\u001b[0m 3ms/step - loss: 0.4649 - mae: 0.6385 - val_loss: 0.2098 - val_mae: 0.3570\n",
            "Epoch 2/100\n",
            "\u001b[1m9175/9175\u001b[0m \u001b[32m━━━━━━━━━━━━━━━━━━━━\u001b[0m\u001b[37m\u001b[0m \u001b[1m31s\u001b[0m 2ms/step - loss: 0.2705 - mae: 0.4301 - val_loss: 0.4394 - val_mae: 0.6437\n",
            "Epoch 3/100\n",
            "\u001b[1m9175/9175\u001b[0m \u001b[32m━━━━━━━━━━━━━━━━━━━━\u001b[0m\u001b[37m\u001b[0m \u001b[1m22s\u001b[0m 2ms/step - loss: 0.2795 - mae: 0.4426 - val_loss: 0.2236 - val_mae: 0.3833\n",
            "Epoch 4/100\n",
            "\u001b[1m9175/9175\u001b[0m \u001b[32m━━━━━━━━━━━━━━━━━━━━\u001b[0m\u001b[37m\u001b[0m \u001b[1m40s\u001b[0m 2ms/step - loss: 0.2722 - mae: 0.4346 - val_loss: 0.4441 - val_mae: 0.6494\n",
            "Epoch 5/100\n",
            "\u001b[1m9175/9175\u001b[0m \u001b[32m━━━━━━━━━━━━━━━━━━━━\u001b[0m\u001b[37m\u001b[0m \u001b[1m41s\u001b[0m 2ms/step - loss: 0.2608 - mae: 0.4212 - val_loss: 0.1766 - val_mae: 0.2988\n",
            "Epoch 6/100\n",
            "\u001b[1m9175/9175\u001b[0m \u001b[32m━━━━━━━━━━━━━━━━━━━━\u001b[0m\u001b[37m\u001b[0m \u001b[1m39s\u001b[0m 2ms/step - loss: 0.2578 - mae: 0.4180 - val_loss: 0.1884 - val_mae: 0.3254\n",
            "Epoch 7/100\n",
            "\u001b[1m9175/9175\u001b[0m \u001b[32m━━━━━━━━━━━━━━━━━━━━\u001b[0m\u001b[37m\u001b[0m \u001b[1m27s\u001b[0m 3ms/step - loss: 0.2662 - mae: 0.4262 - val_loss: 0.1886 - val_mae: 0.3293\n",
            "Epoch 8/100\n",
            "\u001b[1m9175/9175\u001b[0m \u001b[32m━━━━━━━━━━━━━━━━━━━━\u001b[0m\u001b[37m\u001b[0m \u001b[1m36s\u001b[0m 2ms/step - loss: 0.2543 - mae: 0.4122 - val_loss: 0.1803 - val_mae: 0.3092\n",
            "Epoch 9/100\n",
            "\u001b[1m9175/9175\u001b[0m \u001b[32m━━━━━━━━━━━━━━━━━━━━\u001b[0m\u001b[37m\u001b[0m \u001b[1m21s\u001b[0m 2ms/step - loss: 0.2555 - mae: 0.4134 - val_loss: 0.5064 - val_mae: 0.7207\n",
            "Epoch 10/100\n",
            "\u001b[1m9175/9175\u001b[0m \u001b[32m━━━━━━━━━━━━━━━━━━━━\u001b[0m\u001b[37m\u001b[0m \u001b[1m40s\u001b[0m 2ms/step - loss: 0.2621 - mae: 0.4198 - val_loss: 0.1766 - val_mae: 0.3007\n",
            "Epoch 11/100\n",
            "\u001b[1m9175/9175\u001b[0m \u001b[32m━━━━━━━━━━━━━━━━━━━━\u001b[0m\u001b[37m\u001b[0m \u001b[1m19s\u001b[0m 2ms/step - loss: 0.2598 - mae: 0.4194 - val_loss: 0.1756 - val_mae: 0.3000\n",
            "Epoch 12/100\n",
            "\u001b[1m9175/9175\u001b[0m \u001b[32m━━━━━━━━━━━━━━━━━━━━\u001b[0m\u001b[37m\u001b[0m \u001b[1m22s\u001b[0m 2ms/step - loss: 0.2623 - mae: 0.4215 - val_loss: 0.1731 - val_mae: 0.2893\n",
            "Epoch 13/100\n",
            "\u001b[1m9175/9175\u001b[0m \u001b[32m━━━━━━━━━━━━━━━━━━━━\u001b[0m\u001b[37m\u001b[0m \u001b[1m21s\u001b[0m 2ms/step - loss: 0.2640 - mae: 0.4236 - val_loss: 0.1868 - val_mae: 0.3253\n",
            "Epoch 14/100\n",
            "\u001b[1m9175/9175\u001b[0m \u001b[32m━━━━━━━━━━━━━━━━━━━━\u001b[0m\u001b[37m\u001b[0m \u001b[1m40s\u001b[0m 2ms/step - loss: 0.2699 - mae: 0.4316 - val_loss: 0.1907 - val_mae: 0.3330\n",
            "Epoch 15/100\n",
            "\u001b[1m9175/9175\u001b[0m \u001b[32m━━━━━━━━━━━━━━━━━━━━\u001b[0m\u001b[37m\u001b[0m \u001b[1m19s\u001b[0m 2ms/step - loss: 0.2626 - mae: 0.4228 - val_loss: 0.2766 - val_mae: 0.4539\n",
            "Epoch 16/100\n",
            "\u001b[1m9175/9175\u001b[0m \u001b[32m━━━━━━━━━━━━━━━━━━━━\u001b[0m\u001b[37m\u001b[0m \u001b[1m20s\u001b[0m 2ms/step - loss: 0.2515 - mae: 0.4088 - val_loss: 0.1790 - val_mae: 0.3086\n",
            "Epoch 17/100\n",
            "\u001b[1m9175/9175\u001b[0m \u001b[32m━━━━━━━━━━━━━━━━━━━━\u001b[0m\u001b[37m\u001b[0m \u001b[1m19s\u001b[0m 2ms/step - loss: 0.2606 - mae: 0.4199 - val_loss: 0.1721 - val_mae: 0.2842\n",
            "Epoch 18/100\n",
            "\u001b[1m9175/9175\u001b[0m \u001b[32m━━━━━━━━━━━━━━━━━━━━\u001b[0m\u001b[37m\u001b[0m \u001b[1m21s\u001b[0m 2ms/step - loss: 0.2651 - mae: 0.4233 - val_loss: 0.1924 - val_mae: 0.3390\n",
            "Epoch 19/100\n",
            "\u001b[1m9175/9175\u001b[0m \u001b[32m━━━━━━━━━━━━━━━━━━━━\u001b[0m\u001b[37m\u001b[0m \u001b[1m21s\u001b[0m 2ms/step - loss: 0.2537 - mae: 0.4111 - val_loss: 0.5955 - val_mae: 0.8192\n",
            "Epoch 20/100\n",
            "\u001b[1m9175/9175\u001b[0m \u001b[32m━━━━━━━━━━━━━━━━━━━━\u001b[0m\u001b[37m\u001b[0m \u001b[1m40s\u001b[0m 2ms/step - loss: 0.2764 - mae: 0.4351 - val_loss: 0.3241 - val_mae: 0.5105\n",
            "Epoch 21/100\n",
            "\u001b[1m9175/9175\u001b[0m \u001b[32m━━━━━━━━━━━━━━━━━━━━\u001b[0m\u001b[37m\u001b[0m \u001b[1m19s\u001b[0m 2ms/step - loss: 0.2692 - mae: 0.4306 - val_loss: 0.1922 - val_mae: 0.3397\n",
            "Epoch 22/100\n",
            "\u001b[1m9175/9175\u001b[0m \u001b[32m━━━━━━━━━━━━━━━━━━━━\u001b[0m\u001b[37m\u001b[0m \u001b[1m22s\u001b[0m 2ms/step - loss: 0.2521 - mae: 0.4100 - val_loss: 0.4732 - val_mae: 0.6862\n",
            "Epoch 23/100\n",
            "\u001b[1m9175/9175\u001b[0m \u001b[32m━━━━━━━━━━━━━━━━━━━━\u001b[0m\u001b[37m\u001b[0m \u001b[1m20s\u001b[0m 2ms/step - loss: 0.2532 - mae: 0.4104 - val_loss: 0.2133 - val_mae: 0.3736\n",
            "Epoch 24/100\n",
            "\u001b[1m9175/9175\u001b[0m \u001b[32m━━━━━━━━━━━━━━━━━━━━\u001b[0m\u001b[37m\u001b[0m \u001b[1m21s\u001b[0m 2ms/step - loss: 0.2539 - mae: 0.4126 - val_loss: 0.3346 - val_mae: 0.5259\n",
            "Epoch 25/100\n",
            "\u001b[1m9175/9175\u001b[0m \u001b[32m━━━━━━━━━━━━━━━━━━━━\u001b[0m\u001b[37m\u001b[0m \u001b[1m20s\u001b[0m 2ms/step - loss: 0.2630 - mae: 0.4227 - val_loss: 0.3881 - val_mae: 0.5885\n",
            "Epoch 26/100\n",
            "\u001b[1m9175/9175\u001b[0m \u001b[32m━━━━━━━━━━━━━━━━━━━━\u001b[0m\u001b[37m\u001b[0m \u001b[1m20s\u001b[0m 2ms/step - loss: 0.2573 - mae: 0.4145 - val_loss: 0.1926 - val_mae: 0.3400\n",
            "Epoch 27/100\n",
            "\u001b[1m9175/9175\u001b[0m \u001b[32m━━━━━━━━━━━━━━━━━━━━\u001b[0m\u001b[37m\u001b[0m \u001b[1m20s\u001b[0m 2ms/step - loss: 0.2501 - mae: 0.4073 - val_loss: 0.1720 - val_mae: 0.2836\n",
            "Epoch 28/100\n",
            "\u001b[1m9175/9175\u001b[0m \u001b[32m━━━━━━━━━━━━━━━━━━━━\u001b[0m\u001b[37m\u001b[0m \u001b[1m19s\u001b[0m 2ms/step - loss: 0.2696 - mae: 0.4274 - val_loss: 0.3851 - val_mae: 0.5844\n",
            "Epoch 29/100\n",
            "\u001b[1m9175/9175\u001b[0m \u001b[32m━━━━━━━━━━━━━━━━━━━━\u001b[0m\u001b[37m\u001b[0m \u001b[1m20s\u001b[0m 2ms/step - loss: 0.2558 - mae: 0.4132 - val_loss: 0.3936 - val_mae: 0.5916\n",
            "Epoch 30/100\n",
            "\u001b[1m9175/9175\u001b[0m \u001b[32m━━━━━━━━━━━━━━━━━━━━\u001b[0m\u001b[37m\u001b[0m \u001b[1m20s\u001b[0m 2ms/step - loss: 0.2523 - mae: 0.4085 - val_loss: 0.1734 - val_mae: 0.2937\n",
            "Epoch 31/100\n",
            "\u001b[1m9175/9175\u001b[0m \u001b[32m━━━━━━━━━━━━━━━━━━━━\u001b[0m\u001b[37m\u001b[0m \u001b[1m21s\u001b[0m 2ms/step - loss: 0.2593 - mae: 0.4168 - val_loss: 0.5960 - val_mae: 0.8236\n",
            "Epoch 32/100\n",
            "\u001b[1m9175/9175\u001b[0m \u001b[32m━━━━━━━━━━━━━━━━━━━━\u001b[0m\u001b[37m\u001b[0m \u001b[1m20s\u001b[0m 2ms/step - loss: 0.2582 - mae: 0.4163 - val_loss: 0.2048 - val_mae: 0.3574\n",
            "Epoch 33/100\n",
            "\u001b[1m9175/9175\u001b[0m \u001b[32m━━━━━━━━━━━━━━━━━━━━\u001b[0m\u001b[37m\u001b[0m \u001b[1m21s\u001b[0m 2ms/step - loss: 0.2544 - mae: 0.4105 - val_loss: 0.1726 - val_mae: 0.2888\n",
            "Epoch 34/100\n",
            "\u001b[1m9175/9175\u001b[0m \u001b[32m━━━━━━━━━━━━━━━━━━━━\u001b[0m\u001b[37m\u001b[0m \u001b[1m40s\u001b[0m 2ms/step - loss: 0.2463 - mae: 0.4058 - val_loss: 0.2088 - val_mae: 0.3682\n",
            "Epoch 35/100\n",
            "\u001b[1m9175/9175\u001b[0m \u001b[32m━━━━━━━━━━━━━━━━━━━━\u001b[0m\u001b[37m\u001b[0m \u001b[1m20s\u001b[0m 2ms/step - loss: 0.2505 - mae: 0.4077 - val_loss: 0.1718 - val_mae: 0.2826\n",
            "Epoch 36/100\n",
            "\u001b[1m9175/9175\u001b[0m \u001b[32m━━━━━━━━━━━━━━━━━━━━\u001b[0m\u001b[37m\u001b[0m \u001b[1m20s\u001b[0m 2ms/step - loss: 0.2585 - mae: 0.4183 - val_loss: 0.1718 - val_mae: 0.2807\n",
            "Epoch 37/100\n",
            "\u001b[1m9175/9175\u001b[0m \u001b[32m━━━━━━━━━━━━━━━━━━━━\u001b[0m\u001b[37m\u001b[0m \u001b[1m21s\u001b[0m 2ms/step - loss: 0.2488 - mae: 0.4031 - val_loss: 0.1744 - val_mae: 0.2957\n",
            "Epoch 38/100\n",
            "\u001b[1m9175/9175\u001b[0m \u001b[32m━━━━━━━━━━━━━━━━━━━━\u001b[0m\u001b[37m\u001b[0m \u001b[1m20s\u001b[0m 2ms/step - loss: 0.2549 - mae: 0.4130 - val_loss: 0.1718 - val_mae: 0.2809\n",
            "Epoch 39/100\n",
            "\u001b[1m9175/9175\u001b[0m \u001b[32m━━━━━━━━━━━━━━━━━━━━\u001b[0m\u001b[37m\u001b[0m \u001b[1m22s\u001b[0m 2ms/step - loss: 0.2630 - mae: 0.4208 - val_loss: 0.2664 - val_mae: 0.4440\n",
            "Epoch 40/100\n",
            "\u001b[1m9175/9175\u001b[0m \u001b[32m━━━━━━━━━━━━━━━━━━━━\u001b[0m\u001b[37m\u001b[0m \u001b[1m18s\u001b[0m 2ms/step - loss: 0.2674 - mae: 0.4282 - val_loss: 0.1817 - val_mae: 0.3184\n",
            "Epoch 41/100\n",
            "\u001b[1m9175/9175\u001b[0m \u001b[32m━━━━━━━━━━━━━━━━━━━━\u001b[0m\u001b[37m\u001b[0m \u001b[1m19s\u001b[0m 2ms/step - loss: 0.2707 - mae: 0.4322 - val_loss: 0.1914 - val_mae: 0.3352\n",
            "Epoch 42/100\n",
            "\u001b[1m9175/9175\u001b[0m \u001b[32m━━━━━━━━━━━━━━━━━━━━\u001b[0m\u001b[37m\u001b[0m \u001b[1m18s\u001b[0m 2ms/step - loss: 0.2522 - mae: 0.4090 - val_loss: 0.2696 - val_mae: 0.4481\n",
            "Epoch 43/100\n",
            "\u001b[1m9175/9175\u001b[0m \u001b[32m━━━━━━━━━━━━━━━━━━━━\u001b[0m\u001b[37m\u001b[0m \u001b[1m22s\u001b[0m 2ms/step - loss: 0.2486 - mae: 0.4069 - val_loss: 0.1723 - val_mae: 0.2869\n",
            "Epoch 44/100\n",
            "\u001b[1m9175/9175\u001b[0m \u001b[32m━━━━━━━━━━━━━━━━━━━━\u001b[0m\u001b[37m\u001b[0m \u001b[1m18s\u001b[0m 2ms/step - loss: 0.2755 - mae: 0.4355 - val_loss: 0.1842 - val_mae: 0.3212\n",
            "Epoch 45/100\n",
            "\u001b[1m9175/9175\u001b[0m \u001b[32m━━━━━━━━━━━━━━━━━━━━\u001b[0m\u001b[37m\u001b[0m \u001b[1m22s\u001b[0m 2ms/step - loss: 0.2485 - mae: 0.4082 - val_loss: 0.1734 - val_mae: 0.2916\n",
            "Epoch 46/100\n",
            "\u001b[1m9175/9175\u001b[0m \u001b[32m━━━━━━━━━━━━━━━━━━━━\u001b[0m\u001b[37m\u001b[0m \u001b[1m18s\u001b[0m 2ms/step - loss: 0.2546 - mae: 0.4116 - val_loss: 0.1829 - val_mae: 0.3188\n",
            "Epoch 47/100\n",
            "\u001b[1m9175/9175\u001b[0m \u001b[32m━━━━━━━━━━━━━━━━━━━━\u001b[0m\u001b[37m\u001b[0m \u001b[1m21s\u001b[0m 2ms/step - loss: 0.2471 - mae: 0.4042 - val_loss: 0.1789 - val_mae: 0.3090\n",
            "Epoch 48/100\n",
            "\u001b[1m9175/9175\u001b[0m \u001b[32m━━━━━━━━━━━━━━━━━━━━\u001b[0m\u001b[37m\u001b[0m \u001b[1m22s\u001b[0m 2ms/step - loss: 0.2542 - mae: 0.4113 - val_loss: 0.4818 - val_mae: 0.6936\n",
            "Epoch 49/100\n",
            "\u001b[1m9175/9175\u001b[0m \u001b[32m━━━━━━━━━━━━━━━━━━━━\u001b[0m\u001b[37m\u001b[0m \u001b[1m19s\u001b[0m 2ms/step - loss: 0.2690 - mae: 0.4309 - val_loss: 0.1743 - val_mae: 0.2963\n",
            "Epoch 50/100\n",
            "\u001b[1m9175/9175\u001b[0m \u001b[32m━━━━━━━━━━━━━━━━━━━━\u001b[0m\u001b[37m\u001b[0m \u001b[1m21s\u001b[0m 2ms/step - loss: 0.2550 - mae: 0.4150 - val_loss: 0.2694 - val_mae: 0.4471\n",
            "Epoch 51/100\n",
            "\u001b[1m9175/9175\u001b[0m \u001b[32m━━━━━━━━━━━━━━━━━━━━\u001b[0m\u001b[37m\u001b[0m \u001b[1m18s\u001b[0m 2ms/step - loss: 0.2547 - mae: 0.4142 - val_loss: 0.2352 - val_mae: 0.4016\n",
            "Epoch 52/100\n",
            "\u001b[1m9175/9175\u001b[0m \u001b[32m━━━━━━━━━━━━━━━━━━━━\u001b[0m\u001b[37m\u001b[0m \u001b[1m20s\u001b[0m 2ms/step - loss: 0.2477 - mae: 0.4039 - val_loss: 0.1742 - val_mae: 0.2948\n",
            "Epoch 53/100\n",
            "\u001b[1m9175/9175\u001b[0m \u001b[32m━━━━━━━━━━━━━━━━━━━━\u001b[0m\u001b[37m\u001b[0m \u001b[1m19s\u001b[0m 2ms/step - loss: 0.2539 - mae: 0.4106 - val_loss: 0.1738 - val_mae: 0.2947\n",
            "Epoch 54/100\n",
            "\u001b[1m9175/9175\u001b[0m \u001b[32m━━━━━━━━━━━━━━━━━━━━\u001b[0m\u001b[37m\u001b[0m \u001b[1m21s\u001b[0m 2ms/step - loss: 0.2561 - mae: 0.4135 - val_loss: 0.1816 - val_mae: 0.3178\n",
            "Epoch 55/100\n",
            "\u001b[1m9175/9175\u001b[0m \u001b[32m━━━━━━━━━━━━━━━━━━━━\u001b[0m\u001b[37m\u001b[0m \u001b[1m19s\u001b[0m 2ms/step - loss: 0.2472 - mae: 0.4057 - val_loss: 0.1782 - val_mae: 0.3091\n",
            "Epoch 56/100\n",
            "\u001b[1m9175/9175\u001b[0m \u001b[32m━━━━━━━━━━━━━━━━━━━━\u001b[0m\u001b[37m\u001b[0m \u001b[1m21s\u001b[0m 2ms/step - loss: 0.2560 - mae: 0.4126 - val_loss: 0.1939 - val_mae: 0.3395\n",
            "Epoch 57/100\n",
            "\u001b[1m9175/9175\u001b[0m \u001b[32m━━━━━━━━━━━━━━━━━━━━\u001b[0m\u001b[37m\u001b[0m \u001b[1m21s\u001b[0m 2ms/step - loss: 0.2557 - mae: 0.4144 - val_loss: 0.1762 - val_mae: 0.3034\n",
            "Epoch 58/100\n",
            "\u001b[1m9175/9175\u001b[0m \u001b[32m━━━━━━━━━━━━━━━━━━━━\u001b[0m\u001b[37m\u001b[0m \u001b[1m20s\u001b[0m 2ms/step - loss: 0.2566 - mae: 0.4147 - val_loss: 0.2372 - val_mae: 0.4035\n",
            "Epoch 59/100\n",
            "\u001b[1m9175/9175\u001b[0m \u001b[32m━━━━━━━━━━━━━━━━━━━━\u001b[0m\u001b[37m\u001b[0m \u001b[1m19s\u001b[0m 2ms/step - loss: 0.2635 - mae: 0.4222 - val_loss: 0.1776 - val_mae: 0.3057\n",
            "Epoch 60/100\n",
            "\u001b[1m9175/9175\u001b[0m \u001b[32m━━━━━━━━━━━━━━━━━━━━\u001b[0m\u001b[37m\u001b[0m \u001b[1m19s\u001b[0m 2ms/step - loss: 0.2554 - mae: 0.4143 - val_loss: 0.1722 - val_mae: 0.2847\n",
            "Epoch 61/100\n",
            "\u001b[1m9175/9175\u001b[0m \u001b[32m━━━━━━━━━━━━━━━━━━━━\u001b[0m\u001b[37m\u001b[0m \u001b[1m21s\u001b[0m 2ms/step - loss: 0.2606 - mae: 0.4201 - val_loss: 0.1719 - val_mae: 0.2827\n",
            "Epoch 62/100\n",
            "\u001b[1m9175/9175\u001b[0m \u001b[32m━━━━━━━━━━━━━━━━━━━━\u001b[0m\u001b[37m\u001b[0m \u001b[1m19s\u001b[0m 2ms/step - loss: 0.2444 - mae: 0.3993 - val_loss: 0.1746 - val_mae: 0.2968\n",
            "Epoch 63/100\n",
            "\u001b[1m9175/9175\u001b[0m \u001b[32m━━━━━━━━━━━━━━━━━━━━\u001b[0m\u001b[37m\u001b[0m \u001b[1m22s\u001b[0m 2ms/step - loss: 0.2604 - mae: 0.4224 - val_loss: 0.2041 - val_mae: 0.3566\n",
            "Epoch 64/100\n",
            "\u001b[1m9175/9175\u001b[0m \u001b[32m━━━━━━━━━━━━━━━━━━━━\u001b[0m\u001b[37m\u001b[0m \u001b[1m22s\u001b[0m 2ms/step - loss: 0.2535 - mae: 0.4110 - val_loss: 0.2640 - val_mae: 0.4412\n",
            "Epoch 65/100\n",
            "\u001b[1m9175/9175\u001b[0m \u001b[32m━━━━━━━━━━━━━━━━━━━━\u001b[0m\u001b[37m\u001b[0m \u001b[1m18s\u001b[0m 2ms/step - loss: 0.2830 - mae: 0.4497 - val_loss: 0.1755 - val_mae: 0.3012\n",
            "Epoch 66/100\n",
            "\u001b[1m9175/9175\u001b[0m \u001b[32m━━━━━━━━━━━━━━━━━━━━\u001b[0m\u001b[37m\u001b[0m \u001b[1m21s\u001b[0m 2ms/step - loss: 0.2633 - mae: 0.4241 - val_loss: 0.3001 - val_mae: 0.4848\n",
            "Epoch 67/100\n",
            "\u001b[1m9175/9175\u001b[0m \u001b[32m━━━━━━━━━━━━━━━━━━━━\u001b[0m\u001b[37m\u001b[0m \u001b[1m18s\u001b[0m 2ms/step - loss: 0.2676 - mae: 0.4295 - val_loss: 0.4868 - val_mae: 0.7004\n",
            "Epoch 68/100\n",
            "\u001b[1m9175/9175\u001b[0m \u001b[32m━━━━━━━━━━━━━━━━━━━━\u001b[0m\u001b[37m\u001b[0m \u001b[1m21s\u001b[0m 2ms/step - loss: 0.2643 - mae: 0.4232 - val_loss: 0.1721 - val_mae: 0.2853\n",
            "Epoch 69/100\n",
            "\u001b[1m9175/9175\u001b[0m \u001b[32m━━━━━━━━━━━━━━━━━━━━\u001b[0m\u001b[37m\u001b[0m \u001b[1m18s\u001b[0m 2ms/step - loss: 0.2590 - mae: 0.4168 - val_loss: 0.1720 - val_mae: 0.2835\n",
            "Epoch 70/100\n",
            "\u001b[1m9175/9175\u001b[0m \u001b[32m━━━━━━━━━━━━━━━━━━━━\u001b[0m\u001b[37m\u001b[0m \u001b[1m22s\u001b[0m 2ms/step - loss: 0.2742 - mae: 0.4379 - val_loss: 0.3892 - val_mae: 0.5897\n",
            "Epoch 71/100\n",
            "\u001b[1m9175/9175\u001b[0m \u001b[32m━━━━━━━━━━━━━━━━━━━━\u001b[0m\u001b[37m\u001b[0m \u001b[1m18s\u001b[0m 2ms/step - loss: 0.2580 - mae: 0.4154 - val_loss: 0.5681 - val_mae: 0.7878\n",
            "Epoch 72/100\n",
            "\u001b[1m9175/9175\u001b[0m \u001b[32m━━━━━━━━━━━━━━━━━━━━\u001b[0m\u001b[37m\u001b[0m \u001b[1m22s\u001b[0m 2ms/step - loss: 0.2513 - mae: 0.4105 - val_loss: 0.1914 - val_mae: 0.3384\n",
            "Epoch 73/100\n",
            "\u001b[1m9175/9175\u001b[0m \u001b[32m━━━━━━━━━━━━━━━━━━━━\u001b[0m\u001b[37m\u001b[0m \u001b[1m22s\u001b[0m 2ms/step - loss: 0.2597 - mae: 0.4176 - val_loss: 0.1753 - val_mae: 0.2993\n",
            "Epoch 74/100\n",
            "\u001b[1m9175/9175\u001b[0m \u001b[32m━━━━━━━━━━━━━━━━━━━━\u001b[0m\u001b[37m\u001b[0m \u001b[1m19s\u001b[0m 2ms/step - loss: 0.2615 - mae: 0.4215 - val_loss: 0.4142 - val_mae: 0.6152\n",
            "Epoch 75/100\n",
            "\u001b[1m9175/9175\u001b[0m \u001b[32m━━━━━━━━━━━━━━━━━━━━\u001b[0m\u001b[37m\u001b[0m \u001b[1m21s\u001b[0m 2ms/step - loss: 0.2606 - mae: 0.4195 - val_loss: 0.2417 - val_mae: 0.4094\n",
            "Epoch 76/100\n",
            "\u001b[1m9175/9175\u001b[0m \u001b[32m━━━━━━━━━━━━━━━━━━━━\u001b[0m\u001b[37m\u001b[0m \u001b[1m20s\u001b[0m 2ms/step - loss: 0.2652 - mae: 0.4253 - val_loss: 0.2800 - val_mae: 0.4578\n",
            "Epoch 77/100\n",
            "\u001b[1m9175/9175\u001b[0m \u001b[32m━━━━━━━━━━━━━━━━━━━━\u001b[0m\u001b[37m\u001b[0m \u001b[1m22s\u001b[0m 2ms/step - loss: 0.2482 - mae: 0.4042 - val_loss: 0.1913 - val_mae: 0.3347\n",
            "Epoch 78/100\n",
            "\u001b[1m9175/9175\u001b[0m \u001b[32m━━━━━━━━━━━━━━━━━━━━\u001b[0m\u001b[37m\u001b[0m \u001b[1m19s\u001b[0m 2ms/step - loss: 0.2592 - mae: 0.4194 - val_loss: 0.1732 - val_mae: 0.2925\n",
            "Epoch 79/100\n",
            "\u001b[1m9175/9175\u001b[0m \u001b[32m━━━━━━━━━━━━━━━━━━━━\u001b[0m\u001b[37m\u001b[0m \u001b[1m21s\u001b[0m 2ms/step - loss: 0.2550 - mae: 0.4139 - val_loss: 0.1802 - val_mae: 0.3146\n",
            "Epoch 80/100\n",
            "\u001b[1m9175/9175\u001b[0m \u001b[32m━━━━━━━━━━━━━━━━━━━━\u001b[0m\u001b[37m\u001b[0m \u001b[1m20s\u001b[0m 2ms/step - loss: 0.2780 - mae: 0.4429 - val_loss: 0.2134 - val_mae: 0.3740\n",
            "Epoch 81/100\n",
            "\u001b[1m9175/9175\u001b[0m \u001b[32m━━━━━━━━━━━━━━━━━━━━\u001b[0m\u001b[37m\u001b[0m \u001b[1m21s\u001b[0m 2ms/step - loss: 0.2785 - mae: 0.4414 - val_loss: 0.1922 - val_mae: 0.3401\n",
            "Epoch 82/100\n",
            "\u001b[1m9175/9175\u001b[0m \u001b[32m━━━━━━━━━━━━━━━━━━━━\u001b[0m\u001b[37m\u001b[0m \u001b[1m20s\u001b[0m 2ms/step - loss: 0.2655 - mae: 0.4254 - val_loss: 0.1727 - val_mae: 0.2886\n",
            "Epoch 83/100\n",
            "\u001b[1m9175/9175\u001b[0m \u001b[32m━━━━━━━━━━━━━━━━━━━━\u001b[0m\u001b[37m\u001b[0m \u001b[1m19s\u001b[0m 2ms/step - loss: 0.2630 - mae: 0.4207 - val_loss: 0.3041 - val_mae: 0.4867\n",
            "Epoch 84/100\n",
            "\u001b[1m9175/9175\u001b[0m \u001b[32m━━━━━━━━━━━━━━━━━━━━\u001b[0m\u001b[37m\u001b[0m \u001b[1m20s\u001b[0m 2ms/step - loss: 0.2553 - mae: 0.4137 - val_loss: 0.1906 - val_mae: 0.3370\n",
            "Epoch 85/100\n",
            "\u001b[1m9175/9175\u001b[0m \u001b[32m━━━━━━━━━━━━━━━━━━━━\u001b[0m\u001b[37m\u001b[0m \u001b[1m20s\u001b[0m 2ms/step - loss: 0.2489 - mae: 0.4043 - val_loss: 0.2620 - val_mae: 0.4353\n",
            "Epoch 86/100\n",
            "\u001b[1m9175/9175\u001b[0m \u001b[32m━━━━━━━━━━━━━━━━━━━━\u001b[0m\u001b[37m\u001b[0m \u001b[1m21s\u001b[0m 2ms/step - loss: 0.2673 - mae: 0.4262 - val_loss: 0.3688 - val_mae: 0.5656\n",
            "Epoch 87/100\n",
            "\u001b[1m9175/9175\u001b[0m \u001b[32m━━━━━━━━━━━━━━━━━━━━\u001b[0m\u001b[37m\u001b[0m \u001b[1m19s\u001b[0m 2ms/step - loss: 0.2600 - mae: 0.4180 - val_loss: 0.4773 - val_mae: 0.6904\n",
            "Epoch 88/100\n",
            "\u001b[1m9175/9175\u001b[0m \u001b[32m━━━━━━━━━━━━━━━━━━━━\u001b[0m\u001b[37m\u001b[0m \u001b[1m20s\u001b[0m 2ms/step - loss: 0.2723 - mae: 0.4351 - val_loss: 0.3349 - val_mae: 0.5238\n",
            "Epoch 89/100\n",
            "\u001b[1m9175/9175\u001b[0m \u001b[32m━━━━━━━━━━━━━━━━━━━━\u001b[0m\u001b[37m\u001b[0m \u001b[1m19s\u001b[0m 2ms/step - loss: 0.2511 - mae: 0.4088 - val_loss: 0.1801 - val_mae: 0.3121\n",
            "Epoch 90/100\n",
            "\u001b[1m9175/9175\u001b[0m \u001b[32m━━━━━━━━━━━━━━━━━━━━\u001b[0m\u001b[37m\u001b[0m \u001b[1m19s\u001b[0m 2ms/step - loss: 0.2562 - mae: 0.4153 - val_loss: 0.1721 - val_mae: 0.2847\n",
            "Epoch 91/100\n",
            "\u001b[1m9175/9175\u001b[0m \u001b[32m━━━━━━━━━━━━━━━━━━━━\u001b[0m\u001b[37m\u001b[0m \u001b[1m18s\u001b[0m 2ms/step - loss: 0.2606 - mae: 0.4170 - val_loss: 0.2015 - val_mae: 0.3557\n",
            "Epoch 92/100\n",
            "\u001b[1m9175/9175\u001b[0m \u001b[32m━━━━━━━━━━━━━━━━━━━━\u001b[0m\u001b[37m\u001b[0m \u001b[1m23s\u001b[0m 2ms/step - loss: 0.2507 - mae: 0.4078 - val_loss: 0.2354 - val_mae: 0.4012\n",
            "Epoch 93/100\n",
            "\u001b[1m9175/9175\u001b[0m \u001b[32m━━━━━━━━━━━━━━━━━━━━\u001b[0m\u001b[37m\u001b[0m \u001b[1m19s\u001b[0m 2ms/step - loss: 0.2571 - mae: 0.4156 - val_loss: 0.3833 - val_mae: 0.5827\n",
            "Epoch 94/100\n",
            "\u001b[1m9175/9175\u001b[0m \u001b[32m━━━━━━━━━━━━━━━━━━━━\u001b[0m\u001b[37m\u001b[0m \u001b[1m19s\u001b[0m 2ms/step - loss: 0.2610 - mae: 0.4203 - val_loss: 0.1783 - val_mae: 0.3077\n",
            "Epoch 95/100\n",
            "\u001b[1m9175/9175\u001b[0m \u001b[32m━━━━━━━━━━━━━━━━━━━━\u001b[0m\u001b[37m\u001b[0m \u001b[1m19s\u001b[0m 2ms/step - loss: 0.2639 - mae: 0.4240 - val_loss: 0.1744 - val_mae: 0.2975\n",
            "Epoch 96/100\n",
            "\u001b[1m9175/9175\u001b[0m \u001b[32m━━━━━━━━━━━━━━━━━━━━\u001b[0m\u001b[37m\u001b[0m \u001b[1m19s\u001b[0m 2ms/step - loss: 0.2631 - mae: 0.4236 - val_loss: 0.2361 - val_mae: 0.4018\n",
            "Epoch 97/100\n",
            "\u001b[1m9175/9175\u001b[0m \u001b[32m━━━━━━━━━━━━━━━━━━━━\u001b[0m\u001b[37m\u001b[0m \u001b[1m20s\u001b[0m 2ms/step - loss: 0.2630 - mae: 0.4242 - val_loss: 0.1718 - val_mae: 0.2821\n",
            "Epoch 98/100\n",
            "\u001b[1m9175/9175\u001b[0m \u001b[32m━━━━━━━━━━━━━━━━━━━━\u001b[0m\u001b[37m\u001b[0m \u001b[1m21s\u001b[0m 2ms/step - loss: 0.2669 - mae: 0.4288 - val_loss: 0.2011 - val_mae: 0.3554\n",
            "Epoch 99/100\n",
            "\u001b[1m9175/9175\u001b[0m \u001b[32m━━━━━━━━━━━━━━━━━━━━\u001b[0m\u001b[37m\u001b[0m \u001b[1m18s\u001b[0m 2ms/step - loss: 0.2578 - mae: 0.4174 - val_loss: 0.2043 - val_mae: 0.3603\n",
            "Epoch 100/100\n",
            "\u001b[1m9175/9175\u001b[0m \u001b[32m━━━━━━━━━━━━━━━━━━━━\u001b[0m\u001b[37m\u001b[0m \u001b[1m21s\u001b[0m 2ms/step - loss: 0.2626 - mae: 0.4214 - val_loss: 0.1722 - val_mae: 0.2865\n"
          ]
        },
        {
          "output_type": "execute_result",
          "data": {
            "text/plain": [
              "<keras.src.callbacks.history.History at 0x7d1b37ee49d0>"
            ]
          },
          "metadata": {},
          "execution_count": 154
        }
      ]
    }
  ]
}