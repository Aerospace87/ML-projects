{
  "nbformat": 4,
  "nbformat_minor": 0,
  "metadata": {
    "colab": {
      "provenance": [],
      "include_colab_link": true
    },
    "kernelspec": {
      "name": "python3",
      "display_name": "Python 3"
    },
    "language_info": {
      "name": "python"
    }
  },
  "cells": [
    {
      "cell_type": "markdown",
      "metadata": {
        "id": "view-in-github",
        "colab_type": "text"
      },
      "source": [
        "<a href=\"https://colab.research.google.com/github/Aerospace87/ML-projects/blob/main/tensorflow/Time_Series/Time_Series.ipynb\" target=\"_parent\"><img src=\"https://colab.research.google.com/assets/colab-badge.svg\" alt=\"Open In Colab\"/></a>"
      ]
    },
    {
      "cell_type": "code",
      "execution_count": 47,
      "metadata": {
        "id": "hGFKVpUVUQI7"
      },
      "outputs": [],
      "source": [
        "import yfinance as yf\n",
        "import pandas as pd\n",
        "import numpy as np\n",
        "from numpy.fft import fftfreq"
      ]
    },
    {
      "cell_type": "code",
      "source": [
        "code_dict = {\n",
        "    \"Caterpillar Inc.\": \"CAT\",\n",
        "    \"CNH Industrial N.V.\": \"CNH\",\n",
        "    \"GE Aerospace\" :\"GE\"\n",
        "}\n",
        "\n",
        "cat = yf.Ticker(code_dict[\"GE Aerospace\"])"
      ],
      "metadata": {
        "id": "Pa3mnhVoUfwz"
      },
      "execution_count": 48,
      "outputs": []
    },
    {
      "cell_type": "code",
      "source": [
        "# get historical market data\n",
        "hist = cat.history(period=\"max\")"
      ],
      "metadata": {
        "id": "BBd2LR3vWhGb"
      },
      "execution_count": 49,
      "outputs": []
    },
    {
      "cell_type": "code",
      "source": [
        "hist = hist[\"Open\"].to_frame()"
      ],
      "metadata": {
        "id": "HxhfrN8AyvTg"
      },
      "execution_count": 50,
      "outputs": []
    },
    {
      "cell_type": "code",
      "source": [
        "# Convert the index from timestamp to date\n",
        "hist = hist.reset_index()\n",
        "hist[\"Date\"] = hist[\"Date\"].dt.date\n",
        "hist = hist.set_index(\"Date\")"
      ],
      "metadata": {
        "id": "Oy4rvqf79Fbd"
      },
      "execution_count": 51,
      "outputs": []
    },
    {
      "cell_type": "code",
      "source": [
        "hist.reset_index().plot(x=\"Date\",y=\"Open\")"
      ],
      "metadata": {
        "colab": {
          "base_uri": "https://localhost:8080/",
          "height": 467
        },
        "id": "JT3shrhWWtAY",
        "outputId": "9dffab9c-0082-4bd4-f494-993877434d6a"
      },
      "execution_count": 52,
      "outputs": [
        {
          "output_type": "execute_result",
          "data": {
            "text/plain": [
              "<Axes: xlabel='Date'>"
            ]
          },
          "metadata": {},
          "execution_count": 52
        },
        {
          "output_type": "display_data",
          "data": {
            "text/plain": [
              "<Figure size 640x480 with 1 Axes>"
            ],
            "image/png": "[encoded data removed]"
          },
          "metadata": {}
        }
      ]
    },
    {
      "cell_type": "markdown",
      "source": [
        "## Imputing Missing Values\n",
        "For some timesteps some values may be missing therefore we impute cnsidering the last not-null value"
      ],
      "metadata": {
        "id": "UQxO-IXW4bGr"
      }
    },
    {
      "cell_type": "code",
      "source": [
        "# Check if all the data points are equally spaced\n",
        "\n",
        "beginning_timestamp = hist.index.min()\n",
        "last_timestamp = hist.index.max()\n",
        "delta_t = hist.index[1] - beginning_timestamp\n",
        "\n",
        "\n",
        "equispaced_index = pd.date_range(start = beginning_timestamp,\n",
        "              end = last_timestamp,\n",
        "              freq = delta_t\n",
        ")\n",
        "\n",
        "equispaced_df = pd.DataFrame(index = equispaced_index,\n",
        "             data = {\"test_col\" : np.zeros(equispaced_index.size)}\n",
        ").reset_index()\n",
        "\n",
        "\n",
        "equispaced_df[\"index\"] = equispaced_df[\"index\"].dt.date\n",
        "\n",
        "hist = equispaced_df.merge(hist.reset_index(),\n",
        "                    how='left',\n",
        "                    left_on = 'index',\n",
        "                    right_on='Date'\n",
        ")\n",
        "\n",
        "cols = [\"index\", \"Open\"]\n",
        "\n",
        "hist = hist[cols]"
      ],
      "metadata": {
        "id": "ivFCbn2HgaXD"
      },
      "execution_count": 53,
      "outputs": []
    },
    {
      "cell_type": "code",
      "source": [
        "# Imputing the nulls with the last non null value\n",
        "\n",
        "nulls_indices = hist[hist[\"Open\"].isna()].index.copy()\n",
        "\n",
        "for idx in nulls_indices:\n",
        "\n",
        "  if idx == 0:\n",
        "    hist.iloc[(idx, 1)] = 0.0\n",
        "  elif idx >= 1:\n",
        "    hist.iloc[(idx, 1)] = hist.iloc[(idx - 1, 1)]\n",
        "\n",
        "hist.rename(columns={\"index\": \"Date\"}, inplace=True)\n",
        "\n",
        "hist = hist.set_index(\"Date\")"
      ],
      "metadata": {
        "id": "fr44CiVY1Il9"
      },
      "execution_count": 54,
      "outputs": []
    },
    {
      "cell_type": "code",
      "source": [
        "hist.describe()"
      ],
      "metadata": {
        "id": "GpV9N3rdW22p",
        "colab": {
          "base_uri": "https://localhost:8080/",
          "height": 300
        },
        "outputId": "c420ba2b-5434-47da-92f5-062c65d50c1e"
      },
      "execution_count": 55,
      "outputs": [
        {
          "output_type": "execute_result",
          "data": {
            "text/plain": [
              "               Open\n",
              "count  23031.000000\n",
              "mean      42.118049\n",
              "std       46.129333\n",
              "min        0.468143\n",
              "25%        1.396988\n",
              "50%       18.062261\n",
              "75%       79.931330\n",
              "max      193.774312"
            ],
            "text/html": [
              "\n",
              "  <div id=\"df-8b1cc654-09f3-477a-8c67-899991aae3a7\" class=\"colab-df-container\">\n",
              "    <div>\n",
              "<style scoped>\n",
              "    .dataframe tbody tr th:only-of-type {\n",
              "        vertical-align: middle;\n",
              "    }\n",
              "\n",
              "    .dataframe tbody tr th {\n",
              "        vertical-align: top;\n",
              "    }\n",
              "\n",
              "    .dataframe thead th {\n",
              "        text-align: right;\n",
              "    }\n",
              "</style>\n",
              "<table border=\"1\" class=\"dataframe\">\n",
              "  <thead>\n",
              "    <tr style=\"text-align: right;\">\n",
              "      <th></th>\n",
              "      <th>Open</th>\n",
              "    </tr>\n",
              "  </thead>\n",
              "  <tbody>\n",
              "    <tr>\n",
              "      <th>count</th>\n",
              "      <td>23031.000000</td>\n",
              "    </tr>\n",
              "    <tr>\n",
              "      <th>mean</th>\n",
              "      <td>42.118049</td>\n",
              "    </tr>\n",
              "    <tr>\n",
              "      <th>std</th>\n",
              "      <td>46.129333</td>\n",
              "    </tr>\n",
              "    <tr>\n",
              "      <th>min</th>\n",
              "      <td>0.468143</td>\n",
              "    </tr>\n",
              "    <tr>\n",
              "      <th>25%</th>\n",
              "      <td>1.396988</td>\n",
              "    </tr>\n",
              "    <tr>\n",
              "      <th>50%</th>\n",
              "      <td>18.062261</td>\n",
              "    </tr>\n",
              "    <tr>\n",
              "      <th>75%</th>\n",
              "      <td>79.931330</td>\n",
              "    </tr>\n",
              "    <tr>\n",
              "      <th>max</th>\n",
              "      <td>193.774312</td>\n",
              "    </tr>\n",
              "  </tbody>\n",
              "</table>\n",
              "</div>\n",
              "    <div class=\"colab-df-buttons\">\n",
              "\n",
              "  <div class=\"colab-df-container\">\n",
              "    <button class=\"colab-df-convert\" onclick=\"convertToInteractive('df-8b1cc654-09f3-477a-8c67-899991aae3a7')\"\n",
              "            title=\"Convert this dataframe to an interactive table.\"\n",
              "            style=\"display:none;\">\n",
              "\n",
              "  <svg xmlns=\"http://www.w3.org/2000/svg\" height=\"24px\" viewBox=\"0 -960 960 960\">\n",
              "    <path d=\"M120-120v-720h720v720H120Zm60-500h600v-160H180v160Zm220 220h160v-160H400v160Zm0 220h160v-160H400v160ZM180-400h160v-160H180v160Zm440 0h160v-160H620v160ZM180-180h160v-160H180v160Zm440 0h160v-160H620v160Z\"/>\n",
              "  </svg>\n",
              "    </button>\n",
              "\n",
              "  <style>\n",
              "    .colab-df-container {\n",
              "      display:flex;\n",
              "      gap: 12px;\n",
              "    }\n",
              "\n",
              "    .colab-df-convert {\n",
              "      background-color: #E8F0FE;\n",
              "      border: none;\n",
              "      border-radius: 50%;\n",
              "      cursor: pointer;\n",
              "      display: none;\n",
              "      fill: #1967D2;\n",
              "      height: 32px;\n",
              "      padding: 0 0 0 0;\n",
              "      width: 32px;\n",
              "    }\n",
              "\n",
              "    .colab-df-convert:hover {\n",
              "      background-color: #E2EBFA;\n",
              "      box-shadow: 0px 1px 2px rgba(60, 64, 67, 0.3), 0px 1px 3px 1px rgba(60, 64, 67, 0.15);\n",
              "      fill: #174EA6;\n",
              "    }\n",
              "\n",
              "    .colab-df-buttons div {\n",
              "      margin-bottom: 4px;\n",
              "    }\n",
              "\n",
              "    [theme=dark] .colab-df-convert {\n",
              "      background-color: #3B4455;\n",
              "      fill: #D2E3FC;\n",
              "    }\n",
              "\n",
              "    [theme=dark] .colab-df-convert:hover {\n",
              "      background-color: #434B5C;\n",
              "      box-shadow: 0px 1px 3px 1px rgba(0, 0, 0, 0.15);\n",
              "      filter: drop-shadow(0px 1px 2px rgba(0, 0, 0, 0.3));\n",
              "      fill: #FFFFFF;\n",
              "    }\n",
              "  </style>\n",
              "\n",
              "    <script>\n",
              "      const buttonEl =\n",
              "        document.querySelector('#df-8b1cc654-09f3-477a-8c67-899991aae3a7 button.colab-df-convert');\n",
              "      buttonEl.style.display =\n",
              "        google.colab.kernel.accessAllowed ? 'block' : 'none';\n",
              "\n",
              "      async function convertToInteractive(key) {\n",
              "        const element = document.querySelector('#df-8b1cc654-09f3-477a-8c67-899991aae3a7');\n",
              "        const dataTable =\n",
              "          await google.colab.kernel.invokeFunction('convertToInteractive',\n",
              "                                                    [key], {});\n",
              "        if (!dataTable) return;\n",
              "\n",
              "        const docLinkHtml = 'Like what you see? Visit the ' +\n",
              "          '<a target=\"_blank\" href=https://colab.research.google.com/notebooks/data_table.ipynb>data table notebook</a>'\n",
              "          + ' to learn more about interactive tables.';\n",
              "        element.innerHTML = '';\n",
              "        dataTable['output_type'] = 'display_data';\n",
              "        await google.colab.output.renderOutput(dataTable, element);\n",
              "        const docLink = document.createElement('div');\n",
              "        docLink.innerHTML = docLinkHtml;\n",
              "        element.appendChild(docLink);\n",
              "      }\n",
              "    </script>\n",
              "  </div>\n",
              "\n",
              "\n",
              "<div id=\"df-7ea3e282-af00-4fbc-a055-64ad869659d9\">\n",
              "  <button class=\"colab-df-quickchart\" onclick=\"quickchart('df-7ea3e282-af00-4fbc-a055-64ad869659d9')\"\n",
              "            title=\"Suggest charts\"\n",
              "            style=\"display:none;\">\n",
              "\n",
              "<svg xmlns=\"http://www.w3.org/2000/svg\" height=\"24px\"viewBox=\"0 0 24 24\"\n",
              "     width=\"24px\">\n",
              "    <g>\n",
              "        <path d=\"M19 3H5c-1.1 0-2 .9-2 2v14c0 1.1.9 2 2 2h14c1.1 0 2-.9 2-2V5c0-1.1-.9-2-2-2zM9 17H7v-7h2v7zm4 0h-2V7h2v10zm4 0h-2v-4h2v4z\"/>\n",
              "    </g>\n",
              "</svg>\n",
              "  </button>\n",
              "\n",
              "<style>\n",
              "  .colab-df-quickchart {\n",
              "      --bg-color: #E8F0FE;\n",
              "      --fill-color: #1967D2;\n",
              "      --hover-bg-color: #E2EBFA;\n",
              "      --hover-fill-color: #174EA6;\n",
              "      --disabled-fill-color: #AAA;\n",
              "      --disabled-bg-color: #DDD;\n",
              "  }\n",
              "\n",
              "  [theme=dark] .colab-df-quickchart {\n",
              "      --bg-color: #3B4455;\n",
              "      --fill-color: #D2E3FC;\n",
              "      --hover-bg-color: #434B5C;\n",
              "      --hover-fill-color: #FFFFFF;\n",
              "      --disabled-bg-color: #3B4455;\n",
              "      --disabled-fill-color: #666;\n",
              "  }\n",
              "\n",
              "  .colab-df-quickchart {\n",
              "    background-color: var(--bg-color);\n",
              "    border: none;\n",
              "    border-radius: 50%;\n",
              "    cursor: pointer;\n",
              "    display: none;\n",
              "    fill: var(--fill-color);\n",
              "    height: 32px;\n",
              "    padding: 0;\n",
              "    width: 32px;\n",
              "  }\n",
              "\n",
              "  .colab-df-quickchart:hover {\n",
              "    background-color: var(--hover-bg-color);\n",
              "    box-shadow: 0 1px 2px rgba(60, 64, 67, 0.3), 0 1px 3px 1px rgba(60, 64, 67, 0.15);\n",
              "    fill: var(--button-hover-fill-color);\n",
              "  }\n",
              "\n",
              "  .colab-df-quickchart-complete:disabled,\n",
              "  .colab-df-quickchart-complete:disabled:hover {\n",
              "    background-color: var(--disabled-bg-color);\n",
              "    fill: var(--disabled-fill-color);\n",
              "    box-shadow: none;\n",
              "  }\n",
              "\n",
              "  .colab-df-spinner {\n",
              "    border: 2px solid var(--fill-color);\n",
              "    border-color: transparent;\n",
              "    border-bottom-color: var(--fill-color);\n",
              "    animation:\n",
              "      spin 1s steps(1) infinite;\n",
              "  }\n",
              "\n",
              "  @keyframes spin {\n",
              "    0% {\n",
              "      border-color: transparent;\n",
              "      border-bottom-color: var(--fill-color);\n",
              "      border-left-color: var(--fill-color);\n",
              "    }\n",
              "    20% {\n",
              "      border-color: transparent;\n",
              "      border-left-color: var(--fill-color);\n",
              "      border-top-color: var(--fill-color);\n",
              "    }\n",
              "    30% {\n",
              "      border-color: transparent;\n",
              "      border-left-color: var(--fill-color);\n",
              "      border-top-color: var(--fill-color);\n",
              "      border-right-color: var(--fill-color);\n",
              "    }\n",
              "    40% {\n",
              "      border-color: transparent;\n",
              "      border-right-color: var(--fill-color);\n",
              "      border-top-color: var(--fill-color);\n",
              "    }\n",
              "    60% {\n",
              "      border-color: transparent;\n",
              "      border-right-color: var(--fill-color);\n",
              "    }\n",
              "    80% {\n",
              "      border-color: transparent;\n",
              "      border-right-color: var(--fill-color);\n",
              "      border-bottom-color: var(--fill-color);\n",
              "    }\n",
              "    90% {\n",
              "      border-color: transparent;\n",
              "      border-bottom-color: var(--fill-color);\n",
              "    }\n",
              "  }\n",
              "</style>\n",
              "\n",
              "  <script>\n",
              "    async function quickchart(key) {\n",
              "      const quickchartButtonEl =\n",
              "        document.querySelector('#' + key + ' button');\n",
              "      quickchartButtonEl.disabled = true;  // To prevent multiple clicks.\n",
              "      quickchartButtonEl.classList.add('colab-df-spinner');\n",
              "      try {\n",
              "        const charts = await google.colab.kernel.invokeFunction(\n",
              "            'suggestCharts', [key], {});\n",
              "      } catch (error) {\n",
              "        console.error('Error during call to suggestCharts:', error);\n",
              "      }\n",
              "      quickchartButtonEl.classList.remove('colab-df-spinner');\n",
              "      quickchartButtonEl.classList.add('colab-df-quickchart-complete');\n",
              "    }\n",
              "    (() => {\n",
              "      let quickchartButtonEl =\n",
              "        document.querySelector('#df-7ea3e282-af00-4fbc-a055-64ad869659d9 button');\n",
              "      quickchartButtonEl.style.display =\n",
              "        google.colab.kernel.accessAllowed ? 'block' : 'none';\n",
              "    })();\n",
              "  </script>\n",
              "</div>\n",
              "\n",
              "    </div>\n",
              "  </div>\n"
            ],
            "application/vnd.google.colaboratory.intrinsic+json": {
              "type": "dataframe",
              "summary": "{\n  \"name\": \"hist\",\n  \"rows\": 8,\n  \"fields\": [\n    {\n      \"column\": \"Open\",\n      \"properties\": {\n        \"dtype\": \"number\",\n        \"std\": 8123.64061230981,\n        \"min\": 0.46814337840057996,\n        \"max\": 23031.0,\n        \"num_unique_values\": 8,\n        \"samples\": [\n          42.11804884467342,\n          18.062261092643887,\n          23031.0\n        ],\n        \"semantic_type\": \"\",\n        \"description\": \"\"\n      }\n    }\n  ]\n}"
            }
          },
          "metadata": {},
          "execution_count": 55
        }
      ]
    },
    {
      "cell_type": "markdown",
      "source": [
        "## Moving Average Derivation"
      ],
      "metadata": {
        "id": "wQ64TnnB7Izn"
      }
    },
    {
      "cell_type": "markdown",
      "source": [
        "Suppose we have a time series:\n",
        "\n",
        "\\begin{align}\n",
        "x_t \\hspace{2cm} t=0,1,..,T-1\n",
        "\\end{align}\n",
        "\n",
        "\n",
        "And its cumulative sum:\n",
        "\n",
        "\\begin{align}\n",
        "c_t = \\sum_{i=0}^t x_i\n",
        "\\end{align}\n",
        "\n",
        "And we want to compute the moving average at time step $t$, by considering the $w$ previous time steps ($t$ is also included):\n",
        "\n",
        "\\begin{align}\n",
        "\\overline{x}_t = \\frac{1}{w} \\sum_{i = t-w+1}^t x_i \\hspace{2cm} \\, for \\, t = w-1,...,T-1.\n",
        "\\end{align}\n",
        "\n",
        "The cumulative sum at time $t$ can be written as:\n",
        "\n",
        "\\begin{align}\n",
        "c_t = \\sum_{i=0}^t x_i = \\sum_{i=0}^{t-w} x_i \\, + \\, \\sum_{i=t-w+1}^{t} x_i = c_{t-w} \\, + \\, w\\, \\overline{x}_t\n",
        "\\end{align}\n",
        "\n",
        "The previous formula is defined for $t=w,...,T-1$ as can be seen by inspecting the upper extreme of the first sum and considering that $x_t$ is definited for $t\\ge0$, therefore:\n",
        "\n",
        "\\begin{align}\n",
        "\\overline{x}_t = \\frac{1}{w}(c_t - c_{t-w}) \\hspace{2cm} t=w,...,T-1.\n",
        "\\end{align}\n",
        "\n",
        "To find $\\overline{x}_t$ at time $t=w-1$ we use the definition:\n",
        "\n",
        "\\begin{align}\n",
        "\\overline{x}_{w-1} = \\frac{1}{w} \\sum_{i = (w-1)-w+1}^{w-1} x_i = \\frac{1}{w} \\sum_{i = 0}^{w-1} x_i = \\frac{1}{w} c_{w-1}.\n",
        "\\end{align}\n",
        "\n",
        "Overall, the moving average can be computed via:\n",
        "\n",
        "\\begin{cases}\n",
        "      \\overline{x}_{w-1} = \\frac{1}{w} c_{w-1}\\\\\n",
        "      \\overline{x}_t = \\frac{1}{w}(c_t - c_{t-w}) \\hspace{2cm} t=w,...,T-1.\n",
        "\\end{cases}\n"
      ],
      "metadata": {
        "id": "ptX5plp6vq0U"
      }
    },
    {
      "cell_type": "markdown",
      "source": [
        "### Algorithm definition\n",
        "\n",
        "If we want to use a unique array called mov we can implement the following algorithm:\n",
        "\n",
        "1. Define variable **mov** as the cumulative average.\n",
        "2. Modify the elemnts of the array mov from the index $w$ by using\n",
        "   the difference:\n",
        "   \n",
        "   **mov[w:] = mov[w:] - mov[:-w]**\n",
        "\n",
        "3. Note that mov[w-1] has still the initial value equal to the\n",
        "   cumulative sum at $t=w-1$ therefore we return the array:\n",
        "\n",
        "   **(1/w)  mov[w-1:]**\n",
        "\n",
        "\n",
        "This algorithm is implemented in the function moving_average_forecast:"
      ],
      "metadata": {
        "id": "8Uw-SQJs7IQq"
      }
    },
    {
      "cell_type": "code",
      "source": [
        "def moving_average_forecast(series, window_size):\n",
        "  \"\"\"Forecasts the mean of the last few values.\n",
        "     If window_size=1, then this is equivalent to naive forecast\n",
        "     This implementation is *much* faster than the previous one\"\"\"\n",
        "  mov = np.cumsum(series)\n",
        "\n",
        "  # This is necessary because to subtract two pandas series it is necessary\n",
        "  # That both series have the same index. Therefore we force the series\n",
        "  # mov[window_size:] and mov[:-window_size] to have the same index\n",
        "\n",
        "  index = pd.Index(\n",
        "      list(\n",
        "          range(mov.size - window_size)\n",
        "      )\n",
        "  )\n",
        "\n",
        "  mov[window_size:] = mov[window_size:].set_axis(index)- mov[:-window_size].set_axis(index)\n",
        "\n",
        "  return mov[window_size - 1:] / window_size"
      ],
      "metadata": {
        "id": "5UJgiJvF7LeU"
      },
      "execution_count": 56,
      "outputs": []
    },
    {
      "cell_type": "code",
      "source": [
        "window_size = 1\n",
        "\n",
        "mov_average_col = \"Open_mov_avg\"\n",
        "hist[mov_average_col] = moving_average_forecast(hist[\"Open\"], window_size)"
      ],
      "metadata": {
        "id": "APPB7v6A7M3q"
      },
      "execution_count": 57,
      "outputs": []
    },
    {
      "cell_type": "code",
      "source": [
        "hist.reset_index().plot(x=\"Date\", y= [\"Open\", \"Open_mov_avg\"])"
      ],
      "metadata": {
        "id": "sUI-RUO38Ppj",
        "outputId": "03415140-9b90-435f-9578-c2372e7c0275",
        "colab": {
          "base_uri": "https://localhost:8080/",
          "height": 467
        }
      },
      "execution_count": 58,
      "outputs": [
        {
          "output_type": "execute_result",
          "data": {
            "text/plain": [
              "<Axes: xlabel='Date'>"
            ]
          },
          "metadata": {},
          "execution_count": 58
        },
        {
          "output_type": "display_data",
          "data": {
            "text/plain": [
              "<Figure size 640x480 with 1 Axes>"
            ],
            "image/png": "[encoded data removed]"
          },
          "metadata": {}
        }
      ]
    },
    {
      "cell_type": "markdown",
      "source": [
        "### First Difference\n",
        "\n",
        "The first difference is defined as:\n",
        "$d_t = x_t - x_{t-q} \\hspace{2cm} t=q,..., T-1$\n",
        "\n",
        "Therefore it can be implemenentate in the function diff_series following the algoritm:\n",
        "\n",
        "1. Define the original series as the variable **series**\n",
        "\n",
        "2. Return the difference **series[q:] - series[:-q]**"
      ],
      "metadata": {
        "id": "_8frXHH3D32a"
      }
    },
    {
      "cell_type": "code",
      "source": [
        "def diff_series(series, q):\n",
        "  original_index = series.index.copy()\n",
        "\n",
        "  # saving te first q values in cae we want to recnstruct te original\n",
        "  # series\n",
        "  first_q_values = series[:q].to_numpy(copy=True)\n",
        "\n",
        "  # Removal of the first t0-1 indices\n",
        "  original_index = original_index.delete(list(range(q)))\n",
        "\n",
        "  # conversion into numpy array to avoid indices mismatches\n",
        "  series = series[q:].to_numpy(copy=True) - series[:-q].to_numpy(copy=True)\n",
        "\n",
        "  # Returning the final pandas series from the previous numpy array\n",
        "  return pd.Series(series, index=original_index), first_q_values, original_index"
      ],
      "metadata": {
        "id": "3KRIoMJpT1yw"
      },
      "execution_count": 59,
      "outputs": []
    },
    {
      "cell_type": "code",
      "source": [
        "hist[\"Open_diff\"], first_q_values, original_index =  diff_series(hist[\"Open\"], 3)"
      ],
      "metadata": {
        "id": "5ac5AC97Ufkw"
      },
      "execution_count": 60,
      "outputs": []
    },
    {
      "cell_type": "code",
      "source": [
        "hist.reset_index().plot(x=\"Date\", y=\"Open_diff\")"
      ],
      "metadata": {
        "id": "Y7xPIyCGaZjq",
        "outputId": "b90c8d01-b8ce-4b75-abfe-7f71d448c9af",
        "colab": {
          "base_uri": "https://localhost:8080/",
          "height": 467
        }
      },
      "execution_count": 61,
      "outputs": [
        {
          "output_type": "execute_result",
          "data": {
            "text/plain": [
              "<Axes: xlabel='Date'>"
            ]
          },
          "metadata": {},
          "execution_count": 61
        },
        {
          "output_type": "display_data",
          "data": {
            "text/plain": [
              "<Figure size 640x480 with 1 Axes>"
            ],
            "image/png": "[encoded data removed]"
          },
          "metadata": {}
        }
      ]
    },
    {
      "cell_type": "markdown",
      "source": [
        "### Series Integration"
      ],
      "metadata": {
        "id": "Lqa3r5_XPQTk"
      }
    },
    {
      "cell_type": "markdown",
      "source": [
        "In order to reconstruct the original series from the differenced one we consider the first difference written for te first term of te original series as:\n",
        "\n",
        "$x_{t_0+q}=  x_{t_0} + d_{t_0+q} \\hspace{1cm} t_0=0, ...,q-1$\n",
        "\n",
        "$x_{t_0+2q}=  x_{t_0 + q} + d_{t_0+2q} \\hspace{1cm} t_0=0, ...,q-1$\n",
        "\n",
        "Therefore:\n",
        "\n",
        "$x_{t_0+2q}=  x_{t_0} + d_{t_0+q} + d_{t_0+2q} \\hspace{1cm} t_0=0, ...,q-1$\n",
        "\n",
        "Reasoning by induction we find then:\n",
        "\n",
        "$x_{t_0+nq}=  x_{t_0} + \\sum_{k=1}^n d_{t_0+kq}  \\hspace{1cm} t_0=0, ...,q-1$\n",
        "\n",
        "if we definw the $q$ subseries:\n",
        "\n",
        "$d^0 = d_{t_0 + kq}  \\hspace{1cm} k=1,...,n$ we apply cumulative sum and add $x_{t_0}$ we find the subseries $x_{t_0+nq}$. All the $q$ subseries (obtained by changing $t_0$) can be then used to reconstruct the full original series $x_t$.\n"
      ],
      "metadata": {
        "id": "tdQZp5F0PgQn"
      }
    },
    {
      "cell_type": "code",
      "source": [
        "def integrate_series(first_q_values, series):\n",
        "\n",
        "  \"\"\"Function to reconstruct a differenced time series given the first\n",
        "     q  values of the original series\"\"\"\n",
        "\n",
        "  original_index = series.index\n",
        "\n",
        "  q = first_q_values.size\n",
        "  T = series.size\n",
        "\n",
        "  # Creation of an annay of zeros with the final size of the time series\n",
        "  result = np.zeros(shape= T)\n",
        "\n",
        "  # Restablishing the first q values of the original series\n",
        "  result[:q] = first_q_values\n",
        "\n",
        "  # Creation of the q subseries\n",
        "  for t0 in range(q):\n",
        "    sub_series = series[t0+q::q].to_numpy()\n",
        "\n",
        "    sub_series = first_q_values[t0] + np.cumsum(sub_series)\n",
        "\n",
        "    # Population of the subseries\n",
        "    for k in range(len(sub_series)):\n",
        "      result[t0 + (k+1)*q] = sub_series[k]\n",
        "\n",
        "  return pd.Series(result, index = original_index)"
      ],
      "metadata": {
        "id": "Mu_van-HPsNi"
      },
      "execution_count": 62,
      "outputs": []
    },
    {
      "cell_type": "code",
      "source": [
        "hist[\"Open_diff_integrated\"] = integrate_series(first_q_values, hist[\"Open_diff\"])"
      ],
      "metadata": {
        "id": "RFwVXxsOWXXH"
      },
      "execution_count": 63,
      "outputs": []
    },
    {
      "cell_type": "code",
      "source": [
        "hist.reset_index().plot(x=\"Date\", y= [\"Open\", \"Open_diff_integrated\"])"
      ],
      "metadata": {
        "colab": {
          "base_uri": "https://localhost:8080/",
          "height": 467
        },
        "id": "WE2kY8Emi3Kt",
        "outputId": "ca65290b-3250-4d48-887a-e1e561856d95"
      },
      "execution_count": 64,
      "outputs": [
        {
          "output_type": "execute_result",
          "data": {
            "text/plain": [
              "<Axes: xlabel='Date'>"
            ]
          },
          "metadata": {},
          "execution_count": 64
        },
        {
          "output_type": "display_data",
          "data": {
            "text/plain": [
              "<Figure size 640x480 with 1 Axes>"
            ],
            "image/png": "[encoded data removed]"
          },
          "metadata": {}
        }
      ]
    },
    {
      "cell_type": "markdown",
      "source": [
        "## Training and Validation Test Split"
      ],
      "metadata": {
        "id": "vd4-L457Rvrb"
      }
    },
    {
      "cell_type": "code",
      "source": [
        "number_time_steps = hist.shape[0]\n",
        "train_perc = 80.0\n",
        "train_index = int(np.floor(number_time_steps * train_perc/100.0))\n",
        "\n",
        "train_set = hist.iloc[:train_index]\n",
        "val_set = hist.iloc[train_index:]"
      ],
      "metadata": {
        "id": "34UuADQ1Rzks"
      },
      "execution_count": 65,
      "outputs": []
    },
    {
      "cell_type": "markdown",
      "source": [
        "## Naive Forecast\n",
        "\n",
        "Naive forecast predicts value at time $t+1$ as equal to the value of the series at time $t$. This will be our baseline model to evaluate all the models against it. Note that naive forecast $\\hat{x}_{t+1}$ is equivalent to moving average $\\overline{x}_t$ at time $t$ with $w=1$ in fact:\n",
        "\n",
        "\\begin{align}\n",
        "\\hat{x}_{t+1} \\approx \\overline{x}_t = \\frac{1}{1} \\sum_{i = t-1+1}^t x_i = \\sum_{i = t}^t x_i = x_{t}\n",
        "\\end{align}\n"
      ],
      "metadata": {
        "id": "NNYAFbLdU0Lc"
      }
    },
    {
      "cell_type": "code",
      "source": [
        "data_one_time_tep_before = hist[\"Open\"][train_index - 1:-1].values\n",
        "\n",
        "val_set[\"naive_forecast\"] = pd.Series(data = data_one_time_tep_before, index =val_set.index )"
      ],
      "metadata": {
        "id": "oYlW0rYiUxbb",
        "outputId": "ee3de593-8884-4f41-e5bc-4a916fbf6a7f",
        "colab": {
          "base_uri": "https://localhost:8080/"
        }
      },
      "execution_count": 66,
      "outputs": [
        {
          "output_type": "stream",
          "name": "stderr",
          "text": [
            "<ipython-input-66-c56b9a4f2e39>:3: SettingWithCopyWarning: \n",
            "A value is trying to be set on a copy of a slice from a DataFrame.\n",
            "Try using .loc[row_indexer,col_indexer] = value instead\n",
            "\n",
            "See the caveats in the documentation: https://pandas.pydata.org/pandas-docs/stable/user_guide/indexing.html#returning-a-view-versus-a-copy\n",
            "  val_set[\"naive_forecast\"] = pd.Series(data = data_one_time_tep_before, index =val_set.index )\n"
          ]
        }
      ]
    },
    {
      "cell_type": "code",
      "source": [
        "val_set.reset_index().plot(x=\"Date\",\n",
        "                           y=[\"Open\", \"naive_forecast\"],\n",
        "                           xlim = ('2024-10-01 00:00:00-04:00', '2024-10-15 00:00:00-04:00'),\n",
        "                           ylim = (175, 200))"
      ],
      "metadata": {
        "id": "KPYVoz_EZtsc",
        "outputId": "9794e402-b66f-4fd6-f339-ea67c6cba554",
        "colab": {
          "base_uri": "https://localhost:8080/",
          "height": 473
        }
      },
      "execution_count": 67,
      "outputs": [
        {
          "output_type": "execute_result",
          "data": {
            "text/plain": [
              "<Axes: xlabel='Date'>"
            ]
          },
          "metadata": {},
          "execution_count": 67
        },
        {
          "output_type": "display_data",
          "data": {
            "text/plain": [
              "<Figure size 640x480 with 1 Axes>"
            ],
            "image/png": "[encoded data removed]"
          },
          "metadata": {}
        }
      ]
    },
    {
      "cell_type": "code",
      "source": [
        "errors = val_set[\"Open\"] - val_set[\"naive_forecast\"]\n",
        "abs_errors = np.abs(errors)\n",
        "MAE = abs_errors.mean()\n",
        "print(f\"The Mean Absolute Error (MAE) for the naive forecast is {MAE}\")"
      ],
      "metadata": {
        "colab": {
          "base_uri": "https://localhost:8080/"
        },
        "id": "KJaw9reeruA9",
        "outputId": "7008cbff-1a22-4316-aabe-4376e446a748"
      },
      "execution_count": 68,
      "outputs": [
        {
          "output_type": "stream",
          "name": "stdout",
          "text": [
            "The Mean Absolute Error (MAE) for the naive forecast is 0.712781359856384\n"
          ]
        }
      ]
    },
    {
      "cell_type": "markdown",
      "source": [
        "## Moving Average Forecast"
      ],
      "metadata": {
        "id": "50kLxyyX4v1v"
      }
    },
    {
      "cell_type": "markdown",
      "source": [
        " Let's consider the moving average in the validation set with varying window size:"
      ],
      "metadata": {
        "id": "3ZAOJ6XJbP18"
      }
    },
    {
      "cell_type": "code",
      "source": [
        "import matplotlib.pyplot as plt\n",
        "\n",
        "\n",
        "windows = [1, 7, 30]\n",
        "\n",
        "true_val = val_set[\"Open\"]\n",
        "\n",
        "\n",
        "plt.plot(val_set.index, true_val, label = \"Open\")\n",
        "\n",
        "for w in windows:\n",
        "\n",
        "  mov_val = moving_average_forecast(hist[\"Open\"][train_index - w:], w)\n",
        "  pred_val_index = mov_val.index + delta_t\n",
        "  pred_val = pd.Series(mov_val.values, index = pred_val_index)[:-1]\n",
        "\n",
        "  errors = true_val - pred_val\n",
        "  abs_errors = np.abs(errors)\n",
        "  MAE = abs_errors.mean()\n",
        "\n",
        "  label = f\"{str(w)}, MAE = {MAE:{4}.{2}}\"\n",
        "\n",
        "  plt.plot(mov_val.index, mov_val, label = label)\n",
        "\n",
        "plt.legend(loc=\"upper left\")\n",
        "plt.legend(fontsize = 8.0)\n",
        "plt.show()"
      ],
      "metadata": {
        "colab": {
          "base_uri": "https://localhost:8080/",
          "height": 431
        },
        "id": "lzS7QWqlHK8E",
        "outputId": "5893efec-19d3-44f4-83e3-0b5a0a30f8d7"
      },
      "execution_count": 69,
      "outputs": [
        {
          "output_type": "display_data",
          "data": {
            "text/plain": [
              "<Figure size 640x480 with 1 Axes>"
            ],
            "image/png": "[encoded data removed]"
          },
          "metadata": {}
        }
      ]
    },
    {
      "cell_type": "markdown",
      "source": [
        "### Fourier Transform\n",
        "Fourier transform and Power Spectral Density (PSD) are used to find seasonality in the timeseries. The frequencies of seasonality may be identifying by peaks in the PSD."
      ],
      "metadata": {
        "id": "boLmtrqRGd6f"
      }
    },
    {
      "cell_type": "code",
      "source": [
        "from scipy.fft import fft, ifft\n",
        "import matplotlib.pyplot as plt\n",
        "\n",
        "def plot_psd(N, series, scale =\"log\"):\n",
        "\n",
        "  \"\"\"Function to compute and plot te Power Spectral Density in a series\"\"\"\n",
        "  # Frequencies in cycles/delta_t. Only the positive frequencies are taken\n",
        "  # because the function is real and the FFT is symmetric\n",
        "  frequencies = fftfreq(N, d = 1)[:N//2]\n",
        "\n",
        "  # Discrete Fourier Transform computation. Only te values with Re[ft] >= 0 are taken\n",
        "  ft = fft(series.values)[:N//2]\n",
        "\n",
        "  max_frequency = np.max(frequencies)\n",
        "\n",
        "  # POwer Spectral Density (fft^2)\n",
        "  psd = np.square(np.abs(ft))\n",
        "\n",
        "  plt.xlim(-0.005,max_frequency)\n",
        "\n",
        "  plt.yscale(scale)\n",
        "  plt.plot(frequencies, psd)"
      ],
      "metadata": {
        "id": "F0q8a2GUBpMJ"
      },
      "execution_count": 70,
      "outputs": []
    },
    {
      "cell_type": "code",
      "source": [
        "# Number of time steps\n",
        "N = equispaced_index.size\n",
        "\n",
        "plot_psd(N, hist[\"Open\"])"
      ],
      "metadata": {
        "colab": {
          "base_uri": "https://localhost:8080/",
          "height": 430
        },
        "id": "BjzD6TtXs8v8",
        "outputId": "1ecf78ae-dd8c-4166-cf65-e1cce08194d5"
      },
      "execution_count": 71,
      "outputs": [
        {
          "output_type": "display_data",
          "data": {
            "text/plain": [
              "<Figure size 640x480 with 1 Axes>"
            ],
            "image/png": "[encoded data removed]"
          },
          "metadata": {}
        }
      ]
    },
    {
      "cell_type": "markdown",
      "source": [
        "Therefore there is no seasonality in the time series."
      ],
      "metadata": {
        "id": "HE3lzf2OtkR1"
      }
    },
    {
      "cell_type": "markdown",
      "source": [
        "## Machine Learning"
      ],
      "metadata": {
        "id": "8Ag5Y70RtIvB"
      }
    },
    {
      "cell_type": "markdown",
      "source": [
        "## Stationarity Check"
      ],
      "metadata": {
        "id": "9ZCAUi1LyyX-"
      }
    },
    {
      "cell_type": "code",
      "source": [
        "from statsmodels.tsa.stattools import adfuller\n",
        "\n",
        "def check_stationary(series, significance=0.05):\n",
        "  ADF = adfuller(series, regression = 'c')\n",
        "  test_statistic = ADF[0]\n",
        "  p_value = ADF[1]\n",
        "\n",
        "  if p_value < significance:\n",
        "    msg = \"The series is stationary because there is not unit root in the series \"\n",
        "    msg += f\"\\nbased on a significance of {significance*100}% (Alternate Hypothesis).\"\n",
        "    print(msg)\n",
        "  else:\n",
        "    print(\"The series is not stationary.\")"
      ],
      "metadata": {
        "id": "pySRfQyQvO60"
      },
      "execution_count": 72,
      "outputs": []
    },
    {
      "cell_type": "code",
      "source": [
        "diff = hist[\"Open_diff\"][~hist[\"Open_diff\"].isna()].values"
      ],
      "metadata": {
        "id": "viKBqc3LzFV6"
      },
      "execution_count": 73,
      "outputs": []
    },
    {
      "cell_type": "code",
      "source": [
        "check_stationary(diff)"
      ],
      "metadata": {
        "id": "QvfNSdVFyxOM",
        "colab": {
          "base_uri": "https://localhost:8080/"
        },
        "outputId": "770f9ea1-f9ee-4606-e293-96cb51279b07"
      },
      "execution_count": 74,
      "outputs": [
        {
          "output_type": "stream",
          "name": "stdout",
          "text": [
            "The series is stationary because there is not unit root in the series \n",
            "based on a significance of 5.0% (Alternate Hypothesis).\n"
          ]
        }
      ]
    },
    {
      "cell_type": "markdown",
      "source": [
        "### Partial Auto Correlation Function (PACF)"
      ],
      "metadata": {
        "id": "gQQYi5p788NL"
      }
    },
    {
      "cell_type": "code",
      "source": [
        "from statsmodels.graphics.tsaplots import plot_pacf, plot_acf"
      ],
      "metadata": {
        "id": "YoFCrdvn9FAQ"
      },
      "execution_count": 75,
      "outputs": []
    },
    {
      "cell_type": "code",
      "source": [
        "def plot_PACF(series, confidence=0.95, lags=40, fig_width=12, fig_height=6, xmin=0, xmax=40 , ymin=-1, ymax=1):\n",
        "\n",
        "  \"\"\"Function to plot the partial autcorrelation function\"\"\"\n",
        "  plt.figure(figsize=(fig_width, fig_height))\n",
        "  plot_pacf(series, lags=lags, alpha = 1.0 - confidence)\n",
        "  plt.xlabel('lag')\n",
        "  plt.ylabel('PACF')\n",
        "  plt.xlim(xmin, xmax)\n",
        "  plt.ylim(ymin, ymax)\n",
        "  plt.show()"
      ],
      "metadata": {
        "id": "vOb0tnq-_zGe"
      },
      "execution_count": 83,
      "outputs": []
    },
    {
      "cell_type": "code",
      "source": [
        "def plot_ACF(series, confidence=0.95, lags=40, fig_width=12, fig_height=6, xmin=0, xmax=40 , ymin=-1, ymax=1):\n",
        "\n",
        "  \"\"\"Function to plot the autcorrelation function\"\"\"\n",
        "  plt.figure(figsize=(fig_width, fig_height))\n",
        "  plot_acf(series, lags=lags, alpha = 1.0 - confidence)\n",
        "  plt.xlabel('lag')\n",
        "  plt.ylabel('ACF')\n",
        "  plt.xlim(xmin, xmax)\n",
        "  plt.ylim(ymin, ymax)\n",
        "  plt.show()"
      ],
      "metadata": {
        "id": "X-67690L_01D"
      },
      "execution_count": 84,
      "outputs": []
    },
    {
      "cell_type": "code",
      "source": [
        "plot_PACF(diff)"
      ],
      "metadata": {
        "id": "ghFM6YCiEzzT",
        "outputId": "dec03302-295b-4f03-d52a-9309f3ae643a",
        "colab": {
          "base_uri": "https://localhost:8080/",
          "height": 490
        }
      },
      "execution_count": 85,
      "outputs": [
        {
          "output_type": "display_data",
          "data": {
            "text/plain": [
              "<Figure size 1200x600 with 0 Axes>"
            ]
          },
          "metadata": {}
        },
        {
          "output_type": "display_data",
          "data": {
            "text/plain": [
              "<Figure size 640x480 with 1 Axes>"
            ],
            "image/png": "[encoded data removed]"
          },
          "metadata": {}
        }
      ]
    },
    {
      "cell_type": "code",
      "source": [
        "plot_ACF(diff)"
      ],
      "metadata": {
        "id": "WzWCYSUlAB4Y",
        "outputId": "c946c5dd-751a-4e12-e2a0-d24d9b165c4b",
        "colab": {
          "base_uri": "https://localhost:8080/",
          "height": 490
        }
      },
      "execution_count": 86,
      "outputs": [
        {
          "output_type": "display_data",
          "data": {
            "text/plain": [
              "<Figure size 1200x600 with 0 Axes>"
            ]
          },
          "metadata": {}
        },
        {
          "output_type": "display_data",
          "data": {
            "text/plain": [
              "<Figure size 640x480 with 1 Axes>"
            ],
            "image/png": "[encoded data removed]"
          },
          "metadata": {}
        }
      ]
    },
    {
      "cell_type": "markdown",
      "source": [
        "### Time Window\n",
        "\n",
        "We want to forecast the next value of a time series using a time window made of the previous $n_w$ time steps. Each time window will have an initial time represented by the second time instant of the preceding window. For example for window $j$ and $j+1$ we will have:\n",
        "\n",
        "\\begin{aligned}\n",
        "window_j: \\hspace{2cm} t_j, t_{j+1}, ... , t_{j+n_w-1}, \\\\\n",
        "window_{j+1}: \\hspace{2cm} {t_{j+1}}, t_{j+2}, ... , t_{j+n_w}\n",
        "\\end{aligned}\n",
        "\n",
        "In order to train a supervised machine learning model we need a label for each training sample. In this case, we will have that for each window the first $n_{w-1}$ time steps represents the training sample while the last time step $t_{n_w}$ represents the target to predict.\n"
      ],
      "metadata": {
        "id": "9KQ3dFlNGnS9"
      }
    },
    {
      "cell_type": "code",
      "source": [
        "import tensorflow as tf"
      ],
      "metadata": {
        "id": "SS6-xMypGiVi"
      },
      "execution_count": null,
      "outputs": []
    },
    {
      "cell_type": "code",
      "source": [
        "diff_training_values = diff[:train_index]\n",
        "diff_validation_values = diff[train_index:]"
      ],
      "metadata": {
        "id": "Lsav15eOOcz0"
      },
      "execution_count": null,
      "outputs": []
    },
    {
      "cell_type": "code",
      "source": [
        "# Creation of a tensorflow dataset from list\n",
        "diff_train_set = tf.data.Dataset.from_tensor_slices(diff_training_values)\n",
        "diff_val_set = tf.data.Dataset.from_tensor_slices(diff_validation_values)"
      ],
      "metadata": {
        "id": "COucFAistQG2"
      },
      "execution_count": null,
      "outputs": []
    },
    {
      "cell_type": "code",
      "source": [
        "samples_per_window = 10\n",
        "# Shift used to make a window starting with the second time step of the previous\n",
        "# window\n",
        "# Drop Remainder is used to obtain all windows with an equal number of samples_per_window\n",
        "# Beacuse ML models expect same number of training examples in each window\n",
        "diff_train_set = diff_train_set.window(size=samples_per_window, shift=1, drop_remainder=True)\n",
        "diff_val_set = diff_val_set.window(size=samples_per_window, shift=1, drop_remainder=True)\n",
        "\n",
        "# Storing te numer of windows into a variable used later to shaffle\n",
        "# the dataset\n",
        "number_of_windows_train = tf.data.experimental.cardinality(diff_train_set).numpy()\n",
        "number_of_windows_val = tf.data.experimental.cardinality(diff_train_set).numpy()"
      ],
      "metadata": {
        "id": "DTXRTeYKudiy"
      },
      "execution_count": null,
      "outputs": []
    },
    {
      "cell_type": "code",
      "source": [
        "# Printing the structure of the windows for the first\n",
        "# five windows to check data\n",
        "for idx, window in enumerate(diff_train_set.take(5)):\n",
        "  string = f\"WINDOW {idx}: \"\n",
        "  for elem in window:\n",
        "    string += f\"{str(elem.numpy())[:8]} \"\n",
        "\n",
        "  print(string)"
      ],
      "metadata": {
        "id": "OlpOu9svwtNw",
        "outputId": "17daa4f6-3e44-4a7b-945f-22a012f7eeb6",
        "colab": {
          "base_uri": "https://localhost:8080/"
        }
      },
      "execution_count": null,
      "outputs": [
        {
          "output_type": "stream",
          "name": "stdout",
          "text": [
            "WINDOW 0: -0.01561 -0.01041 -0.00728 -0.01561 -0.01666 -0.01353 0.005206 0.007289 0.004165 0.001041 \n",
            "WINDOW 1: -0.01041 -0.00728 -0.01561 -0.01666 -0.01353 0.005206 0.007289 0.004165 0.001041 -0.00728 \n",
            "WINDOW 2: -0.00728 -0.01561 -0.01666 -0.01353 0.005206 0.007289 0.004165 0.001041 -0.00728 -0.00208 \n",
            "WINDOW 3: -0.01561 -0.01666 -0.01353 0.005206 0.007289 0.004165 0.001041 -0.00728 -0.00208 0.002082 \n",
            "WINDOW 4: -0.01666 -0.01353 0.005206 0.007289 0.004165 0.001041 -0.00728 -0.00208 0.002082 -0.00312 \n"
          ]
        }
      ]
    },
    {
      "cell_type": "code",
      "source": [
        "# Conversion of each window into a tensor.\n",
        "# The batch method takes a number of samples_per_window and create a tensor\n",
        "# The falt_map method run a function on a each dataset part of a nested\n",
        "# dataset\n",
        "\n",
        "diff_train_set = diff_train_set.flat_map(lambda window: window.batch(samples_per_window))\n",
        "diff_val_set = diff_val_set.flat_map(lambda window: window.batch(samples_per_window))"
      ],
      "metadata": {
        "id": "ObL28WuzyMJt"
      },
      "execution_count": null,
      "outputs": []
    },
    {
      "cell_type": "code",
      "source": [
        "# Printing the tensors that constitute the dataset\n",
        "for idx, window in enumerate(diff_train_set.take(5)):\n",
        "  print(f\"TENSOR {idx}: {window.numpy()}\")"
      ],
      "metadata": {
        "id": "N47D_hHQ7TEl",
        "outputId": "04ee6e70-5df2-4558-c3a2-cc6d49e9e8da",
        "colab": {
          "base_uri": "https://localhost:8080/"
        }
      },
      "execution_count": null,
      "outputs": [
        {
          "output_type": "stream",
          "name": "stdout",
          "text": [
            "TENSOR 0: [-0.01561991 -0.01041311 -0.00728954 -0.01561872 -0.01666002 -0.01353622\n",
            "  0.0052066   0.00728903  0.00416523  0.00104112]\n",
            "TENSOR 1: [-0.01041311 -0.00728954 -0.01561872 -0.01666002 -0.01353622  0.0052066\n",
            "  0.00728903  0.00416523  0.00104112 -0.00728832]\n",
            "TENSOR 2: [-0.00728954 -0.01561872 -0.01666002 -0.01353622  0.0052066   0.00728903\n",
            "  0.00416523  0.00104112 -0.00728832 -0.00208221]\n",
            "TENSOR 3: [-0.01561872 -0.01666002 -0.01353622  0.0052066   0.00728903  0.00416523\n",
            "  0.00104112 -0.00728832 -0.00208221  0.00208229]\n",
            "TENSOR 4: [-0.01666002 -0.01353622  0.0052066   0.00728903  0.00416523  0.00104112\n",
            " -0.00728832 -0.00208221  0.00208229 -0.00312442]\n"
          ]
        }
      ]
    },
    {
      "cell_type": "code",
      "source": [
        "# We split each tensor into two tensors one representing the input features and\n",
        "# the other the representing the target. The map method maps each tensor, part of\n",
        "# the dataset into a couple of tensors. The first tensor has the first samples_per_window -1\n",
        "# samples while the last has only the last sample\n",
        "\n",
        "diff_train_set = diff_train_set.map(lambda window: (window[:-1], window[-1:]))\n",
        "diff_val_set = diff_val_set.map(lambda window: (window[:-1], window[-1:]))"
      ],
      "metadata": {
        "id": "r9y431Lw9sYs"
      },
      "execution_count": null,
      "outputs": []
    },
    {
      "cell_type": "code",
      "source": [
        "for input_sample, target_sample in diff_train_set.take(5):\n",
        "  print(f\"INPUT SAMPLE: {input_sample.numpy()} \", f\"TARGET: {target_sample.numpy()}\")"
      ],
      "metadata": {
        "id": "uzR2JDAJBgtU",
        "outputId": "317ca479-7dc8-4b51-c9e3-0ba38932b426",
        "colab": {
          "base_uri": "https://localhost:8080/"
        }
      },
      "execution_count": null,
      "outputs": [
        {
          "output_type": "stream",
          "name": "stdout",
          "text": [
            "INPUT SAMPLE: [-0.01561991 -0.01041311 -0.00728954 -0.01561872 -0.01666002 -0.01353622\n",
            "  0.0052066   0.00728903  0.00416523]  TARGET: [0.00104112]\n",
            "INPUT SAMPLE: [-0.01041311 -0.00728954 -0.01561872 -0.01666002 -0.01353622  0.0052066\n",
            "  0.00728903  0.00416523  0.00104112]  TARGET: [-0.00728832]\n",
            "INPUT SAMPLE: [-0.00728954 -0.01561872 -0.01666002 -0.01353622  0.0052066   0.00728903\n",
            "  0.00416523  0.00104112 -0.00728832]  TARGET: [-0.00208221]\n",
            "INPUT SAMPLE: [-0.01561872 -0.01666002 -0.01353622  0.0052066   0.00728903  0.00416523\n",
            "  0.00104112 -0.00728832 -0.00208221]  TARGET: [0.00208229]\n",
            "INPUT SAMPLE: [-0.01666002 -0.01353622  0.0052066   0.00728903  0.00416523  0.00104112\n",
            " -0.00728832 -0.00208221  0.00208229]  TARGET: [-0.00312442]\n"
          ]
        }
      ]
    },
    {
      "cell_type": "code",
      "source": [
        "# When a ML model is trained it is necessary that the samples are\n",
        "# Independent and and Identically Distributed (IID)\n",
        "# IID can be guaranteed by shuffllying the dataset\n",
        "# therefore the order of the windows in the dataset changes but the structure\n",
        "# of each window remains the same\n",
        "\n",
        "diff_train_set = diff_train_set.shuffle(buffer_size = number_of_windows_train)\n",
        "#diff_val_set = diff_train_set.shuffle(buffer_size = number_of_windows_val)"
      ],
      "metadata": {
        "id": "RRVwWrKlByyb"
      },
      "execution_count": null,
      "outputs": []
    },
    {
      "cell_type": "code",
      "source": [
        "# Showing the shuffled dataset\n",
        "for input_sample, target_sample in diff_train_set.take(5):\n",
        "  print(f\"INPUT SAMPLE: {input_sample.numpy()} \", f\"TARGET: {target_sample.numpy()}\")"
      ],
      "metadata": {
        "id": "ycySSTD1r2F4",
        "outputId": "a92d18bf-c41e-4648-88f5-7aa53310db4e",
        "colab": {
          "base_uri": "https://localhost:8080/"
        }
      },
      "execution_count": null,
      "outputs": [
        {
          "output_type": "stream",
          "name": "stdout",
          "text": [
            "INPUT SAMPLE: [-2.13596298e-02 -1.88465380e-02 -1.75899872e-02 -2.51268678e-03\n",
            "  1.54352254e-07  6.28193106e-03  1.50769571e-02  1.25642080e-02\n",
            "  2.68118396e-07]  TARGET: [-0.00251284]\n",
            "INPUT SAMPLE: [ 0.00957555  0.01063956  0.01595844 -0.00425545  0.0095747   0.00957502\n",
            "  0.02021425  0.00531944  0.00957501]  TARGET: [-0.00106423]\n",
            "INPUT SAMPLE: [0.01776266 0.0142104  0.01184183 0.00236862 0.00146729 0.0086254\n",
            " 0.01341493 0.02982708 0.02266898]  TARGET: [0.01551081]\n",
            "INPUT SAMPLE: [ 0.01965918 -0.05899451  0.17701527  0.2360163   0.40318232  0.04916497\n",
            " -0.00983606 -0.11800757 -0.10817352]  TARGET: [-0.29500896]\n",
            "INPUT SAMPLE: [ 1.33524423  1.16406051  1.74609613  0.          0.68474285  4.27964143\n",
            "  0.85593403  2.12270072 -0.30814283]  TARGET: [3.11556458]\n"
          ]
        }
      ]
    },
    {
      "cell_type": "code",
      "source": [
        "windows_per_batch = 2\n",
        "\n",
        "# Creating mini batches of windows_per_batch\n",
        "diff_train_set = diff_train_set.batch(windows_per_batch).prefetch(1)\n",
        "diff_val_set = diff_val_set.batch(windows_per_batch).prefetch(1)"
      ],
      "metadata": {
        "id": "yZ_Ug26tv6rS"
      },
      "execution_count": null,
      "outputs": []
    },
    {
      "cell_type": "code",
      "source": [
        "for idx, (X_train, Y_train) in enumerate(diff_train_set.take(5)):\n",
        "  print(f\"BATCH {idx}:\\nX_train={X_train.numpy()}, Y_train={Y_train.numpy()}\")"
      ],
      "metadata": {
        "id": "qtyJOUhQwtln",
        "outputId": "b8e58fa7-d2e9-44d4-c16b-9d9076818fa9",
        "colab": {
          "base_uri": "https://localhost:8080/"
        }
      },
      "execution_count": null,
      "outputs": [
        {
          "output_type": "stream",
          "name": "stdout",
          "text": [
            "BATCH 0:\n",
            "X_train=[[ 0.0384956  -0.21171551 -0.17322093 -0.02887162  0.22133949  0.18284491\n",
            "  -0.09623481  0.01924779  0.00962323]\n",
            " [-0.01930679 -0.03008163 -0.00269077  0.00537904  0.01882845 -0.02151709\n",
            "  -0.04572528 -0.04572607 -0.01614032]], Y_train=[[-0.08661164]\n",
            " [ 0.03227678]]\n",
            "BATCH 1:\n",
            "X_train=[[ 0.27157334  1.72003657  2.26322406  2.98745527  1.56919413  1.02600663\n",
            "   0.03020209  0.8751074   0.5733421 ]\n",
            " [-0.04509597  0.22548698  0.29315259  0.29314572  0.09020588 -0.47354653\n",
            "  -0.38335235 -0.36079943 -0.15784878]], Y_train=[[ 0.12068328]\n",
            " [-0.27059555]]\n",
            "BATCH 2:\n",
            "X_train=[[-1.26825678e-02 -3.92034964e-02 -6.91815445e-03 -8.07164313e-03\n",
            "   1.84492854e-02  4.88381280e-07  1.15290777e-03 -5.76622238e-03\n",
            "  -1.15309411e-02]\n",
            " [ 1.94631254e+00  1.63150210e+00 -6.58278384e-01 -8.01406689e-01\n",
            "  -1.20216638e+00  3.72098328e-01 -1.20214767e+00  5.72419692e-01\n",
            "  -4.00711021e+00]], Y_train=[[-0.02075546]\n",
            " [-2.43286421]]\n",
            "BATCH 3:\n",
            "X_train=[[-1.46843580e+00  3.39374775e+00  2.93689972e+00  2.12109341e+00\n",
            "  -3.32850016e+00 -5.48220531e+00 -4.66639900e+00 -2.61055318e+00\n",
            "   1.14211260e+00]\n",
            " [-3.22781788e-02 -5.37954737e-03  8.07036638e-03  3.49673289e-02\n",
            "   8.06869750e-03 -5.38024588e-03 -8.06942300e-03 -8.06942300e-03\n",
            "  -8.06893197e-03]], Y_train=[[ 1.72949894]\n",
            " [-0.02151826]]\n",
            "BATCH 4:\n",
            "X_train=[[-0.18590332 -0.04648223 -0.09295488 -0.46472895 -0.48795523 -0.58091241\n",
            "  -0.25561185  0.0464615   0.13941869]\n",
            " [-0.01140499 -0.01425627 -0.00570167 -0.01996012 -0.01710884 -0.01710896\n",
            "   0.00855388  0.03421672  0.02851294]], Y_train=[[ 0.27884707]\n",
            " [-0.0142575 ]]\n"
          ]
        }
      ]
    },
    {
      "cell_type": "code",
      "source": [
        "for idx, (X_val, Y_val) in enumerate(diff_val_set.take(5)):\n",
        "  print(f\"BATCH {idx}:\\nX_train={X_val.numpy()}, Y_train={Y_val.numpy()}\")"
      ],
      "metadata": {
        "id": "3DqVqvWixQlu",
        "colab": {
          "base_uri": "https://localhost:8080/"
        },
        "outputId": "0dc669a3-9719-4ab8-fe43-1c395f450cca"
      },
      "execution_count": null,
      "outputs": [
        {
          "output_type": "stream",
          "name": "stdout",
          "text": [
            "BATCH 0:\n",
            "X_train=[[-1.91330773 -1.83825408 -2.21340673 -0.3376259   0.22506173  0.60021439\n",
            "   0.63774128 -0.75029356 -0.56270934]\n",
            " [-1.83825408 -2.21340673 -0.3376259   0.22506173  0.60021439  0.63774128\n",
            "  -0.75029356 -0.56270934  0.18759274]], Y_train=[[0.18759274]\n",
            " [0.71277299]]\n",
            "BATCH 1:\n",
            "X_train=[[-2.21340673 -0.3376259   0.22506173  0.60021439  0.63774128 -0.75029356\n",
            "  -0.56270934  0.18759274  0.71277299]\n",
            " [-0.3376259   0.22506173  0.60021439  0.63774128 -0.75029356 -0.56270934\n",
            "   0.18759274  0.71277299  1.50062846]], Y_train=[[1.50062846]\n",
            " [0.75032637]]\n",
            "BATCH 2:\n",
            "X_train=[[ 0.22506173  0.60021439  0.63774128 -0.75029356 -0.56270934  0.18759274\n",
            "   0.71277299  1.50062846  0.75032637]\n",
            " [ 0.60021439  0.63774128 -0.75029356 -0.56270934  0.18759274  0.71277299\n",
            "   1.50062846  0.75032637  0.97543968]], Y_train=[[ 0.97543968]\n",
            " [-1.3880953 ]]\n",
            "BATCH 3:\n",
            "X_train=[[ 0.63774128 -0.75029356 -0.56270934  0.18759274  0.71277299  1.50062846\n",
            "   0.75032637  0.97543968 -1.3880953 ]\n",
            " [-0.75029356 -0.56270934  0.18759274  0.71277299  1.50062846  0.75032637\n",
            "   0.97543968 -1.3880953  -0.90038436]], Y_train=[[-0.90038436]\n",
            " [ 1.27551483]]\n",
            "BATCH 4:\n",
            "X_train=[[-0.56270934  0.18759274  0.71277299  1.50062846  0.75032637  0.97543968\n",
            "  -1.3880953  -0.90038436  1.27551483]\n",
            " [ 0.18759274  0.71277299  1.50062846  0.75032637  0.97543968 -1.3880953\n",
            "  -0.90038436  1.27551483  1.38810186]], Y_train=[[1.38810186]\n",
            " [1.87578663]]\n"
          ]
        }
      ]
    },
    {
      "cell_type": "markdown",
      "source": [
        "## Linear Regression Model ( Classical AR Model)"
      ],
      "metadata": {
        "id": "Cd5vQkp0NlKq"
      }
    },
    {
      "cell_type": "code",
      "source": [
        "from keras.models import Sequential\n",
        "from keras.layers import Dense\n",
        "from keras.optimizers import SGD\n",
        "from keras.losses import Huber"
      ],
      "metadata": {
        "id": "6qSNrj6aN0b8"
      },
      "execution_count": null,
      "outputs": []
    },
    {
      "cell_type": "code",
      "source": [
        "# We create a model with one Dense layer. By default the dense layer\n",
        "# uses a linear activation function for all neurons. Therefore we will\n",
        "# have a linear regression where the features are the previous n_w-1 time\n",
        "# steps and the target is n_w-th time step\n",
        "\n",
        "linear_model = Sequential([\n",
        "  Dense(1, input_shape=[samples_per_window - 1])\n",
        "])"
      ],
      "metadata": {
        "colab": {
          "base_uri": "https://localhost:8080/"
        },
        "id": "kD9pzXOWNTsi",
        "outputId": "c62e81ca-8cb8-43f0-934e-96ee617886ad"
      },
      "execution_count": null,
      "outputs": [
        {
          "output_type": "stream",
          "name": "stderr",
          "text": [
            "/usr/local/lib/python3.10/dist-packages/keras/src/layers/core/dense.py:87: UserWarning: Do not pass an `input_shape`/`input_dim` argument to a layer. When using Sequential models, prefer using an `Input(shape)` object as the first layer in the model instead.\n",
            "  super().__init__(activity_regularizer=activity_regularizer, **kwargs)\n"
          ]
        }
      ]
    },
    {
      "cell_type": "code",
      "source": [
        "# Optimizer. Stochasting Gradient Descend with learning rate e-05\n",
        "optimizer = SGD(learning_rate=1e-5, momentum=0.9)\n",
        "linear_model.compile(loss=Huber(),\n",
        "              optimizer=optimizer,\n",
        "              metrics=[\"mae\"])"
      ],
      "metadata": {
        "id": "0npJs6kBOziZ"
      },
      "execution_count": null,
      "outputs": []
    },
    {
      "cell_type": "code",
      "source": [
        "linear_model.fit(diff_train_set, epochs=12, validation_data=diff_val_set)"
      ],
      "metadata": {
        "id": "7X5KgoqgPMpt",
        "outputId": "75defcb6-05d1-4034-d86d-6a1372b1e3c3",
        "colab": {
          "base_uri": "https://localhost:8080/"
        }
      },
      "execution_count": null,
      "outputs": [
        {
          "output_type": "stream",
          "name": "stdout",
          "text": [
            "Epoch 1/12\n",
            "   9164/Unknown \u001b[1m19s\u001b[0m 2ms/step - loss: 0.2863 - mae: 0.4481"
          ]
        },
        {
          "output_type": "stream",
          "name": "stderr",
          "text": [
            "/usr/lib/python3.10/contextlib.py:153: UserWarning: Your input ran out of data; interrupting training. Make sure that your dataset or generator can generate at least `steps_per_epoch * epochs` batches. You may need to use the `.repeat()` function when building your dataset.\n",
            "  self.gen.throw(typ, value, traceback)\n"
          ]
        },
        {
          "output_type": "stream",
          "name": "stdout",
          "text": [
            "\b\b\b\b\b\b\b\b\b\b\b\b\b\b\b\b\b\b\b\b\b\b\b\b\b\b\b\b\b\b\b\b\b\b\b\b\b\b\b\b\b\b\b\b\b\b\b\b\b\b\b\b\b\b\b\b\b\r\u001b[1m9174/9174\u001b[0m \u001b[32m━━━━━━━━━━━━━━━━━━━━\u001b[0m\u001b[37m\u001b[0m \u001b[1m24s\u001b[0m 2ms/step - loss: 0.2863 - mae: 0.4481 - val_loss: 0.7051 - val_mae: 1.0917\n",
            "Epoch 2/12\n",
            "\u001b[1m9174/9174\u001b[0m \u001b[32m━━━━━━━━━━━━━━━━━━━━\u001b[0m\u001b[37m\u001b[0m \u001b[1m35s\u001b[0m 2ms/step - loss: 0.2684 - mae: 0.4243 - val_loss: 0.6791 - val_mae: 1.0624\n",
            "Epoch 3/12\n",
            "\u001b[1m9174/9174\u001b[0m \u001b[32m━━━━━━━━━━━━━━━━━━━━\u001b[0m\u001b[37m\u001b[0m \u001b[1m20s\u001b[0m 2ms/step - loss: 0.2848 - mae: 0.4438 - val_loss: 0.6578 - val_mae: 1.0381\n",
            "Epoch 4/12\n",
            "\u001b[1m9174/9174\u001b[0m \u001b[32m━━━━━━━━━━━━━━━━━━━━\u001b[0m\u001b[37m\u001b[0m \u001b[1m19s\u001b[0m 2ms/step - loss: 0.2603 - mae: 0.4149 - val_loss: 0.6393 - val_mae: 1.0164\n",
            "Epoch 5/12\n",
            "\u001b[1m9174/9174\u001b[0m \u001b[32m━━━━━━━━━━━━━━━━━━━━\u001b[0m\u001b[37m\u001b[0m \u001b[1m22s\u001b[0m 2ms/step - loss: 0.2508 - mae: 0.4035 - val_loss: 0.6231 - val_mae: 0.9973\n",
            "Epoch 6/12\n",
            "\u001b[1m9174/9174\u001b[0m \u001b[32m━━━━━━━━━━━━━━━━━━━━\u001b[0m\u001b[37m\u001b[0m \u001b[1m17s\u001b[0m 2ms/step - loss: 0.2412 - mae: 0.3938 - val_loss: 0.6095 - val_mae: 0.9806\n",
            "Epoch 7/12\n",
            "\u001b[1m9174/9174\u001b[0m \u001b[32m━━━━━━━━━━━━━━━━━━━━\u001b[0m\u001b[37m\u001b[0m \u001b[1m22s\u001b[0m 2ms/step - loss: 0.2424 - mae: 0.3952 - val_loss: 0.5986 - val_mae: 0.9678\n",
            "Epoch 8/12\n",
            "\u001b[1m9174/9174\u001b[0m \u001b[32m━━━━━━━━━━━━━━━━━━━━\u001b[0m\u001b[37m\u001b[0m \u001b[1m19s\u001b[0m 2ms/step - loss: 0.2420 - mae: 0.3919 - val_loss: 0.5886 - val_mae: 0.9556\n",
            "Epoch 9/12\n",
            "\u001b[1m9174/9174\u001b[0m \u001b[32m━━━━━━━━━━━━━━━━━━━━\u001b[0m\u001b[37m\u001b[0m \u001b[1m17s\u001b[0m 2ms/step - loss: 0.2323 - mae: 0.3806 - val_loss: 0.5794 - val_mae: 0.9445\n",
            "Epoch 10/12\n",
            "\u001b[1m9174/9174\u001b[0m \u001b[32m━━━━━━━━━━━━━━━━━━━━\u001b[0m\u001b[37m\u001b[0m \u001b[1m21s\u001b[0m 2ms/step - loss: 0.2258 - mae: 0.3721 - val_loss: 0.5726 - val_mae: 0.9359\n",
            "Epoch 11/12\n",
            "\u001b[1m9174/9174\u001b[0m \u001b[32m━━━━━━━━━━━━━━━━━━━━\u001b[0m\u001b[37m\u001b[0m \u001b[1m20s\u001b[0m 2ms/step - loss: 0.2331 - mae: 0.3817 - val_loss: 0.5664 - val_mae: 0.9280\n",
            "Epoch 12/12\n",
            "\u001b[1m9174/9174\u001b[0m \u001b[32m━━━━━━━━━━━━━━━━━━━━\u001b[0m\u001b[37m\u001b[0m \u001b[1m19s\u001b[0m 2ms/step - loss: 0.2255 - mae: 0.3712 - val_loss: 0.5615 - val_mae: 0.9216\n"
          ]
        },
        {
          "output_type": "execute_result",
          "data": {
            "text/plain": [
              "<keras.src.callbacks.history.History at 0x7c31d5194a30>"
            ]
          },
          "metadata": {},
          "execution_count": 63
        }
      ]
    },
    {
      "cell_type": "code",
      "source": [
        "def get_val_dataset(series, samples_per_window=2, windows_per_batch=2):\n",
        "  dataset = tf.data.Dataset.from_tensor_slices(series)\n",
        "  dataset = dataset.window(size=samples_per_window - 1, shift=1, drop_remainder=True)\n",
        "  dataset = dataset.flat_map(lambda window: window.batch(samples_per_window))\n",
        "  dataset  = dataset.batch(windows_per_batch).prefetch(1)\n",
        "  return dataset"
      ],
      "metadata": {
        "id": "qIIunFuWhaXL"
      },
      "execution_count": null,
      "outputs": []
    },
    {
      "cell_type": "code",
      "source": [
        "test =  get_val_dataset(diff_training_values, samples_per_window= samples_per_window)"
      ],
      "metadata": {
        "id": "yM51AXScklCq"
      },
      "execution_count": null,
      "outputs": []
    },
    {
      "cell_type": "code",
      "source": [
        "diff_pred = linear_model.predict(test)"
      ],
      "metadata": {
        "id": "4jYQBYjFxDEl",
        "outputId": "2c5c029a-ae69-4c38-b50d-9f4104ca3242",
        "colab": {
          "base_uri": "https://localhost:8080/"
        }
      },
      "execution_count": null,
      "outputs": [
        {
          "output_type": "stream",
          "name": "stdout",
          "text": [
            "\u001b[1m9175/9175\u001b[0m \u001b[32m━━━━━━━━━━━━━━━━━━━━\u001b[0m\u001b[37m\u001b[0m \u001b[1m19s\u001b[0m 2ms/step\n"
          ]
        }
      ]
    },
    {
      "cell_type": "code",
      "source": [
        "fig, axes = plt.subplots(1,2)\n",
        "axes[0].plot(diff_pred, label='diff_pred')\n",
        "axes[0].set_ylim(-10,10)\n",
        "axes[1].plot(diff_training_values[samples_per_window - 2:], label='diff_validation')\n",
        "axes[1].set_ylim(-10,10)"
      ],
      "metadata": {
        "id": "GmMg9-BJrR9d",
        "outputId": "6a76274a-8b78-4e18-efdc-02b2cd524263",
        "colab": {
          "base_uri": "https://localhost:8080/",
          "height": 453
        }
      },
      "execution_count": null,
      "outputs": [
        {
          "output_type": "execute_result",
          "data": {
            "text/plain": [
              "(-10.0, 10.0)"
            ]
          },
          "metadata": {},
          "execution_count": 67
        },
        {
          "output_type": "display_data",
          "data": {
            "text/plain": [
              "<Figure size 640x480 with 2 Axes>"
            ],
            "image/png": "[encoded data removed]"
          },
          "metadata": {}
        }
      ]
    },
    {
      "cell_type": "code",
      "source": [],
      "metadata": {
        "id": "em7TaWCO_db5"
      },
      "execution_count": null,
      "outputs": []
    }
  ]
}