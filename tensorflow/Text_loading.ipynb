{
  "nbformat": 4,
  "nbformat_minor": 0,
  "metadata": {
    "colab": {
      "provenance": [],
      "gpuType": "T4",
      "include_colab_link": true
    },
    "kernelspec": {
      "name": "python3",
      "display_name": "Python 3"
    },
    "language_info": {
      "name": "python"
    },
    "accelerator": "GPU"
  },
  "cells": [
    {
      "cell_type": "markdown",
      "metadata": {
        "id": "view-in-github",
        "colab_type": "text"
      },
      "source": [
        "<a href=\"https://colab.research.google.com/github/Aerospace87/ML-projects/blob/main/tensorflow/Text_loading.ipynb\" target=\"_parent\"><img src=\"https://colab.research.google.com/assets/colab-badge.svg\" alt=\"Open In Colab\"/></a>"
      ]
    },
    {
      "cell_type": "code",
      "source": [
        "from google.colab import drive\n",
        "\n",
        "# Mount your Google Drive to the local /content/drive directory\n",
        "drive.mount('/content/drive')"
      ],
      "metadata": {
        "colab": {
          "base_uri": "https://localhost:8080/"
        },
        "id": "bN5FFh8dZO4r",
        "outputId": "54152db5-ff24-4cb1-cf3f-aa3152ae1125"
      },
      "execution_count": 100,
      "outputs": [
        {
          "output_type": "stream",
          "name": "stdout",
          "text": [
            "Drive already mounted at /content/drive; to attempt to forcibly remount, call drive.mount(\"/content/drive\", force_remount=True).\n"
          ]
        }
      ]
    },
    {
      "cell_type": "code",
      "source": [
        "from os import listdir, path\n",
        "\n",
        "local_folder = \"/content/drive/My Drive/\"\n",
        "\n",
        "with open(path.join(local_folder ,\"dataset/shakespeare.txt\")) as f:\n",
        "  shakespeare_dataset = f.read()"
      ],
      "metadata": {
        "id": "npuZyxQbZlMX"
      },
      "execution_count": 101,
      "outputs": []
    },
    {
      "cell_type": "markdown",
      "source": [
        "## Cleaning the dataset and spliting into training examples and lables"
      ],
      "metadata": {
        "id": "uj4z2aNMhL7q"
      }
    },
    {
      "cell_type": "code",
      "source": [
        "shakespeare_dataset = shakespeare_dataset.split('\\n\\n')\n",
        "shakespeare_dataset = shakespeare_dataset[2:-1]"
      ],
      "metadata": {
        "id": "wTnSDjJaaznG"
      },
      "execution_count": 102,
      "outputs": []
    },
    {
      "cell_type": "code",
      "source": [
        "sos_token = \"<SOS>\"\n",
        "eos_token = \"<EOS>\"\n",
        "space = \" \"\n",
        "\n",
        "dataset = [[sos_token + space + document ] for document in shakespeare_dataset if document != \"\"]\n",
        "labels = [[document + space + eos_token] for document in shakespeare_dataset if document != \"\"]\n",
        "\n",
        "number_documents = len(dataset)\n",
        "print(number_documents)"
      ],
      "metadata": {
        "colab": {
          "base_uri": "https://localhost:8080/"
        },
        "id": "dOLxIH3SftBN",
        "outputId": "74c43c57-16c0-42b3-f8d4-ac7c755cd9be"
      },
      "execution_count": 103,
      "outputs": [
        {
          "output_type": "stream",
          "name": "stdout",
          "text": [
            "141\n"
          ]
        }
      ]
    },
    {
      "cell_type": "code",
      "source": [
        "max_doc_length = 0\n",
        "\n",
        "for doc in dataset:\n",
        "  if len(doc[0].split()) > max_doc_length:\n",
        "\n",
        "    max_doc_length = len(doc[0].split())\n",
        "\n",
        "print(max_doc_length)"
      ],
      "metadata": {
        "colab": {
          "base_uri": "https://localhost:8080/"
        },
        "id": "kDXU2qZt5yvM",
        "outputId": "0bde3f3a-4e99-457c-c268-127a206d562c"
      },
      "execution_count": 104,
      "outputs": [
        {
          "output_type": "stream",
          "name": "stdout",
          "text": [
            "238\n"
          ]
        }
      ]
    },
    {
      "cell_type": "markdown",
      "source": [
        "## Split dataset into a training an validation set"
      ],
      "metadata": {
        "id": "DTG-n-WBJYwJ"
      }
    },
    {
      "cell_type": "code",
      "source": [
        "training_percentage = 80\n",
        "\n",
        "training_samples = (number_documents * training_percentage) // 100\n",
        "validation_samples = number_documents - training_samples\n",
        "\n",
        "X_train = dataset[:training_samples]\n",
        "Y_train = labels[:training_samples]\n",
        "\n",
        "X_val = dataset[training_samples:]\n",
        "Y_val = labels[training_samples:]"
      ],
      "metadata": {
        "id": "8sgvj47Uh2st"
      },
      "execution_count": 105,
      "outputs": []
    },
    {
      "cell_type": "markdown",
      "source": [
        "## Text Vectorization"
      ],
      "metadata": {
        "id": "7LIQBFr6hZnu"
      }
    },
    {
      "cell_type": "code",
      "source": [
        "from tensorflow.keras import layers\n",
        "text_vectorization = layers.TextVectorization(\n",
        "    standardize='lower',\n",
        "    split='whitespace',\n",
        "    output_mode='int',\n",
        "    output_sequence_length = max_doc_length\n",
        ")"
      ],
      "metadata": {
        "id": "wH29U7e1JWQl"
      },
      "execution_count": 106,
      "outputs": []
    },
    {
      "cell_type": "code",
      "source": [
        "text_vectorization.adapt(dataset)"
      ],
      "metadata": {
        "id": "6x_KRTG40fyo"
      },
      "execution_count": 107,
      "outputs": []
    },
    {
      "cell_type": "code",
      "source": [
        "dataset = text_vectorization(dataset)\n",
        "vocabulary_size = text_vectorization.vocabulary_size()\n",
        "vocabulary = text_vectorization.get_vocabulary()"
      ],
      "metadata": {
        "id": "ksxKhBvN2ZY3"
      },
      "execution_count": 108,
      "outputs": []
    },
    {
      "cell_type": "code",
      "source": [
        "# Dictionay to map back from integer index to word\n",
        "from_int_to_word ={}\n",
        "from_word_to_int = {}\n",
        "\n",
        "for idx,word in enumerate(vocabulary):\n",
        "    from_int_to_word[idx] = word\n",
        "    from_word_to_int[word] = idx"
      ],
      "metadata": {
        "id": "5F5LZ9L0dlxH"
      },
      "execution_count": 109,
      "outputs": []
    },
    {
      "cell_type": "code",
      "source": [
        "labels = text_vectorization(labels)"
      ],
      "metadata": {
        "id": "P2bTCWDR8oPD"
      },
      "execution_count": 110,
      "outputs": []
    },
    {
      "cell_type": "code",
      "source": [
        "X_train = text_vectorization(X_train)\n",
        "Y_train = text_vectorization(Y_train)\n",
        "X_val = text_vectorization(X_val)\n",
        "Y_val = text_vectorization(Y_val)"
      ],
      "metadata": {
        "id": "scwW70IpMMn8"
      },
      "execution_count": 111,
      "outputs": []
    },
    {
      "cell_type": "markdown",
      "source": [
        "## Creation of a tensorflow dataset using training examples and labels"
      ],
      "metadata": {
        "id": "dKgmmm_Thsh5"
      }
    },
    {
      "cell_type": "code",
      "source": [
        "from tensorflow.data import Dataset\n",
        "# Creation of the datasets to feed to the model\n",
        "train_dataset = Dataset.from_tensor_slices(\n",
        "    (X_train, Y_train)\n",
        ")\n",
        "\n",
        "val_dataset = Dataset.from_tensor_slices(\n",
        "    (X_val, Y_val)\n",
        ")\n",
        "\n",
        "train_size = X_train.shape[0]\n",
        "\n",
        "# shuffle and split into batches of batch size BATCH_SIZE\n",
        "BATCH_SIZE = 64\n",
        "\n",
        "# Buffer size of the buffer to shuffle the dataset\n",
        "# Otherfwise TF will have the full dataset in memory\n",
        "BUFFER_SIZE = 10000\n",
        "\n",
        "train_dataset = train_dataset.shuffle(BUFFER_SIZE).batch(BATCH_SIZE)\n",
        "val_dataset = val_dataset.shuffle(BUFFER_SIZE).batch(BATCH_SIZE)"
      ],
      "metadata": {
        "id": "q7YVF4VdnO-H"
      },
      "execution_count": 112,
      "outputs": []
    },
    {
      "cell_type": "markdown",
      "source": [
        "## Model Creation"
      ],
      "metadata": {
        "id": "5lTI1Aqbve9Z"
      }
    },
    {
      "cell_type": "code",
      "source": [
        "word_embedding_vector_dimension = 16\n",
        "\n",
        "word_embedding = layers.Embedding(\n",
        "    input_dim = vocabulary_size,\n",
        "    output_dim=word_embedding_vector_dimension\n",
        ")"
      ],
      "metadata": {
        "id": "OFPAABPjFNC-"
      },
      "execution_count": 113,
      "outputs": []
    },
    {
      "cell_type": "code",
      "source": [
        "lstm_layer_1 = layers.LSTM(128, return_sequences = True, return_state=True)\n",
        "lstm_layer_2 = layers.LSTM(128, return_sequences = True, return_state=True)"
      ],
      "metadata": {
        "id": "rPeN1be5ITjy"
      },
      "execution_count": 114,
      "outputs": []
    },
    {
      "cell_type": "code",
      "source": [
        "\n",
        "from tensorflow.keras.activations import softmax\n",
        "softmax_layer = layers.Dense(units=vocabulary_size, activation=softmax)"
      ],
      "metadata": {
        "id": "51Re3nZWum-u"
      },
      "execution_count": 115,
      "outputs": []
    },
    {
      "cell_type": "code",
      "source": [
        "# Because we need to output the state (which is a tensor) and the output\n",
        "# then we must use the functional API\n",
        "from tensorflow.keras import Input, Model"
      ],
      "metadata": {
        "id": "C7H3mVzp5XZw"
      },
      "execution_count": 116,
      "outputs": []
    },
    {
      "cell_type": "code",
      "source": [
        "class CustomModel(Model):\n",
        "  def __init__(self, vocabulary_size, embedding_vector_dimension, lstm_units):\n",
        "    super().__init__()\n",
        "\n",
        "    self.word_embedding = layers.Embedding(\n",
        "                                          input_dim = vocabulary_size,\n",
        "                                          output_dim=embedding_vector_dimension\n",
        "                                          )\n",
        "    self.lstm1 = layers.LSTM(lstm_units, return_sequences = True, return_state=True)\n",
        "\n",
        "    self.lstm2 = layers.LSTM(lstm_units, return_sequences = True, return_state=True)\n",
        "\n",
        "\n",
        "    self.softmax_layer = layers.Dense(units=vocabulary_size, activation=softmax)\n",
        "\n",
        "\n",
        "  def call (self, inputs, training=False, previous_states=[None, None]):\n",
        "\n",
        "      embedding = word_embedding(inputs)\n",
        "\n",
        "      seq_output_1, final_memory_state_1, final_carry_state_1 = self.lstm1(embedding, initial_state=previous_states[0])\n",
        "\n",
        "      state1 = [final_memory_state_1, final_carry_state_1]\n",
        "\n",
        "      seq_output_2, final_memory_state_2, final_carry_state_2 = self.lstm2(seq_output_1, initial_state=previous_states[1])\n",
        "\n",
        "      state2 = [final_memory_state_2, final_carry_state_2]\n",
        "\n",
        "      outputs = self.softmax_layer(seq_output_2)\n",
        "\n",
        "      if training:\n",
        "        return outputs\n",
        "      else:\n",
        "        return outputs, state1, state2\n"
      ],
      "metadata": {
        "id": "x0MSYSeT_TK4"
      },
      "execution_count": 117,
      "outputs": []
    },
    {
      "cell_type": "code",
      "source": [
        "lstm_units = 128\n",
        "model = CustomModel(vocabulary_size, word_embedding_vector_dimension, lstm_units)"
      ],
      "metadata": {
        "id": "rEBEiq4zEcxP"
      },
      "execution_count": 118,
      "outputs": []
    },
    {
      "cell_type": "code",
      "source": [
        "#inputs = Input(shape=max_doc_length, batch_size = BATCH_SIZE)\n",
        "\n",
        "#embedding = word_embedding(inputs)\n",
        "\n",
        "#seq_output_1, final_memory_state_1, final_carry_state_1 = lstm_layer_1(embedding, initial_state=None)\n",
        "\n",
        "#seq_output_2, final_memory_state_2, final_carry_state_2 = lstm_layer_2(seq_output_1, initial_state=None)\n",
        "\n",
        "#outputs = softmax_layer(seq_output_2)\n",
        "\n",
        "\n",
        "#model = Model(inputs=inputs, outputs=outputs)\n",
        "\n",
        "\n",
        "#model.summary()"
      ],
      "metadata": {
        "id": "KMNMDXPKnslb"
      },
      "execution_count": 119,
      "outputs": []
    },
    {
      "cell_type": "code",
      "source": [
        "from keras.utils import plot_model\n",
        "plot_model(model, \"model_info.png\", show_shapes=True)\n"
      ],
      "metadata": {
        "id": "k2GuvFVrKhvu",
        "outputId": "8ff63b52-84a9-4b5f-8782-625cf627cb2e",
        "colab": {
          "base_uri": "https://localhost:8080/",
          "height": 297
        }
      },
      "execution_count": 120,
      "outputs": [
        {
          "output_type": "error",
          "ename": "ValueError",
          "evalue": "This model has not yet been built. Build the model first by calling `build()` or by calling the model on a batch of data.",
          "traceback": [
            "\u001b[0;31m---------------------------------------------------------------------------\u001b[0m",
            "\u001b[0;31mValueError\u001b[0m                                Traceback (most recent call last)",
            "\u001b[0;32m<ipython-input-120-38273948e572>\u001b[0m in \u001b[0;36m<cell line: 2>\u001b[0;34m()\u001b[0m\n\u001b[1;32m      1\u001b[0m \u001b[0;32mfrom\u001b[0m \u001b[0mkeras\u001b[0m\u001b[0;34m.\u001b[0m\u001b[0mutils\u001b[0m \u001b[0;32mimport\u001b[0m \u001b[0mplot_model\u001b[0m\u001b[0;34m\u001b[0m\u001b[0;34m\u001b[0m\u001b[0m\n\u001b[0;32m----> 2\u001b[0;31m \u001b[0mplot_model\u001b[0m\u001b[0;34m(\u001b[0m\u001b[0mmodel\u001b[0m\u001b[0;34m,\u001b[0m \u001b[0;34m\"model_info.png\"\u001b[0m\u001b[0;34m,\u001b[0m \u001b[0mshow_shapes\u001b[0m\u001b[0;34m=\u001b[0m\u001b[0;32mTrue\u001b[0m\u001b[0;34m)\u001b[0m\u001b[0;34m\u001b[0m\u001b[0;34m\u001b[0m\u001b[0m\n\u001b[0m",
            "\u001b[0;32m/usr/local/lib/python3.10/dist-packages/keras/src/utils/vis_utils.py\u001b[0m in \u001b[0;36mplot_model\u001b[0;34m(model, to_file, show_shapes, show_dtype, show_layer_names, rankdir, expand_nested, dpi, layer_range, show_layer_activations, show_trainable)\u001b[0m\n\u001b[1;32m    443\u001b[0m \u001b[0;34m\u001b[0m\u001b[0m\n\u001b[1;32m    444\u001b[0m     \u001b[0;32mif\u001b[0m \u001b[0;32mnot\u001b[0m \u001b[0mmodel\u001b[0m\u001b[0;34m.\u001b[0m\u001b[0mbuilt\u001b[0m\u001b[0;34m:\u001b[0m\u001b[0;34m\u001b[0m\u001b[0;34m\u001b[0m\u001b[0m\n\u001b[0;32m--> 445\u001b[0;31m         raise ValueError(\n\u001b[0m\u001b[1;32m    446\u001b[0m             \u001b[0;34m\"This model has not yet been built. \"\u001b[0m\u001b[0;34m\u001b[0m\u001b[0;34m\u001b[0m\u001b[0m\n\u001b[1;32m    447\u001b[0m             \u001b[0;34m\"Build the model first by calling `build()` or by calling \"\u001b[0m\u001b[0;34m\u001b[0m\u001b[0;34m\u001b[0m\u001b[0m\n",
            "\u001b[0;31mValueError\u001b[0m: This model has not yet been built. Build the model first by calling `build()` or by calling the model on a batch of data."
          ]
        }
      ]
    },
    {
      "cell_type": "code",
      "source": [
        "from tensorflow.keras.losses import SparseCategoricalCrossentropy\n",
        "loss = SparseCategoricalCrossentropy(from_logits=True)"
      ],
      "metadata": {
        "id": "vz4JFWjE1W56"
      },
      "execution_count": 121,
      "outputs": []
    },
    {
      "cell_type": "code",
      "source": [
        "from tensorflow.keras.optimizers import Adam\n",
        "adam_optimizer = Adam(learning_rate=1e-3)"
      ],
      "metadata": {
        "id": "hqcP57ZZxTQJ"
      },
      "execution_count": 122,
      "outputs": []
    },
    {
      "cell_type": "code",
      "source": [
        "from tensorflow.keras.metrics import SparseCategoricalAccuracy\n",
        "metric = SparseCategoricalAccuracy()"
      ],
      "metadata": {
        "id": "AvBe_ivmPaZr"
      },
      "execution_count": 123,
      "outputs": []
    },
    {
      "cell_type": "code",
      "source": [
        "model.compile(optimizer = adam_optimizer, loss = loss, metrics=[metric])"
      ],
      "metadata": {
        "id": "Vk-GC7S2hA4P"
      },
      "execution_count": 124,
      "outputs": []
    },
    {
      "cell_type": "markdown",
      "source": [
        "## Testing the model works"
      ],
      "metadata": {
        "id": "7IMkYB0Om58H"
      }
    },
    {
      "cell_type": "code",
      "source": [
        "first_batch = train_dataset.take(1)"
      ],
      "metadata": {
        "id": "F9VVWuwZm8Lk"
      },
      "execution_count": 125,
      "outputs": []
    },
    {
      "cell_type": "code",
      "source": [
        "for input_data, labels in first_batch:\n",
        "  predictions = model(input_data,training=True)\n",
        "  assert predictions.shape == (BATCH_SIZE, max_doc_length, vocabulary_size)"
      ],
      "metadata": {
        "id": "isztSuElnAuk"
      },
      "execution_count": 126,
      "outputs": []
    },
    {
      "cell_type": "markdown",
      "source": [
        "## Configuring checkpoints"
      ],
      "metadata": {
        "id": "RdzWvCopcDT_"
      }
    },
    {
      "cell_type": "code",
      "source": [
        "from tensorflow.keras.callbacks import ModelCheckpoint"
      ],
      "metadata": {
        "id": "84sVHS8JnZ8Q"
      },
      "execution_count": 127,
      "outputs": []
    },
    {
      "cell_type": "code",
      "source": [
        "checkpoint_folder = path.join(local_folder,\n",
        "                              \"tf_checkpoints/Text Generation using RNN\"\n",
        ")\n",
        "\n",
        "checkpoint_files_path = path.join(checkpoint_folder, \"ckpt_{epoch}\")\n",
        "\n",
        "EPOCHS = 20\n",
        "SAVING_FREQUENCY = 4\n",
        "\n",
        "checkpoint_callback = ModelCheckpoint(\n",
        "    filepath = checkpoint_files_path,\n",
        "    save_weights_only=True,\n",
        "    save_freq=\"epoch\",\n",
        "    period=SAVING_FREQUENCY\n",
        "\n",
        ")"
      ],
      "metadata": {
        "id": "0QbHtVzEcMSc",
        "outputId": "3151a57b-fe08-4909-944d-e86b0f28b068",
        "colab": {
          "base_uri": "https://localhost:8080/"
        }
      },
      "execution_count": 128,
      "outputs": [
        {
          "output_type": "stream",
          "name": "stderr",
          "text": [
            "WARNING:tensorflow:`period` argument is deprecated. Please use `save_freq` to specify the frequency in number of batches seen.\n"
          ]
        }
      ]
    },
    {
      "cell_type": "markdown",
      "source": [
        "## Training"
      ],
      "metadata": {
        "id": "fy4YalKbbWuq"
      }
    },
    {
      "cell_type": "code",
      "source": [
        "restart = False\n",
        "restart_epoch = 1000\n",
        "\n",
        "if restart:\n",
        "  checkpoint_files_path = path.join(checkpoint_folder, f\"ckpt_{restart_epoch}\")\n",
        "  model.load_weights(checkpoint_files_path)\n",
        "\n",
        "history = model.fit(train_dataset,\n",
        "                    epochs=EPOCHS,\n",
        "                    validation_data=val_dataset,\n",
        "                    callbacks=[checkpoint_callback]\n",
        "                    )"
      ],
      "metadata": {
        "colab": {
          "base_uri": "https://localhost:8080/"
        },
        "id": "vMqhCNzsYV7J",
        "outputId": "ae84d829-228d-4e1d-e003-92df9e6db812"
      },
      "execution_count": 129,
      "outputs": [
        {
          "output_type": "stream",
          "name": "stdout",
          "text": [
            "Epoch 1/20\n"
          ]
        },
        {
          "output_type": "stream",
          "name": "stderr",
          "text": [
            "/usr/local/lib/python3.10/dist-packages/keras/src/backend.py:5727: UserWarning: \"`sparse_categorical_crossentropy` received `from_logits=True`, but the `output` argument was produced by a Softmax activation and thus does not represent logits. Was this intended?\n",
            "  output, from_logits = _get_logits(\n"
          ]
        },
        {
          "output_type": "stream",
          "name": "stdout",
          "text": [
            "2/2 [==============================] - 13s 4s/step - loss: 8.3622 - sparse_categorical_accuracy: 0.1979 - val_loss: 8.3510 - val_sparse_categorical_accuracy: 0.5097\n",
            "Epoch 2/20\n",
            "2/2 [==============================] - 7s 4s/step - loss: 8.3483 - sparse_categorical_accuracy: 0.4621 - val_loss: 8.3240 - val_sparse_categorical_accuracy: 0.5097\n",
            "Epoch 3/20\n",
            "2/2 [==============================] - 7s 3s/step - loss: 8.3152 - sparse_categorical_accuracy: 0.4621 - val_loss: 8.2394 - val_sparse_categorical_accuracy: 0.5097\n",
            "Epoch 4/20\n",
            "2/2 [==============================] - 8s 5s/step - loss: 8.2045 - sparse_categorical_accuracy: 0.4621 - val_loss: 7.9152 - val_sparse_categorical_accuracy: 0.5097\n",
            "Epoch 5/20\n",
            "2/2 [==============================] - 6s 3s/step - loss: 7.8466 - sparse_categorical_accuracy: 0.4621 - val_loss: 7.3857 - val_sparse_categorical_accuracy: 0.5097\n",
            "Epoch 6/20\n",
            "2/2 [==============================] - 8s 5s/step - loss: 7.3599 - sparse_categorical_accuracy: 0.4621 - val_loss: 6.9793 - val_sparse_categorical_accuracy: 0.5097\n",
            "Epoch 7/20\n",
            "2/2 [==============================] - 6s 3s/step - loss: 6.9798 - sparse_categorical_accuracy: 0.4621 - val_loss: 6.5791 - val_sparse_categorical_accuracy: 0.5097\n",
            "Epoch 8/20\n",
            "2/2 [==============================] - 9s 6s/step - loss: 6.5844 - sparse_categorical_accuracy: 0.4621 - val_loss: 6.1557 - val_sparse_categorical_accuracy: 0.5097\n",
            "Epoch 9/20\n",
            "2/2 [==============================] - 6s 3s/step - loss: 6.1760 - sparse_categorical_accuracy: 0.4621 - val_loss: 5.7405 - val_sparse_categorical_accuracy: 0.5097\n",
            "Epoch 10/20\n",
            "2/2 [==============================] - 8s 5s/step - loss: 5.7831 - sparse_categorical_accuracy: 0.4621 - val_loss: 5.3682 - val_sparse_categorical_accuracy: 0.5097\n",
            "Epoch 11/20\n",
            "2/2 [==============================] - 6s 3s/step - loss: 5.4375 - sparse_categorical_accuracy: 0.4621 - val_loss: 5.0534 - val_sparse_categorical_accuracy: 0.5097\n",
            "Epoch 12/20\n",
            "2/2 [==============================] - 8s 6s/step - loss: 5.1495 - sparse_categorical_accuracy: 0.4621 - val_loss: 4.7925 - val_sparse_categorical_accuracy: 0.5097\n",
            "Epoch 13/20\n",
            "2/2 [==============================] - 6s 3s/step - loss: 4.9134 - sparse_categorical_accuracy: 0.4621 - val_loss: 4.5760 - val_sparse_categorical_accuracy: 0.5097\n",
            "Epoch 14/20\n",
            "2/2 [==============================] - 7s 4s/step - loss: 4.7252 - sparse_categorical_accuracy: 0.4621 - val_loss: 4.3964 - val_sparse_categorical_accuracy: 0.5097\n",
            "Epoch 15/20\n",
            "2/2 [==============================] - 6s 3s/step - loss: 4.5680 - sparse_categorical_accuracy: 0.4621 - val_loss: 4.2534 - val_sparse_categorical_accuracy: 0.5097\n",
            "Epoch 16/20\n",
            "2/2 [==============================] - 6s 3s/step - loss: 4.4458 - sparse_categorical_accuracy: 0.4621 - val_loss: 4.1497 - val_sparse_categorical_accuracy: 0.5097\n",
            "Epoch 17/20\n",
            "2/2 [==============================] - 7s 3s/step - loss: 4.3638 - sparse_categorical_accuracy: 0.4621 - val_loss: 4.0882 - val_sparse_categorical_accuracy: 0.5097\n",
            "Epoch 18/20\n",
            "2/2 [==============================] - 6s 3s/step - loss: 4.3206 - sparse_categorical_accuracy: 0.4621 - val_loss: 4.0652 - val_sparse_categorical_accuracy: 0.5097\n",
            "Epoch 19/20\n",
            "2/2 [==============================] - 6s 3s/step - loss: 4.3118 - sparse_categorical_accuracy: 0.4621 - val_loss: 4.0694 - val_sparse_categorical_accuracy: 0.5097\n",
            "Epoch 20/20\n",
            "2/2 [==============================] - 7s 4s/step - loss: 4.3233 - sparse_categorical_accuracy: 0.4621 - val_loss: 4.0864 - val_sparse_categorical_accuracy: 0.5097\n"
          ]
        }
      ]
    },
    {
      "cell_type": "markdown",
      "source": [
        "## Plotting Validation and training Loss"
      ],
      "metadata": {
        "id": "lx0SVpMCSugo"
      }
    },
    {
      "cell_type": "code",
      "source": [
        "import pandas as pd\n",
        "results = pd.DataFrame.from_dict(history.history)"
      ],
      "metadata": {
        "id": "4UyZbpMldPY0"
      },
      "execution_count": 130,
      "outputs": []
    },
    {
      "cell_type": "code",
      "source": [
        "results.plot(y=['loss', 'val_loss'], use_index=True)"
      ],
      "metadata": {
        "id": "IOYDe5VMR0QP",
        "outputId": "f3103521-2fef-4e57-f9fc-3fff59cee3a2",
        "colab": {
          "base_uri": "https://localhost:8080/",
          "height": 447
        }
      },
      "execution_count": 131,
      "outputs": [
        {
          "output_type": "execute_result",
          "data": {
            "text/plain": [
              "<Axes: >"
            ]
          },
          "metadata": {},
          "execution_count": 131
        },
        {
          "output_type": "display_data",
          "data": {
            "text/plain": [
              "<Figure size 640x480 with 1 Axes>"
            ],
            "image/png": "[encoded data removed]"
          },
          "metadata": {}
        }
      ]
    },
    {
      "cell_type": "markdown",
      "source": [
        "## Sampling"
      ],
      "metadata": {
        "id": "wAh_8LnPX_GR"
      }
    },
    {
      "cell_type": "code",
      "source": [
        "import numpy as np\n",
        "word_indexes = np.arange(vocabulary_size).reshape(-1)\n",
        "next_index = np.random.choice(word_indexes, p= char_probabilities)"
      ],
      "metadata": {
        "id": "U2MyD3tkghTQ"
      },
      "execution_count": 136,
      "outputs": []
    },
    {
      "cell_type": "code",
      "source": [
        "char = \"<sos>\"\n",
        "states = [None, None]\n",
        "\n",
        "number_of_words = 20\n",
        "\n",
        "sentence = []\n",
        "\n",
        "for ii in range(number_of_words):\n",
        "  char = [[char]]\n",
        "\n",
        "  char = text_vectorization(char)\n",
        "  output, state1, state2 = model(char, previous_states = states)\n",
        "  states = [state1, state2]\n",
        "\n",
        "  char_probabilities = output[:,0,:].numpy().reshape(-1)\n",
        "\n",
        "  word_indexes = np.arange(vocabulary_size).reshape(-1)\n",
        "  next_index = np.random.choice(word_indexes, p= char_probabilities)\n",
        "\n",
        "  char = from_int_to_word[next_index]\n",
        "\n",
        "  sentence.append(char)\n",
        "\n",
        "sentence = ' '.join(sentence)"
      ],
      "metadata": {
        "id": "-Xc_bPR_hb3z"
      },
      "execution_count": 151,
      "outputs": []
    },
    {
      "cell_type": "code",
      "source": [
        "sentence"
      ],
      "metadata": {
        "id": "4W9gONhYmFR3",
        "outputId": "6cb89733-b555-4360-e01c-1d52895b4252",
        "colab": {
          "base_uri": "https://localhost:8080/",
          "height": 35
        }
      },
      "execution_count": 152,
      "outputs": [
        {
          "output_type": "execute_result",
          "data": {
            "text/plain": [
              "'hid?   raiment   not  of to       for  of '"
            ],
            "application/vnd.google.colaboratory.intrinsic+json": {
              "type": "string"
            }
          },
          "metadata": {},
          "execution_count": 152
        }
      ]
    },
    {
      "cell_type": "code",
      "source": [],
      "metadata": {
        "id": "2Tzic3GUq3us"
      },
      "execution_count": null,
      "outputs": []
    }
  ]
}