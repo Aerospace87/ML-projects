{
  "nbformat": 4,
  "nbformat_minor": 0,
  "metadata": {
    "colab": {
      "provenance": [],
      "gpuType": "T4",
      "include_colab_link": true
    },
    "kernelspec": {
      "name": "python3",
      "display_name": "Python 3"
    },
    "language_info": {
      "name": "python"
    },
    "accelerator": "GPU"
  },
  "cells": [
    {
      "cell_type": "markdown",
      "metadata": {
        "id": "view-in-github",
        "colab_type": "text"
      },
      "source": [
        "<a href=\"https://colab.research.google.com/github/Aerospace87/ML-projects/blob/main/tensorflow/Text_loading.ipynb\" target=\"_parent\"><img src=\"https://colab.research.google.com/assets/colab-badge.svg\" alt=\"Open In Colab\"/></a>"
      ]
    },
    {
      "cell_type": "code",
      "source": [
        "from google.colab import drive\n",
        "\n",
        "# Mount your Google Drive to the local /content/drive directory\n",
        "drive.mount('/content/drive')"
      ],
      "metadata": {
        "colab": {
          "base_uri": "https://localhost:8080/"
        },
        "id": "bN5FFh8dZO4r",
        "outputId": "6e812ba2-6483-439c-94aa-266b04168ebd"
      },
      "execution_count": 1,
      "outputs": [
        {
          "output_type": "stream",
          "name": "stdout",
          "text": [
            "Mounted at /content/drive\n"
          ]
        }
      ]
    },
    {
      "cell_type": "code",
      "source": [
        "from os import listdir, path\n",
        "\n",
        "local_folder = \"/content/drive/My Drive/\"\n",
        "\n",
        "with open(path.join(local_folder ,\"dataset/shakespeare.txt\")) as f:\n",
        "  shakespeare_dataset = f.read()"
      ],
      "metadata": {
        "id": "npuZyxQbZlMX"
      },
      "execution_count": 2,
      "outputs": []
    },
    {
      "cell_type": "markdown",
      "source": [
        "## Cleaning the dataset and spliting into training examples and lables"
      ],
      "metadata": {
        "id": "uj4z2aNMhL7q"
      }
    },
    {
      "cell_type": "code",
      "source": [
        "shakespeare_dataset = shakespeare_dataset.split('\\n\\n')\n",
        "shakespeare_dataset = shakespeare_dataset[2:-1]"
      ],
      "metadata": {
        "id": "wTnSDjJaaznG"
      },
      "execution_count": 3,
      "outputs": []
    },
    {
      "cell_type": "code",
      "source": [
        "sos_token = \"<SOS>\"\n",
        "eos_token = \"<EOS>\"\n",
        "space = \" \"\n",
        "\n",
        "dataset = [[sos_token + space + document ] for document in shakespeare_dataset if document != \"\"]\n",
        "labels = [[document + space + eos_token] for document in shakespeare_dataset if document != \"\"]\n",
        "\n",
        "number_documents = len(dataset)\n",
        "print(number_documents)"
      ],
      "metadata": {
        "colab": {
          "base_uri": "https://localhost:8080/"
        },
        "id": "dOLxIH3SftBN",
        "outputId": "02c0dcb7-acf8-43f2-8bf9-a28fedd1f7bf"
      },
      "execution_count": 4,
      "outputs": [
        {
          "output_type": "stream",
          "name": "stdout",
          "text": [
            "141\n"
          ]
        }
      ]
    },
    {
      "cell_type": "code",
      "source": [
        "max_doc_length = 0\n",
        "\n",
        "for doc in dataset:\n",
        "  if len(doc[0].split()) > max_doc_length:\n",
        "\n",
        "    max_doc_length = len(doc[0].split())\n",
        "\n",
        "print(max_doc_length)"
      ],
      "metadata": {
        "colab": {
          "base_uri": "https://localhost:8080/"
        },
        "id": "kDXU2qZt5yvM",
        "outputId": "4277b150-9e5b-455e-ff70-633556293d54"
      },
      "execution_count": 5,
      "outputs": [
        {
          "output_type": "stream",
          "name": "stdout",
          "text": [
            "238\n"
          ]
        }
      ]
    },
    {
      "cell_type": "markdown",
      "source": [
        "## Split dataset into a training an validation set"
      ],
      "metadata": {
        "id": "DTG-n-WBJYwJ"
      }
    },
    {
      "cell_type": "code",
      "source": [
        "training_percentage = 80\n",
        "\n",
        "training_samples = (number_documents * training_percentage) // 100\n",
        "validation_samples = number_documents - training_samples\n",
        "\n",
        "X_train = dataset[:training_samples]\n",
        "Y_train = labels[:training_samples]\n",
        "\n",
        "X_val = dataset[training_samples:]\n",
        "Y_val = labels[training_samples:]"
      ],
      "metadata": {
        "id": "8sgvj47Uh2st"
      },
      "execution_count": 7,
      "outputs": []
    },
    {
      "cell_type": "markdown",
      "source": [
        "## Text Vectorization"
      ],
      "metadata": {
        "id": "7LIQBFr6hZnu"
      }
    },
    {
      "cell_type": "code",
      "source": [
        "from tensorflow.keras import layers\n",
        "text_vectorization = layers.TextVectorization(\n",
        "    standardize='lower',\n",
        "    split='whitespace',\n",
        "    output_mode='int',\n",
        "    output_sequence_length = max_doc_length\n",
        ")"
      ],
      "metadata": {
        "id": "wH29U7e1JWQl"
      },
      "execution_count": 10,
      "outputs": []
    },
    {
      "cell_type": "code",
      "source": [
        "text_vectorization.adapt(dataset)"
      ],
      "metadata": {
        "id": "6x_KRTG40fyo"
      },
      "execution_count": 11,
      "outputs": []
    },
    {
      "cell_type": "code",
      "source": [
        "dataset = text_vectorization(dataset)\n",
        "vocabulary_size = text_vectorization.vocabulary_size()\n",
        "vocabulary = text_vectorization.get_vocabulary()"
      ],
      "metadata": {
        "id": "ksxKhBvN2ZY3"
      },
      "execution_count": 12,
      "outputs": []
    },
    {
      "cell_type": "code",
      "source": [
        "# Dictionay to map back from integer index to word\n",
        "from_int_to_word ={}\n",
        "from_word_to_int = {}\n",
        "\n",
        "for idx,word in enumerate(vocabulary):\n",
        "    from_int_to_word[idx] = word\n",
        "    from_word_to_int[word] = idx"
      ],
      "metadata": {
        "id": "5F5LZ9L0dlxH"
      },
      "execution_count": 13,
      "outputs": []
    },
    {
      "cell_type": "code",
      "source": [
        "labels = text_vectorization(labels)"
      ],
      "metadata": {
        "id": "P2bTCWDR8oPD"
      },
      "execution_count": 14,
      "outputs": []
    },
    {
      "cell_type": "code",
      "source": [
        "X_train = text_vectorization(X_train)\n",
        "Y_train = text_vectorization(Y_train)\n",
        "X_val = text_vectorization(X_val)\n",
        "Y_val = text_vectorization(Y_val)"
      ],
      "metadata": {
        "id": "scwW70IpMMn8"
      },
      "execution_count": 15,
      "outputs": []
    },
    {
      "cell_type": "markdown",
      "source": [
        "## Creation of a tensorflow dataset using training examples and labels"
      ],
      "metadata": {
        "id": "dKgmmm_Thsh5"
      }
    },
    {
      "cell_type": "code",
      "source": [
        "from tensorflow.data import Dataset\n",
        "# Creation of the datasets to feed to the model\n",
        "train_dataset = Dataset.from_tensor_slices(\n",
        "    (X_train, Y_train)\n",
        ")\n",
        "\n",
        "val_dataset = Dataset.from_tensor_slices(\n",
        "    (X_val, Y_val)\n",
        ")\n",
        "\n",
        "train_size = X_train.shape[0]\n",
        "\n",
        "# shuffle and split into batches of batch size BATCH_SIZE\n",
        "BATCH_SIZE = 64\n",
        "\n",
        "# Buffer size of the buffer to shuffle the dataset\n",
        "# Otherfwise TF will have the full dataset in memory\n",
        "BUFFER_SIZE = 10000\n",
        "\n",
        "train_dataset = train_dataset.shuffle(BUFFER_SIZE).batch(BATCH_SIZE)\n",
        "val_dataset = val_dataset.shuffle(BUFFER_SIZE).batch(BATCH_SIZE)"
      ],
      "metadata": {
        "id": "q7YVF4VdnO-H"
      },
      "execution_count": 16,
      "outputs": []
    },
    {
      "cell_type": "markdown",
      "source": [
        "## Model Creation"
      ],
      "metadata": {
        "id": "5lTI1Aqbve9Z"
      }
    },
    {
      "cell_type": "code",
      "source": [
        "word_embedding_vector_dimension = 16\n",
        "\n",
        "word_embedding = layers.Embedding(\n",
        "    input_dim = vocabulary_size,\n",
        "    output_dim=word_embedding_vector_dimension\n",
        ")"
      ],
      "metadata": {
        "id": "OFPAABPjFNC-"
      },
      "execution_count": 17,
      "outputs": []
    },
    {
      "cell_type": "code",
      "source": [
        "lstm_layer_1 = layers.LSTM(128, return_sequences = True, return_state=True)\n",
        "lstm_layer_2 = layers.LSTM(128, return_sequences = True, return_state=True)"
      ],
      "metadata": {
        "id": "rPeN1be5ITjy"
      },
      "execution_count": 18,
      "outputs": []
    },
    {
      "cell_type": "code",
      "source": [
        "\n",
        "from tensorflow.keras.activations import softmax\n",
        "softmax_layer = layers.Dense(units=vocabulary_size, activation=softmax)"
      ],
      "metadata": {
        "id": "51Re3nZWum-u"
      },
      "execution_count": 19,
      "outputs": []
    },
    {
      "cell_type": "code",
      "source": [
        "# Because we need to output the state (which is a tensor) and the output\n",
        "# then we must use the functional API\n",
        "from tensorflow.keras import Input, Model"
      ],
      "metadata": {
        "id": "C7H3mVzp5XZw"
      },
      "execution_count": 20,
      "outputs": []
    },
    {
      "cell_type": "code",
      "source": [
        "inputs = Input(shape=max_doc_length, batch_size = BATCH_SIZE)\n",
        "\n",
        "embedding = word_embedding(inputs)\n",
        "\n",
        "seq_output_1, final_memory_state_1, final_carry_state_1 = lstm_layer_1(embedding, initial_state=None)\n",
        "\n",
        "seq_output_2, final_memory_state_2, final_carry_state_2 = lstm_layer_2(seq_output_1, initial_state=None)\n",
        "\n",
        "outputs = softmax_layer(seq_output_2)\n",
        "\n",
        "\n",
        "model = Model(inputs=inputs, outputs=outputs)\n",
        "\n",
        "\n",
        "model.summary()"
      ],
      "metadata": {
        "id": "KMNMDXPKnslb",
        "outputId": "3bea795d-babe-4525-ac22-c521a2f3eace",
        "colab": {
          "base_uri": "https://localhost:8080/"
        }
      },
      "execution_count": 21,
      "outputs": [
        {
          "output_type": "stream",
          "name": "stdout",
          "text": [
            "Model: \"model\"\n",
            "_________________________________________________________________\n",
            " Layer (type)                Output Shape              Param #   \n",
            "=================================================================\n",
            " input_1 (InputLayer)        [(64, 238)]               0         \n",
            "                                                                 \n",
            " embedding (Embedding)       (64, 238, 16)             68720     \n",
            "                                                                 \n",
            " lstm (LSTM)                 [(64, 238, 128),          74240     \n",
            "                              (64, 128),                         \n",
            "                              (64, 128)]                         \n",
            "                                                                 \n",
            " lstm_1 (LSTM)               [(64, 238, 128),          131584    \n",
            "                              (64, 128),                         \n",
            "                              (64, 128)]                         \n",
            "                                                                 \n",
            " dense (Dense)               (64, 238, 4295)           554055    \n",
            "                                                                 \n",
            "=================================================================\n",
            "Total params: 828599 (3.16 MB)\n",
            "Trainable params: 828599 (3.16 MB)\n",
            "Non-trainable params: 0 (0.00 Byte)\n",
            "_________________________________________________________________\n"
          ]
        }
      ]
    },
    {
      "cell_type": "code",
      "source": [
        "from keras.utils import plot_model\n",
        "plot_model(model, \"model_info.png\", show_shapes=True)\n"
      ],
      "metadata": {
        "id": "k2GuvFVrKhvu",
        "outputId": "9daa2326-db5d-48f2-ba03-ec28feccebc9",
        "colab": {
          "base_uri": "https://localhost:8080/",
          "height": 533
        }
      },
      "execution_count": 23,
      "outputs": [
        {
          "output_type": "execute_result",
          "data": {
            "image/png": "[encoded data removed]",
            "text/plain": [
              "<IPython.core.display.Image object>"
            ]
          },
          "metadata": {},
          "execution_count": 23
        }
      ]
    },
    {
      "cell_type": "code",
      "source": [
        "from tensorflow.keras.losses import SparseCategoricalCrossentropy\n",
        "loss = SparseCategoricalCrossentropy(from_logits=True)"
      ],
      "metadata": {
        "id": "vz4JFWjE1W56"
      },
      "execution_count": 24,
      "outputs": []
    },
    {
      "cell_type": "code",
      "source": [
        "from tensorflow.keras.optimizers import Adam\n",
        "adam_optimizer = Adam(learning_rate=1e-3)"
      ],
      "metadata": {
        "id": "hqcP57ZZxTQJ"
      },
      "execution_count": 25,
      "outputs": []
    },
    {
      "cell_type": "code",
      "source": [
        "from tensorflow.keras.metrics import SparseCategoricalAccuracy\n",
        "metric = SparseCategoricalAccuracy()"
      ],
      "metadata": {
        "id": "AvBe_ivmPaZr"
      },
      "execution_count": 26,
      "outputs": []
    },
    {
      "cell_type": "code",
      "source": [
        "model.compile(optimizer = adam_optimizer, loss = loss, metrics=[metric])"
      ],
      "metadata": {
        "id": "Vk-GC7S2hA4P"
      },
      "execution_count": 27,
      "outputs": []
    },
    {
      "cell_type": "markdown",
      "source": [
        "## Testing the model works"
      ],
      "metadata": {
        "id": "7IMkYB0Om58H"
      }
    },
    {
      "cell_type": "code",
      "source": [
        "first_batch = train_dataset.take(1)"
      ],
      "metadata": {
        "id": "F9VVWuwZm8Lk"
      },
      "execution_count": 28,
      "outputs": []
    },
    {
      "cell_type": "code",
      "source": [
        "for input_data, labels in first_batch:\n",
        "  predictions = model(input_data)\n",
        "  assert predictions.shape == (BATCH_SIZE, max_doc_length, vocabulary_size)"
      ],
      "metadata": {
        "id": "isztSuElnAuk"
      },
      "execution_count": 31,
      "outputs": []
    },
    {
      "cell_type": "markdown",
      "source": [
        "## Configuring checkpoints"
      ],
      "metadata": {
        "id": "RdzWvCopcDT_"
      }
    },
    {
      "cell_type": "code",
      "source": [
        "from tensorflow.keras.callbacks import ModelCheckpoint"
      ],
      "metadata": {
        "id": "84sVHS8JnZ8Q"
      },
      "execution_count": 32,
      "outputs": []
    },
    {
      "cell_type": "code",
      "source": [
        "checkpoint_folder = path.join(local_folder,\n",
        "                              \"tf_checkpoints/Text Generation using RNN\"\n",
        ")\n",
        "\n",
        "checkpoint_files_path = path.join(checkpoint_folder, \"ckpt_{epoch}\")\n",
        "\n",
        "EPOCHS = 10\n",
        "SAVING_FREQUENCY = 100\n",
        "\n",
        "checkpoint_callback = ModelCheckpoint(\n",
        "    filepath = checkpoint_files_path,\n",
        "    save_weights_only=True,\n",
        "    #save_freq=\"epoch\",\n",
        "    #period=SAVING_FREQUENCY\n",
        "\n",
        ")"
      ],
      "metadata": {
        "id": "0QbHtVzEcMSc"
      },
      "execution_count": 33,
      "outputs": []
    },
    {
      "cell_type": "markdown",
      "source": [
        "## Training"
      ],
      "metadata": {
        "id": "fy4YalKbbWuq"
      }
    },
    {
      "cell_type": "code",
      "source": [
        "restart = False\n",
        "restart_epoch = 1000\n",
        "\n",
        "if restart:\n",
        "  checkpoint_files_path = path.join(checkpoint_folder, f\"ckpt_{restart_epoch}\")\n",
        "  model.load_weights(checkpoint_files_path)\n",
        "\n",
        "history = model.fit(train_dataset,\n",
        "                    epochs=EPOCHS,\n",
        "                    validation_data=val_dataset,\n",
        "                    callbacks=[checkpoint_callback]\n",
        "                    )"
      ],
      "metadata": {
        "colab": {
          "base_uri": "https://localhost:8080/"
        },
        "id": "vMqhCNzsYV7J",
        "outputId": "f335071c-bd6e-4e97-ed35-ef84d3c7c0d9"
      },
      "execution_count": 36,
      "outputs": [
        {
          "output_type": "stream",
          "name": "stdout",
          "text": [
            "Epoch 1/10\n",
            "2/2 [==============================] - ETA: 0s - loss: 5.4466 - sparse_categorical_accuracy: 0.4621"
          ]
        },
        {
          "output_type": "stream",
          "name": "stderr",
          "text": [
            "/usr/local/lib/python3.10/dist-packages/keras/src/backend.py:5727: UserWarning: \"`sparse_categorical_crossentropy` received `from_logits=True`, but the `output` argument was produced by a Softmax activation and thus does not represent logits. Was this intended?\n",
            "  output, from_logits = _get_logits(\n"
          ]
        },
        {
          "output_type": "stream",
          "name": "stdout",
          "text": [
            "\b\b\b\b\b\b\b\b\b\b\b\b\b\b\b\b\b\b\b\b\b\b\b\b\b\b\b\b\b\b\b\b\b\b\b\b\b\b\b\b\b\b\b\b\b\b\b\b\b\b\b\b\b\b\b\b\b\b\b\b\b\b\b\b\b\b\b\b\b\b\b\b\b\b\b\b\b\b\b\b\b\b\b\b\b\b\b\b\b\b\b\b\b\b\b\b\b\b\b\r2/2 [==============================] - 2s 1s/step - loss: 5.4466 - sparse_categorical_accuracy: 0.4621 - val_loss: 5.0622 - val_sparse_categorical_accuracy: 0.5097\n",
            "Epoch 2/10\n",
            "2/2 [==============================] - 1s 367ms/step - loss: 5.1567 - sparse_categorical_accuracy: 0.4621 - val_loss: 4.7952 - val_sparse_categorical_accuracy: 0.5097\n",
            "Epoch 3/10\n",
            "2/2 [==============================] - 1s 401ms/step - loss: 4.9162 - sparse_categorical_accuracy: 0.4621 - val_loss: 4.5714 - val_sparse_categorical_accuracy: 0.5097\n",
            "Epoch 4/10\n",
            "2/2 [==============================] - 1s 372ms/step - loss: 4.7150 - sparse_categorical_accuracy: 0.4621 - val_loss: 4.3892 - val_sparse_categorical_accuracy: 0.5097\n",
            "Epoch 5/10\n",
            "2/2 [==============================] - 1s 420ms/step - loss: 4.5595 - sparse_categorical_accuracy: 0.4621 - val_loss: 4.2464 - val_sparse_categorical_accuracy: 0.5097\n",
            "Epoch 6/10\n",
            "2/2 [==============================] - 1s 391ms/step - loss: 4.4391 - sparse_categorical_accuracy: 0.4621 - val_loss: 4.1450 - val_sparse_categorical_accuracy: 0.5097\n",
            "Epoch 7/10\n",
            "2/2 [==============================] - 1s 403ms/step - loss: 4.3611 - sparse_categorical_accuracy: 0.4621 - val_loss: 4.0857 - val_sparse_categorical_accuracy: 0.5097\n",
            "Epoch 8/10\n",
            "2/2 [==============================] - 1s 378ms/step - loss: 4.3180 - sparse_categorical_accuracy: 0.4621 - val_loss: 4.0642 - val_sparse_categorical_accuracy: 0.5097\n",
            "Epoch 9/10\n",
            "2/2 [==============================] - 1s 508ms/step - loss: 4.3131 - sparse_categorical_accuracy: 0.4621 - val_loss: 4.0695 - val_sparse_categorical_accuracy: 0.5097\n",
            "Epoch 10/10\n",
            "2/2 [==============================] - 0s 373ms/step - loss: 4.3222 - sparse_categorical_accuracy: 0.4621 - val_loss: 4.0874 - val_sparse_categorical_accuracy: 0.5097\n"
          ]
        }
      ]
    },
    {
      "cell_type": "markdown",
      "source": [
        "## Plotting Validation and training Loss"
      ],
      "metadata": {
        "id": "lx0SVpMCSugo"
      }
    },
    {
      "cell_type": "code",
      "source": [
        "import pandas as pd\n",
        "results = pd.DataFrame.from_dict(history.history)"
      ],
      "metadata": {
        "id": "4UyZbpMldPY0"
      },
      "execution_count": 37,
      "outputs": []
    },
    {
      "cell_type": "code",
      "source": [
        "results.plot(y=['loss', 'val_loss'], use_index=True)"
      ],
      "metadata": {
        "id": "IOYDe5VMR0QP",
        "outputId": "bf00a6e2-cf18-43b0-b922-642e4071556d",
        "colab": {
          "base_uri": "https://localhost:8080/",
          "height": 447
        }
      },
      "execution_count": 38,
      "outputs": [
        {
          "output_type": "execute_result",
          "data": {
            "text/plain": [
              "<Axes: >"
            ]
          },
          "metadata": {},
          "execution_count": 38
        },
        {
          "output_type": "display_data",
          "data": {
            "text/plain": [
              "<Figure size 640x480 with 1 Axes>"
            ],
            "image/png": "[encoded data removed]"
          },
          "metadata": {}
        }
      ]
    },
    {
      "cell_type": "markdown",
      "source": [
        "## Sampling"
      ],
      "metadata": {
        "id": "wAh_8LnPX_GR"
      }
    },
    {
      "cell_type": "code",
      "source": [
        "from_word_to_int[\"<sos>\"]"
      ],
      "metadata": {
        "id": "b2UG9teQSLOm",
        "outputId": "c9745950-8ace-4576-fec5-189668008615",
        "colab": {
          "base_uri": "https://localhost:8080/"
        }
      },
      "execution_count": 58,
      "outputs": [
        {
          "output_type": "execute_result",
          "data": {
            "text/plain": [
              "18"
            ]
          },
          "metadata": {},
          "execution_count": 58
        }
      ]
    },
    {
      "cell_type": "code",
      "source": [
        "char = [[\"<sos>\"]]\n",
        "char = text_vectorization(char)\n",
        "test = model.predict(char)"
      ],
      "metadata": {
        "id": "00HqXRpIZIMN",
        "outputId": "7d527c6f-45c3-4a08-924d-dae7039bc8d8",
        "colab": {
          "base_uri": "https://localhost:8080/"
        }
      },
      "execution_count": 59,
      "outputs": [
        {
          "output_type": "stream",
          "name": "stdout",
          "text": [
            "1/1 [==============================] - 1s 863ms/step\n"
          ]
        }
      ]
    },
    {
      "cell_type": "code",
      "source": [
        "test.shape"
      ],
      "metadata": {
        "id": "mkm-3LuAa1X-",
        "outputId": "8458f3f0-30f2-47e4-af57-e6d2c5db9747",
        "colab": {
          "base_uri": "https://localhost:8080/"
        }
      },
      "execution_count": 60,
      "outputs": [
        {
          "output_type": "execute_result",
          "data": {
            "text/plain": [
              "(1, 1, 4295)"
            ]
          },
          "metadata": {},
          "execution_count": 60
        }
      ]
    },
    {
      "cell_type": "code",
      "source": [],
      "metadata": {
        "id": "1uWhvEvXdn1q"
      },
      "execution_count": null,
      "outputs": []
    }
  ]
}