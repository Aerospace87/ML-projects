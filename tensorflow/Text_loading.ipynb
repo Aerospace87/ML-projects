{
  "nbformat": 4,
  "nbformat_minor": 0,
  "metadata": {
    "colab": {
      "provenance": [],
      "gpuType": "T4",
      "include_colab_link": true
    },
    "kernelspec": {
      "name": "python3",
      "display_name": "Python 3"
    },
    "language_info": {
      "name": "python"
    },
    "accelerator": "GPU"
  },
  "cells": [
    {
      "cell_type": "markdown",
      "metadata": {
        "id": "view-in-github",
        "colab_type": "text"
      },
      "source": [
        "<a href=\"https://colab.research.google.com/github/Aerospace87/ML-projects/blob/main/tensorflow/Text_loading.ipynb\" target=\"_parent\"><img src=\"https://colab.research.google.com/assets/colab-badge.svg\" alt=\"Open In Colab\"/></a>"
      ]
    },
    {
      "cell_type": "code",
      "source": [
        "from google.colab import drive\n",
        "\n",
        "# Mount your Google Drive to the local /content/drive directory\n",
        "drive.mount('/content/drive')"
      ],
      "metadata": {
        "colab": {
          "base_uri": "https://localhost:8080/"
        },
        "id": "bN5FFh8dZO4r",
        "outputId": "fa914f6d-8d08-44d4-cff6-c204794aa127"
      },
      "execution_count": 82,
      "outputs": [
        {
          "output_type": "stream",
          "name": "stdout",
          "text": [
            "Drive already mounted at /content/drive; to attempt to forcibly remount, call drive.mount(\"/content/drive\", force_remount=True).\n"
          ]
        }
      ]
    },
    {
      "cell_type": "code",
      "source": [
        "from os import listdir, path\n",
        "\n",
        "local_folder = \"/content/drive/My Drive/\"\n",
        "\n",
        "with open(path.join(local_folder ,\"dataset/shakespeare.txt\")) as f:\n",
        "  shakespeare_dataset = f.read()"
      ],
      "metadata": {
        "id": "npuZyxQbZlMX"
      },
      "execution_count": 83,
      "outputs": []
    },
    {
      "cell_type": "markdown",
      "source": [
        "## Cleaning the dataset and spliting into training examples and lables"
      ],
      "metadata": {
        "id": "uj4z2aNMhL7q"
      }
    },
    {
      "cell_type": "code",
      "source": [
        "shakespeare_dataset = shakespeare_dataset.split('\\n\\n')\n",
        "shakespeare_dataset = shakespeare_dataset[2:-1]"
      ],
      "metadata": {
        "id": "wTnSDjJaaznG"
      },
      "execution_count": 84,
      "outputs": []
    },
    {
      "cell_type": "code",
      "source": [
        "sos_token = \"<SOS>\"\n",
        "eos_token = \"<EOS>\"\n",
        "space = \" \"\n",
        "\n",
        "dataset = [[sos_token + space + document ] for document in shakespeare_dataset if document != \"\"]\n",
        "labels = [[document + space + eos_token] for document in shakespeare_dataset if document != \"\"]\n",
        "\n",
        "number_documents = len(dataset)\n",
        "print(number_documents)"
      ],
      "metadata": {
        "colab": {
          "base_uri": "https://localhost:8080/"
        },
        "id": "dOLxIH3SftBN",
        "outputId": "193cfc9a-5fd9-4c72-ea93-09cee67fc459"
      },
      "execution_count": 85,
      "outputs": [
        {
          "output_type": "stream",
          "name": "stdout",
          "text": [
            "141\n"
          ]
        }
      ]
    },
    {
      "cell_type": "code",
      "source": [
        "max_doc_length = 0\n",
        "\n",
        "for doc in dataset:\n",
        "  if len(doc[0].split()) > max_doc_length:\n",
        "\n",
        "    max_doc_length = len(doc[0].split())\n",
        "\n",
        "print(max_doc_length)"
      ],
      "metadata": {
        "colab": {
          "base_uri": "https://localhost:8080/"
        },
        "id": "kDXU2qZt5yvM",
        "outputId": "002cf54c-0c91-44ca-f94c-e7c9d74d3c53"
      },
      "execution_count": 86,
      "outputs": [
        {
          "output_type": "stream",
          "name": "stdout",
          "text": [
            "238\n"
          ]
        }
      ]
    },
    {
      "cell_type": "code",
      "source": [
        "from tensorflow.keras import layers\n",
        "text_vectorization = layers.TextVectorization(\n",
        "    standardize='lower',\n",
        "    split='whitespace',\n",
        "    output_mode='int'\n",
        ")\n"
      ],
      "metadata": {
        "id": "8sgvj47Uh2st"
      },
      "execution_count": 87,
      "outputs": []
    },
    {
      "cell_type": "markdown",
      "source": [
        "## Text Vectorization"
      ],
      "metadata": {
        "id": "7LIQBFr6hZnu"
      }
    },
    {
      "cell_type": "code",
      "source": [
        "text_vectorization.adapt(dataset)"
      ],
      "metadata": {
        "id": "6x_KRTG40fyo"
      },
      "execution_count": 88,
      "outputs": []
    },
    {
      "cell_type": "code",
      "source": [
        "dataset = text_vectorization(dataset)\n",
        "vocabulary_size = text_vectorization.vocabulary_size()\n",
        "vocabulary = text_vectorization.get_vocabulary()"
      ],
      "metadata": {
        "id": "ksxKhBvN2ZY3"
      },
      "execution_count": 89,
      "outputs": []
    },
    {
      "cell_type": "code",
      "source": [
        "# Dictionay to map back from integer index to word\n",
        "from_int_to_word ={}\n",
        "from_word_to_int = {}\n",
        "\n",
        "for idx,word in enumerate(vocabulary):\n",
        "    from_int_to_word[idx] = word\n",
        "    from_word_to_int[word] = idx"
      ],
      "metadata": {
        "id": "5F5LZ9L0dlxH"
      },
      "execution_count": 90,
      "outputs": []
    },
    {
      "cell_type": "code",
      "source": [
        "labels = text_vectorization(labels)"
      ],
      "metadata": {
        "id": "P2bTCWDR8oPD"
      },
      "execution_count": 91,
      "outputs": []
    },
    {
      "cell_type": "markdown",
      "source": [
        "## Creation of a tensorflow dataset using training examples and labels"
      ],
      "metadata": {
        "id": "dKgmmm_Thsh5"
      }
    },
    {
      "cell_type": "code",
      "source": [
        "from tensorflow.data import Dataset\n",
        "# Creation of the dataset to feed to the model\n",
        "dataset = Dataset.from_tensor_slices(\n",
        "    (dataset, labels)\n",
        ")\n",
        "\n",
        "# shuffle and split into batches of batch size BATCH_SIZE\n",
        "BATCH_SIZE = 64\n",
        "\n",
        "# Buffer size of the buffer to shuffle the dataset\n",
        "# Otherfwise TF will have the full dataset in memory\n",
        "BUFFER_SIZE = 10000\n",
        "\n",
        "dataset = dataset.shuffle(BUFFER_SIZE).batch(BATCH_SIZE)"
      ],
      "metadata": {
        "id": "q7YVF4VdnO-H"
      },
      "execution_count": 92,
      "outputs": []
    },
    {
      "cell_type": "markdown",
      "source": [
        "## Model Creation"
      ],
      "metadata": {
        "id": "5lTI1Aqbve9Z"
      }
    },
    {
      "cell_type": "code",
      "source": [
        "word_embedding_vector_dimension = 16\n",
        "\n",
        "word_embedding = layers.Embedding(\n",
        "    input_dim = vocabulary_size,\n",
        "    output_dim=word_embedding_vector_dimension\n",
        ")"
      ],
      "metadata": {
        "id": "OFPAABPjFNC-"
      },
      "execution_count": 93,
      "outputs": []
    },
    {
      "cell_type": "code",
      "source": [
        "lstm_layer_1 = layers.LSTM(128, input_shape = (1 ,number_documents, word_embedding_vector_dimension), return_sequences = True)\n",
        "lstm_layer_2 = layers.LSTM(128, return_sequences = True)"
      ],
      "metadata": {
        "id": "rPeN1be5ITjy"
      },
      "execution_count": 94,
      "outputs": []
    },
    {
      "cell_type": "code",
      "source": [
        "from tensorflow.keras.activations import softmax\n",
        "softmax_layer = layers.Dense(units=vocabulary_size, activation=softmax)"
      ],
      "metadata": {
        "id": "51Re3nZWum-u"
      },
      "execution_count": 95,
      "outputs": []
    },
    {
      "cell_type": "code",
      "source": [
        "from tensorflow.keras import Sequential\n",
        "\n",
        "steps = [word_embedding, lstm_layer_1, lstm_layer_2, softmax_layer]\n",
        "model = Sequential(steps)\n",
        "model.summary()"
      ],
      "metadata": {
        "colab": {
          "base_uri": "https://localhost:8080/"
        },
        "id": "C7H3mVzp5XZw",
        "outputId": "4c60a1af-3599-4f0b-ba0d-de018c9a905c"
      },
      "execution_count": 96,
      "outputs": [
        {
          "output_type": "stream",
          "name": "stdout",
          "text": [
            "Model: \"sequential_4\"\n",
            "_________________________________________________________________\n",
            " Layer (type)                Output Shape              Param #   \n",
            "=================================================================\n",
            " embedding_3 (Embedding)     (None, None, 16)          68720     \n",
            "                                                                 \n",
            " lstm_8 (LSTM)               (None, None, 128)         74240     \n",
            "                                                                 \n",
            " lstm_9 (LSTM)               (None, None, 128)         131584    \n",
            "                                                                 \n",
            " dense_4 (Dense)             (None, None, 4295)        554055    \n",
            "                                                                 \n",
            "=================================================================\n",
            "Total params: 828599 (3.16 MB)\n",
            "Trainable params: 828599 (3.16 MB)\n",
            "Non-trainable params: 0 (0.00 Byte)\n",
            "_________________________________________________________________\n"
          ]
        }
      ]
    },
    {
      "cell_type": "code",
      "source": [
        "from tensorflow.keras.losses import SparseCategoricalCrossentropy\n",
        "loss = SparseCategoricalCrossentropy(from_logits=True)"
      ],
      "metadata": {
        "id": "vz4JFWjE1W56"
      },
      "execution_count": 97,
      "outputs": []
    },
    {
      "cell_type": "code",
      "source": [
        "from tensorflow.keras.optimizers import Adam\n",
        "adam_optimizer = Adam(learning_rate=1e-3)"
      ],
      "metadata": {
        "id": "hqcP57ZZxTQJ"
      },
      "execution_count": 98,
      "outputs": []
    },
    {
      "cell_type": "code",
      "source": [
        "model.compile(optimizer = adam_optimizer, loss = loss)"
      ],
      "metadata": {
        "id": "Vk-GC7S2hA4P"
      },
      "execution_count": 99,
      "outputs": []
    },
    {
      "cell_type": "markdown",
      "source": [
        "## Testing the model works"
      ],
      "metadata": {
        "id": "7IMkYB0Om58H"
      }
    },
    {
      "cell_type": "code",
      "source": [
        "first_batch = dataset.take(1)"
      ],
      "metadata": {
        "id": "F9VVWuwZm8Lk"
      },
      "execution_count": 100,
      "outputs": []
    },
    {
      "cell_type": "code",
      "source": [
        "for input_data, labels in first_batch:\n",
        "  predictions = model(input_data)\n",
        "  print(predictions.shape)"
      ],
      "metadata": {
        "colab": {
          "base_uri": "https://localhost:8080/"
        },
        "id": "isztSuElnAuk",
        "outputId": "babc85a4-4e94-43dd-9a1b-5d8b000c4cfd"
      },
      "execution_count": 101,
      "outputs": [
        {
          "output_type": "stream",
          "name": "stdout",
          "text": [
            "(64, 238, 4295)\n"
          ]
        }
      ]
    },
    {
      "cell_type": "markdown",
      "source": [
        "## Configuring checkpoints"
      ],
      "metadata": {
        "id": "RdzWvCopcDT_"
      }
    },
    {
      "cell_type": "code",
      "source": [
        "from tensorflow.keras.callbacks import ModelCheckpoint"
      ],
      "metadata": {
        "id": "84sVHS8JnZ8Q"
      },
      "execution_count": 102,
      "outputs": []
    },
    {
      "cell_type": "code",
      "source": [
        "checkpoint_folder = path.join(local_folder,\n",
        "                              \"tf_checkpoints/Text Generation using RNN\"\n",
        ")\n",
        "\n",
        "checkpoint_files_path = path.join(checkpoint_folder, \"ckpt_{epoch}\")\n",
        "\n",
        "EPOCHS = 10\n",
        "\n",
        "checkpoint_callback = ModelCheckpoint(\n",
        "    filepath = checkpoint_files_path,\n",
        "    save_weights_only=True\n",
        ")"
      ],
      "metadata": {
        "id": "0QbHtVzEcMSc"
      },
      "execution_count": 103,
      "outputs": []
    },
    {
      "cell_type": "markdown",
      "source": [
        "## Taining"
      ],
      "metadata": {
        "id": "fy4YalKbbWuq"
      }
    },
    {
      "cell_type": "code",
      "source": [
        "restart = True\n",
        "restart_epoch = 10\n",
        "\n",
        "if restart:\n",
        "  checkpoint_files_path = path.join(checkpoint_folder, f\"ckpt_{restart_epoch}\")\n",
        "  model.load_weights(checkpoint_files_path)\n",
        "\n",
        "model.fit(dataset, epochs=EPOCHS, callbacks=[checkpoint_callback])\n"
      ],
      "metadata": {
        "colab": {
          "base_uri": "https://localhost:8080/"
        },
        "id": "vMqhCNzsYV7J",
        "outputId": "6c9ce9e1-003d-4ebe-fac2-05c6093ecf1f"
      },
      "execution_count": 108,
      "outputs": [
        {
          "output_type": "stream",
          "name": "stdout",
          "text": [
            "Epoch 1/10\n",
            "3/3 [==============================] - 7s 2s/step - loss: 4.2474\n",
            "Epoch 2/10\n",
            "3/3 [==============================] - 8s 2s/step - loss: 4.2472\n",
            "Epoch 3/10\n",
            "3/3 [==============================] - 7s 2s/step - loss: 4.2448\n",
            "Epoch 4/10\n",
            "3/3 [==============================] - 8s 2s/step - loss: 4.2412\n",
            "Epoch 5/10\n",
            "3/3 [==============================] - 6s 2s/step - loss: 4.2384\n",
            "Epoch 6/10\n",
            "3/3 [==============================] - 8s 2s/step - loss: 4.2375\n",
            "Epoch 7/10\n",
            "3/3 [==============================] - 6s 2s/step - loss: 4.2376\n",
            "Epoch 8/10\n",
            "3/3 [==============================] - 8s 2s/step - loss: 4.2368\n",
            "Epoch 9/10\n",
            "3/3 [==============================] - 8s 3s/step - loss: 4.2361\n",
            "Epoch 10/10\n",
            "3/3 [==============================] - 7s 2s/step - loss: 4.2351\n"
          ]
        },
        {
          "output_type": "execute_result",
          "data": {
            "text/plain": [
              "<keras.src.callbacks.History at 0x7cb62b0939d0>"
            ]
          },
          "metadata": {},
          "execution_count": 108
        }
      ]
    },
    {
      "cell_type": "code",
      "source": [
        "model"
      ],
      "metadata": {
        "id": "RKmqZAMqct_z",
        "outputId": "7963b5c4-16ea-4b0b-8db3-7e668279b23d",
        "colab": {
          "base_uri": "https://localhost:8080/"
        }
      },
      "execution_count": 105,
      "outputs": [
        {
          "output_type": "execute_result",
          "data": {
            "text/plain": [
              "<keras.src.engine.sequential.Sequential at 0x7cb629ad1390>"
            ]
          },
          "metadata": {},
          "execution_count": 105
        }
      ]
    },
    {
      "cell_type": "code",
      "source": [],
      "metadata": {
        "id": "4UyZbpMldPY0"
      },
      "execution_count": 105,
      "outputs": []
    }
  ]
}