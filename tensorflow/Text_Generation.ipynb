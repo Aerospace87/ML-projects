{
  "nbformat": 4,
  "nbformat_minor": 0,
  "metadata": {
    "colab": {
      "provenance": [],
      "gpuType": "T4",
      "include_colab_link": true
    },
    "kernelspec": {
      "name": "python3",
      "display_name": "Python 3"
    },
    "language_info": {
      "name": "python"
    },
    "accelerator": "GPU"
  },
  "cells": [
    {
      "cell_type": "markdown",
      "metadata": {
        "id": "view-in-github",
        "colab_type": "text"
      },
      "source": [
        "<a href=\"https://colab.research.google.com/github/Aerospace87/ML-projects/blob/main/tensorflow/Text_Generation.ipynb\" target=\"_parent\"><img src=\"https://colab.research.google.com/assets/colab-badge.svg\" alt=\"Open In Colab\"/></a>"
      ]
    },
    {
      "cell_type": "code",
      "source": [
        "from google.colab import drive\n",
        "\n",
        "# Mount your Google Drive to the local /content/drive directory\n",
        "drive.mount('/content/drive')"
      ],
      "metadata": {
        "colab": {
          "base_uri": "https://localhost:8080/"
        },
        "id": "bN5FFh8dZO4r",
        "outputId": "2fe58f54-f171-4ab6-c734-872ddf0eced7"
      },
      "execution_count": 85,
      "outputs": [
        {
          "output_type": "stream",
          "name": "stdout",
          "text": [
            "Drive already mounted at /content/drive; to attempt to forcibly remount, call drive.mount(\"/content/drive\", force_remount=True).\n"
          ]
        }
      ]
    },
    {
      "cell_type": "code",
      "source": [
        "from os import listdir, path\n",
        "\n",
        "local_folder = \"/content/drive/My Drive/\"\n",
        "\n",
        "with open(path.join(local_folder ,\"dataset/shakespeare.txt\")) as f:\n",
        "  shakespeare_dataset = f.read()"
      ],
      "metadata": {
        "id": "npuZyxQbZlMX"
      },
      "execution_count": 86,
      "outputs": []
    },
    {
      "cell_type": "code",
      "source": [
        "shakespeare_dataset = shakespeare_dataset.replace(\"THE SONNETS\\n\\nby William Shakespeare\\n\\n\", \"\")"
      ],
      "metadata": {
        "id": "GDlVkUEXhXSR"
      },
      "execution_count": 87,
      "outputs": []
    },
    {
      "cell_type": "code",
      "source": [
        "shakespeare_dataset = list(shakespeare_dataset)"
      ],
      "metadata": {
        "id": "dAlPCgJa8tuO"
      },
      "execution_count": 88,
      "outputs": []
    },
    {
      "cell_type": "code",
      "source": [
        "characters_list = list(set(shakespeare_dataset))"
      ],
      "metadata": {
        "id": "6usDp--jUqv_"
      },
      "execution_count": 89,
      "outputs": []
    },
    {
      "cell_type": "code",
      "source": [
        "seq_length = 100\n",
        "\n",
        "def create_sequences(seq_length, text):\n",
        "  if isinstance(text, str):\n",
        "    text = text.split()\n",
        "\n",
        "  # This because the output sequence is shifted one token\n",
        "  # to the right.For Example:\n",
        "  # chunk = Hello; Input: Hell ; Output: ello\n",
        "  chunk_length = 1 + seq_length\n",
        "\n",
        "\n",
        "  num_sequences = len(text) // chunk_length\n",
        "\n",
        "  if len(text) % chunk_length != 0:\n",
        "    remainder = len(text) % chunk_length\n",
        "  else:\n",
        "    remainder = 0\n",
        "\n",
        "  sequences = []\n",
        "\n",
        "  if remainder == 0:\n",
        "    for ii in range(num_sequences):\n",
        "      sequences[ii] = [text[ii*chunk_length: (ii+1)* chunk_length]]\n",
        "  else:\n",
        "    for ii in range(num_sequences):\n",
        "      sequences.append(  text[ii*chunk_length: (ii+1)* chunk_length] )\n",
        "\n",
        "    sequences.append(text[num_sequences * chunk_length: num_sequences * chunk_length + remainder - 1])\n",
        "\n",
        "  return sequences\n",
        "\n",
        "shakespeare_dataset = create_sequences(seq_length, shakespeare_dataset)"
      ],
      "metadata": {
        "id": "uzga-uz1lKhm"
      },
      "execution_count": 90,
      "outputs": []
    },
    {
      "cell_type": "code",
      "source": [
        "len(shakespeare_dataset)"
      ],
      "metadata": {
        "colab": {
          "base_uri": "https://localhost:8080/"
        },
        "id": "lGPoh82tyhcG",
        "outputId": "b5bed473-cc75-46ed-c356-2759d9a63af8"
      },
      "execution_count": 91,
      "outputs": [
        {
          "output_type": "execute_result",
          "data": {
            "text/plain": [
              "934"
            ]
          },
          "metadata": {},
          "execution_count": 91
        }
      ]
    },
    {
      "cell_type": "markdown",
      "source": [
        "## Cleaning the dataset and spliting into training examples and lables"
      ],
      "metadata": {
        "id": "uj4z2aNMhL7q"
      }
    },
    {
      "cell_type": "code",
      "source": [
        "dataset = [\"\".join(doc[:-1]) for doc in shakespeare_dataset]\n",
        "labels = [\"\".join(doc[1:]) for doc in shakespeare_dataset]"
      ],
      "metadata": {
        "id": "SGbOKVGoDod9"
      },
      "execution_count": 92,
      "outputs": []
    },
    {
      "cell_type": "code",
      "source": [
        "number_documents = len(dataset)"
      ],
      "metadata": {
        "id": "fP6-jkB449dP"
      },
      "execution_count": 93,
      "outputs": []
    },
    {
      "cell_type": "markdown",
      "source": [
        "## Split dataset into a training an validation set"
      ],
      "metadata": {
        "id": "DTG-n-WBJYwJ"
      }
    },
    {
      "cell_type": "code",
      "source": [
        "training_percentage = 80\n",
        "\n",
        "training_samples = (number_documents * training_percentage) // 100\n",
        "validation_samples = number_documents - training_samples\n",
        "\n",
        "X_train = dataset[:training_samples]\n",
        "Y_train = labels[:training_samples]\n",
        "\n",
        "X_val = dataset[training_samples:]\n",
        "Y_val = labels[training_samples:]"
      ],
      "metadata": {
        "id": "8sgvj47Uh2st"
      },
      "execution_count": 94,
      "outputs": []
    },
    {
      "cell_type": "code",
      "source": [
        "test = X_train[0]"
      ],
      "metadata": {
        "id": "8SWxWk1_NcpB"
      },
      "execution_count": 95,
      "outputs": []
    },
    {
      "cell_type": "markdown",
      "source": [
        "## Text Vectorization"
      ],
      "metadata": {
        "id": "7LIQBFr6hZnu"
      }
    },
    {
      "cell_type": "code",
      "source": [
        "from tensorflow.keras import layers\n",
        "\n",
        "# character options permits to separate each character\n",
        "text_vectorization = layers.TextVectorization(\n",
        "    split='character',\n",
        "    output_mode='int',\n",
        "    standardize = None,\n",
        "    vocabulary = characters_list\n",
        ")"
      ],
      "metadata": {
        "id": "wH29U7e1JWQl"
      },
      "execution_count": 96,
      "outputs": []
    },
    {
      "cell_type": "code",
      "source": [
        "dataset = text_vectorization(dataset)"
      ],
      "metadata": {
        "id": "ksxKhBvN2ZY3"
      },
      "execution_count": 97,
      "outputs": []
    },
    {
      "cell_type": "code",
      "source": [
        "# Dictionay to map back from integer index to word\n",
        "from_int_to_word ={}\n",
        "from_word_to_int = {}\n",
        "vocabulary = text_vectorization.get_vocabulary()\n",
        "vocabulary_size = len(vocabulary)\n",
        "\n",
        "for idx,word in enumerate(vocabulary):\n",
        "    from_int_to_word[idx] = word\n",
        "    from_word_to_int[word] = idx"
      ],
      "metadata": {
        "id": "5F5LZ9L0dlxH"
      },
      "execution_count": 98,
      "outputs": []
    },
    {
      "cell_type": "code",
      "source": [
        "labels = text_vectorization(labels)"
      ],
      "metadata": {
        "id": "P2bTCWDR8oPD"
      },
      "execution_count": 99,
      "outputs": []
    },
    {
      "cell_type": "code",
      "source": [
        "X_train = text_vectorization(X_train)\n",
        "Y_train = text_vectorization(Y_train)\n",
        "X_val = text_vectorization(X_val)\n",
        "Y_val = text_vectorization(Y_val)"
      ],
      "metadata": {
        "id": "scwW70IpMMn8"
      },
      "execution_count": 100,
      "outputs": []
    },
    {
      "cell_type": "code",
      "source": [
        "X_train[0].numpy()"
      ],
      "metadata": {
        "colab": {
          "base_uri": "https://localhost:8080/"
        },
        "id": "qta9wfiXTjvv",
        "outputId": "40e0801f-1617-49c9-8a78-f548905cc8f5"
      },
      "execution_count": 101,
      "outputs": [
        {
          "output_type": "execute_result",
          "data": {
            "text/plain": [
              "array([12, 51, 43, 36, 52,  8, 44, 27, 51, 23, 53, 37, 52, 30, 51, 23, 44,\n",
              "       37, 35, 51, 23, 53, 52, 39, 23, 52, 42, 23, 53, 27, 51, 23, 52, 27,\n",
              "       59, 30, 51, 23, 44, 53, 23, 17, 20, 49, 11, 44, 37, 52, 37, 11, 23,\n",
              "       51, 23, 13, 40, 52, 13, 23, 44, 35, 37, 40, 15, 53, 52, 51, 43, 53,\n",
              "       23, 52, 36, 27, 60, 11, 37, 52, 59, 23,  5, 23, 51, 52, 42, 27, 23,\n",
              "       17, 20, 45, 35, 37, 52, 44, 53, 52, 37, 11, 23, 52, 51, 27])"
            ]
          },
          "metadata": {},
          "execution_count": 101
        }
      ]
    },
    {
      "cell_type": "code",
      "source": [
        "Y_train[0].numpy()"
      ],
      "metadata": {
        "colab": {
          "base_uri": "https://localhost:8080/"
        },
        "id": "aTI3SjcGXCPS",
        "outputId": "511be6ec-9dcf-43e2-af8e-7f64a2a366c1"
      },
      "execution_count": 102,
      "outputs": [
        {
          "output_type": "execute_result",
          "data": {
            "text/plain": [
              "array([51, 43, 36, 52,  8, 44, 27, 51, 23, 53, 37, 52, 30, 51, 23, 44, 37,\n",
              "       35, 51, 23, 53, 52, 39, 23, 52, 42, 23, 53, 27, 51, 23, 52, 27, 59,\n",
              "       30, 51, 23, 44, 53, 23, 17, 20, 49, 11, 44, 37, 52, 37, 11, 23, 51,\n",
              "       23, 13, 40, 52, 13, 23, 44, 35, 37, 40, 15, 53, 52, 51, 43, 53, 23,\n",
              "       52, 36, 27, 60, 11, 37, 52, 59, 23,  5, 23, 51, 52, 42, 27, 23, 17,\n",
              "       20, 45, 35, 37, 52, 44, 53, 52, 37, 11, 23, 52, 51, 27, 54])"
            ]
          },
          "metadata": {},
          "execution_count": 102
        }
      ]
    },
    {
      "cell_type": "code",
      "source": [
        "# Checking that the translation is ok\n",
        "test1 = \"\"\n",
        "for idx in X_train[0, :].numpy():\n",
        "  char = from_int_to_word[idx]\n",
        "  test1 += char\n",
        "\n",
        "assert test == test1"
      ],
      "metadata": {
        "id": "89vpW9uX7NOb"
      },
      "execution_count": 103,
      "outputs": []
    },
    {
      "cell_type": "markdown",
      "source": [
        "## Creation of a tensorflow dataset using training examples and labels"
      ],
      "metadata": {
        "id": "dKgmmm_Thsh5"
      }
    },
    {
      "cell_type": "code",
      "source": [
        "from tensorflow.data import Dataset\n",
        "# Creation of the datasets to feed to the model\n",
        "train_dataset = Dataset.from_tensor_slices(\n",
        "    (X_train, Y_train)\n",
        ")\n",
        "\n",
        "val_dataset = Dataset.from_tensor_slices(\n",
        "    (X_val, Y_val)\n",
        ")\n",
        "\n",
        "train_size = X_train.shape[0]\n",
        "\n",
        "# shuffle and split into batches of batch size BATCH_SIZE\n",
        "BATCH_SIZE = 4\n",
        "\n",
        "# Buffer size of the buffer to shuffle the dataset\n",
        "# Otherfwise TF will have the full dataset in memory\n",
        "BUFFER_SIZE = 10000\n",
        "\n",
        "train_dataset = train_dataset.shuffle(BUFFER_SIZE).batch(BATCH_SIZE)\n",
        "val_dataset = val_dataset.shuffle(BUFFER_SIZE).batch(BATCH_SIZE)"
      ],
      "metadata": {
        "id": "q7YVF4VdnO-H"
      },
      "execution_count": 104,
      "outputs": []
    },
    {
      "cell_type": "markdown",
      "source": [
        "## Model Creation"
      ],
      "metadata": {
        "id": "5lTI1Aqbve9Z"
      }
    },
    {
      "cell_type": "code",
      "source": [
        "# Because we need to output the state (which is a tensor) and the output\n",
        "# then we must use the functional API\n",
        "from tensorflow.keras import Input, Model\n",
        "from tensorflow.keras import activations\n",
        "from tensorflow.keras import layers"
      ],
      "metadata": {
        "id": "C7H3mVzp5XZw"
      },
      "execution_count": 105,
      "outputs": []
    },
    {
      "cell_type": "code",
      "source": [
        "class CustomModel(Model):\n",
        "  def __init__(self, vocabulary_size, embedding_vector_dimension, lstm_units,dropout=0.0, recurrent_dropout=0.0, verbose=False):\n",
        "    super().__init__()\n",
        "\n",
        "    self.verbose = verbose\n",
        "\n",
        "    self.word_embedding = layers.Embedding(\n",
        "                                          input_dim = vocabulary_size,\n",
        "                                          output_dim=embedding_vector_dimension\n",
        "                                          )\n",
        "    self.lstm1 = layers.LSTM(lstm_units, return_sequences = True, return_state=True,\n",
        "                             dropout=dropout, recurrent_dropout=recurrent_dropout)\n",
        "\n",
        "    softmax = activations.softmax\n",
        "\n",
        "    self.softmax_layer = layers.Dense(units=vocabulary_size, activation = softmax)\n",
        "\n",
        "\n",
        "  def call (self, inputs, training=False, states1=None):\n",
        "\n",
        "      embedding = self.word_embedding(inputs)\n",
        "\n",
        "      if states1 is None:\n",
        "        states1 = self.lstm1.get_initial_state(embedding)\n",
        "\n",
        "      seq_output_1, final_memory_state_1, final_carry_state_1 = self.lstm1(embedding, initial_state = states1 )\n",
        "\n",
        "      states1 = [final_memory_state_1, final_carry_state_1]\n",
        "\n",
        "      outputs = self.softmax_layer(seq_output_1)\n",
        "\n",
        "      if self.verbose:\n",
        "        print(f\"Inputs shape : {inputs.shape}\")\n",
        "        print(f\"Embedding shape: {embedding.shape}\")\n",
        "        print(f\"LSTM1 shape: {seq_output_1.shape}\")\n",
        "        print(f\"Softmax shape: {outputs.shape}\")\n",
        "\n",
        "      if training:\n",
        "        return outputs\n",
        "      else:\n",
        "        return outputs, states1\n"
      ],
      "metadata": {
        "id": "x0MSYSeT_TK4"
      },
      "execution_count": 109,
      "outputs": []
    },
    {
      "cell_type": "code",
      "source": [
        "word_embedding_vector_dimension = 32\n",
        "lstm_units = 1024\n",
        "model = CustomModel(vocabulary_size, word_embedding_vector_dimension, lstm_units,recurrent_dropout=0.5, verbose=False)"
      ],
      "metadata": {
        "id": "rEBEiq4zEcxP",
        "colab": {
          "base_uri": "https://localhost:8080/"
        },
        "outputId": "3190a037-6265-41e2-d594-2c504cd0d225"
      },
      "execution_count": 111,
      "outputs": [
        {
          "output_type": "stream",
          "name": "stderr",
          "text": [
            "WARNING:tensorflow:Layer lstm_9 will not use cuDNN kernels since it doesn't meet the criteria. It will use a generic GPU kernel as fallback when running on GPU.\n"
          ]
        }
      ]
    },
    {
      "cell_type": "code",
      "source": [
        "from tensorflow.keras.losses import SparseCategoricalCrossentropy\n",
        "loss = SparseCategoricalCrossentropy(from_logits=False)"
      ],
      "metadata": {
        "id": "vz4JFWjE1W56"
      },
      "execution_count": 112,
      "outputs": []
    },
    {
      "cell_type": "code",
      "source": [
        "from tensorflow.keras.optimizers import Adam\n",
        "adam_optimizer = Adam(learning_rate=2e-3)"
      ],
      "metadata": {
        "id": "hqcP57ZZxTQJ"
      },
      "execution_count": 113,
      "outputs": []
    },
    {
      "cell_type": "code",
      "source": [
        "from tensorflow.keras.metrics import SparseCategoricalAccuracy\n",
        "metric = SparseCategoricalAccuracy()"
      ],
      "metadata": {
        "id": "AvBe_ivmPaZr"
      },
      "execution_count": 114,
      "outputs": []
    },
    {
      "cell_type": "code",
      "source": [
        "model.compile(optimizer = adam_optimizer, loss = loss, metrics=[metric])"
      ],
      "metadata": {
        "id": "Vk-GC7S2hA4P"
      },
      "execution_count": 115,
      "outputs": []
    },
    {
      "cell_type": "markdown",
      "source": [
        "## Testing the model works"
      ],
      "metadata": {
        "id": "7IMkYB0Om58H"
      }
    },
    {
      "cell_type": "code",
      "source": [
        "first_batch = train_dataset.take(1)"
      ],
      "metadata": {
        "id": "F9VVWuwZm8Lk"
      },
      "execution_count": 116,
      "outputs": []
    },
    {
      "cell_type": "code",
      "source": [
        "for input_data, labels in first_batch:\n",
        "  predictions = model(input_data,training=True)\n",
        "  assert predictions.shape == (BATCH_SIZE, seq_length, vocabulary_size)"
      ],
      "metadata": {
        "id": "isztSuElnAuk"
      },
      "execution_count": 117,
      "outputs": []
    },
    {
      "cell_type": "code",
      "source": [
        "model.summary()"
      ],
      "metadata": {
        "colab": {
          "base_uri": "https://localhost:8080/"
        },
        "id": "qRDF90q29mMm",
        "outputId": "20b6d8d6-0cfc-4c59-b6ab-388efb5e4591"
      },
      "execution_count": 118,
      "outputs": [
        {
          "output_type": "stream",
          "name": "stdout",
          "text": [
            "Model: \"custom_model_6\"\n",
            "_________________________________________________________________\n",
            " Layer (type)                Output Shape              Param #   \n",
            "=================================================================\n",
            " embedding_6 (Embedding)     multiple                  2016      \n",
            "                                                                 \n",
            " lstm_9 (LSTM)               multiple                  4329472   \n",
            "                                                                 \n",
            " dense_6 (Dense)             multiple                  64575     \n",
            "                                                                 \n",
            "=================================================================\n",
            "Total params: 4396063 (16.77 MB)\n",
            "Trainable params: 4396063 (16.77 MB)\n",
            "Non-trainable params: 0 (0.00 Byte)\n",
            "_________________________________________________________________\n"
          ]
        }
      ]
    },
    {
      "cell_type": "markdown",
      "source": [
        "## Configuring checkpoints"
      ],
      "metadata": {
        "id": "RdzWvCopcDT_"
      }
    },
    {
      "cell_type": "code",
      "source": [
        "from tensorflow.keras.callbacks import ModelCheckpoint"
      ],
      "metadata": {
        "id": "84sVHS8JnZ8Q"
      },
      "execution_count": 119,
      "outputs": []
    },
    {
      "cell_type": "code",
      "source": [
        "checkpoint_folder = path.join(local_folder,\n",
        "                              \"tf_checkpoints/Text Generation using RNN\"\n",
        ")\n",
        "\n",
        "checkpoint_files_path = path.join(checkpoint_folder, \"ckpt_{epoch}\")\n",
        "\n",
        "EPOCHS = 20\n",
        "SAVING_FREQUENCY = 100\n",
        "\n",
        "checkpoint_callback = ModelCheckpoint(\n",
        "    filepath = checkpoint_files_path,\n",
        "    save_weights_only=True,\n",
        "    save_freq=\"epoch\",\n",
        "    period=SAVING_FREQUENCY\n",
        "\n",
        ")"
      ],
      "metadata": {
        "id": "0QbHtVzEcMSc",
        "colab": {
          "base_uri": "https://localhost:8080/"
        },
        "outputId": "ae5863a8-9111-42e1-c798-70e08ae67fb6"
      },
      "execution_count": 120,
      "outputs": [
        {
          "output_type": "stream",
          "name": "stderr",
          "text": [
            "WARNING:tensorflow:`period` argument is deprecated. Please use `save_freq` to specify the frequency in number of batches seen.\n"
          ]
        }
      ]
    },
    {
      "cell_type": "markdown",
      "source": [
        "## Training"
      ],
      "metadata": {
        "id": "fy4YalKbbWuq"
      }
    },
    {
      "cell_type": "code",
      "source": [
        "restart = False\n",
        "restart_epoch = 1000\n",
        "\n",
        "if restart:\n",
        "  checkpoint_files_path = path.join(checkpoint_folder, f\"ckpt_{restart_epoch}\")\n",
        "  model.load_weights(checkpoint_files_path)\n",
        "\n",
        "history = model.fit(train_dataset,\n",
        "                    epochs=EPOCHS,\n",
        "                    validation_data=val_dataset,\n",
        "                    callbacks=[checkpoint_callback]\n",
        "                    )"
      ],
      "metadata": {
        "id": "vMqhCNzsYV7J",
        "colab": {
          "base_uri": "https://localhost:8080/"
        },
        "outputId": "bda3ef00-f5d4-45ae-c25a-c65bb32a04f0"
      },
      "execution_count": 121,
      "outputs": [
        {
          "output_type": "stream",
          "name": "stdout",
          "text": [
            "Epoch 1/20\n",
            "187/187 [==============================] - 68s 339ms/step - loss: 2.8192 - sparse_categorical_accuracy: 0.2366 - val_loss: 2.2986 - val_sparse_categorical_accuracy: 0.3432\n",
            "Epoch 2/20\n",
            "187/187 [==============================] - 62s 334ms/step - loss: 2.1529 - sparse_categorical_accuracy: 0.3662 - val_loss: 2.0755 - val_sparse_categorical_accuracy: 0.3921\n",
            "Epoch 3/20\n",
            "187/187 [==============================] - 61s 324ms/step - loss: 1.9351 - sparse_categorical_accuracy: 0.4247 - val_loss: 1.9098 - val_sparse_categorical_accuracy: 0.4322\n",
            "Epoch 4/20\n",
            "187/187 [==============================] - 63s 335ms/step - loss: 1.7885 - sparse_categorical_accuracy: 0.4612 - val_loss: 1.8176 - val_sparse_categorical_accuracy: 0.4591\n",
            "Epoch 5/20\n",
            "187/187 [==============================] - 62s 329ms/step - loss: 1.6797 - sparse_categorical_accuracy: 0.4879 - val_loss: 1.7717 - val_sparse_categorical_accuracy: 0.4728\n",
            "Epoch 6/20\n",
            "187/187 [==============================] - 63s 335ms/step - loss: 1.5975 - sparse_categorical_accuracy: 0.5077 - val_loss: 1.7330 - val_sparse_categorical_accuracy: 0.4828\n",
            "Epoch 7/20\n",
            "187/187 [==============================] - 61s 324ms/step - loss: 1.5276 - sparse_categorical_accuracy: 0.5264 - val_loss: 1.7077 - val_sparse_categorical_accuracy: 0.4924\n",
            "Epoch 8/20\n",
            "187/187 [==============================] - 63s 336ms/step - loss: 1.4665 - sparse_categorical_accuracy: 0.5405 - val_loss: 1.7010 - val_sparse_categorical_accuracy: 0.4943\n",
            "Epoch 9/20\n",
            "187/187 [==============================] - 61s 325ms/step - loss: 1.4171 - sparse_categorical_accuracy: 0.5544 - val_loss: 1.6907 - val_sparse_categorical_accuracy: 0.4988\n",
            "Epoch 10/20\n",
            "187/187 [==============================] - 62s 334ms/step - loss: 1.3711 - sparse_categorical_accuracy: 0.5646 - val_loss: 1.7107 - val_sparse_categorical_accuracy: 0.4965\n",
            "Epoch 11/20\n",
            "187/187 [==============================] - 60s 323ms/step - loss: 1.3334 - sparse_categorical_accuracy: 0.5775 - val_loss: 1.7229 - val_sparse_categorical_accuracy: 0.4995\n",
            "Epoch 12/20\n",
            "187/187 [==============================] - 62s 332ms/step - loss: 1.3014 - sparse_categorical_accuracy: 0.5842 - val_loss: 1.7238 - val_sparse_categorical_accuracy: 0.5002\n",
            "Epoch 13/20\n",
            "187/187 [==============================] - 61s 326ms/step - loss: 1.2707 - sparse_categorical_accuracy: 0.5913 - val_loss: 1.7388 - val_sparse_categorical_accuracy: 0.5035\n",
            "Epoch 14/20\n",
            "187/187 [==============================] - 62s 332ms/step - loss: 1.2489 - sparse_categorical_accuracy: 0.5967 - val_loss: 1.7444 - val_sparse_categorical_accuracy: 0.5032\n",
            "Epoch 15/20\n",
            "187/187 [==============================] - 61s 324ms/step - loss: 1.2288 - sparse_categorical_accuracy: 0.6017 - val_loss: 1.7669 - val_sparse_categorical_accuracy: 0.4981\n",
            "Epoch 16/20\n",
            "187/187 [==============================] - 62s 333ms/step - loss: 1.2059 - sparse_categorical_accuracy: 0.6081 - val_loss: 1.7859 - val_sparse_categorical_accuracy: 0.5015\n",
            "Epoch 17/20\n",
            "187/187 [==============================] - 62s 331ms/step - loss: 1.1925 - sparse_categorical_accuracy: 0.6108 - val_loss: 1.7827 - val_sparse_categorical_accuracy: 0.5013\n",
            "Epoch 18/20\n",
            "187/187 [==============================] - 63s 335ms/step - loss: 1.1794 - sparse_categorical_accuracy: 0.6174 - val_loss: 1.7929 - val_sparse_categorical_accuracy: 0.4978\n",
            "Epoch 19/20\n",
            "187/187 [==============================] - 63s 336ms/step - loss: 1.1649 - sparse_categorical_accuracy: 0.6198 - val_loss: 1.8161 - val_sparse_categorical_accuracy: 0.4980\n",
            "Epoch 20/20\n",
            "187/187 [==============================] - 62s 333ms/step - loss: 1.1583 - sparse_categorical_accuracy: 0.6200 - val_loss: 1.8234 - val_sparse_categorical_accuracy: 0.4973\n"
          ]
        }
      ]
    },
    {
      "cell_type": "markdown",
      "source": [
        "## Plotting Validation and training Loss"
      ],
      "metadata": {
        "id": "lx0SVpMCSugo"
      }
    },
    {
      "cell_type": "code",
      "source": [
        "import pandas as pd\n",
        "results = pd.DataFrame.from_dict(history.history)"
      ],
      "metadata": {
        "id": "4UyZbpMldPY0"
      },
      "execution_count": 122,
      "outputs": []
    },
    {
      "cell_type": "code",
      "source": [
        "results.plot(y=['sparse_categorical_accuracy', 'val_sparse_categorical_accuracy'], use_index=True)"
      ],
      "metadata": {
        "id": "IOYDe5VMR0QP",
        "colab": {
          "base_uri": "https://localhost:8080/",
          "height": 447
        },
        "outputId": "9bf4d73a-b0fa-4b57-c630-b02543ce6e30"
      },
      "execution_count": 129,
      "outputs": [
        {
          "output_type": "execute_result",
          "data": {
            "text/plain": [
              "<Axes: >"
            ]
          },
          "metadata": {},
          "execution_count": 129
        },
        {
          "output_type": "display_data",
          "data": {
            "text/plain": [
              "<Figure size 640x480 with 1 Axes>"
            ],
            "image/png": "[encoded data removed]"
          },
          "metadata": {}
        }
      ]
    },
    {
      "cell_type": "markdown",
      "source": [
        "## Sampling"
      ],
      "metadata": {
        "id": "wAh_8LnPX_GR"
      }
    },
    {
      "cell_type": "code",
      "source": [
        "import numpy as np"
      ],
      "metadata": {
        "id": "8K4_OyzrS20R"
      },
      "execution_count": 124,
      "outputs": []
    },
    {
      "cell_type": "code",
      "source": [
        "char = \"T\"\n",
        "states1 = None\n",
        "\n",
        "number_of_words = 200\n",
        "\n",
        "sentence = [char]\n",
        "\n",
        "for ii in range(number_of_words):\n",
        "  char = [[char]]\n",
        "\n",
        "  char = text_vectorization(char)\n",
        "\n",
        "  output, states1 = model(char, states1 = states1)\n",
        "\n",
        "  char_probabilities = output[:,-1,:].numpy().reshape(-1)\n",
        "\n",
        "  word_indexes = np.arange(vocabulary_size).reshape(-1)\n",
        "  next_index = np.random.choice(word_indexes, p= char_probabilities)\n",
        "\n",
        "\n",
        "  char = from_int_to_word[next_index]\n",
        "\n",
        "  sentence.append(char)\n",
        "\n",
        "sentence = ''.join(sentence)"
      ],
      "metadata": {
        "id": "-Xc_bPR_hb3z"
      },
      "execution_count": 126,
      "outputs": []
    },
    {
      "cell_type": "code",
      "source": [
        "print(sentence)"
      ],
      "metadata": {
        "colab": {
          "base_uri": "https://localhost:8080/"
        },
        "id": "QxDmXDtJXjFF",
        "outputId": "51b51b31-30ae-4388-98a1-17a28e5e76d7"
      },
      "execution_count": 127,
      "outputs": [
        {
          "output_type": "stream",
          "name": "stdout",
          "text": [
            "They did cannot can not,\n",
            "For never winter's sweet roof love, so fair a lie,\n",
            "Your self rebair in growth famine eye is a dial hand,\n",
            "Nor (this accenate to the hearts tell to suh,\n",
            "And your true converted h\n"
          ]
        }
      ]
    }
  ]
}