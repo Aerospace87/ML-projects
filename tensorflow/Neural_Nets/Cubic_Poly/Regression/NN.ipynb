{
  "cells": [
    {
      "cell_type": "markdown",
      "metadata": {
        "id": "view-in-github",
        "colab_type": "text"
      },
      "source": [
        "<a href=\"https://colab.research.google.com/github/Aerospace87/ML-projects/blob/main/tensorflow/NN.ipynb\" target=\"_parent\"><img src=\"https://colab.research.google.com/assets/colab-badge.svg\" alt=\"Open In Colab\"/></a>"
      ]
    },
    {
      "cell_type": "code",
      "execution_count": null,
      "metadata": {
        "id": "4Q3ippZeH4YZ"
      },
      "outputs": [],
      "source": [
        "import tensorflow as tf\n",
        "import pandas as pd"
      ]
    },
    {
      "cell_type": "code",
      "execution_count": null,
      "metadata": {
        "id": "hoa8aqyKIH8f"
      },
      "outputs": [],
      "source": [
        "datasize = 20000\n",
        "\n",
        "x = tf.linspace(0,1,datasize)\n",
        "x = tf.cast(x, tf.float32)\n",
        "# cretaion of a row array\n",
        "x = tf.reshape(x, shape = [x.shape[0],1])"
      ]
    },
    {
      "cell_type": "code",
      "execution_count": null,
      "metadata": {
        "id": "s40_Ki27H_ng"
      },
      "outputs": [],
      "source": [
        "def f(x):\n",
        "  y = x**3 + x**2 + x + 1\n",
        "  return y\n",
        "\n",
        "y = f(x) + tf.random.normal([datasize, 1], mean = 0, stddev=0.1, seed = tf.random.set_seed(1))"
      ]
    },
    {
      "cell_type": "code",
      "source": [
        "tf.range(10)"
      ],
      "metadata": {
        "colab": {
          "base_uri": "https://localhost:8080/"
        },
        "id": "eYFDgS6CloeN",
        "outputId": "2559a022-f38b-45eb-efe4-cdf03afb15d3"
      },
      "execution_count": null,
      "outputs": [
        {
          "output_type": "execute_result",
          "data": {
            "text/plain": [
              "<tf.Tensor: shape=(10,), dtype=int32, numpy=array([0, 1, 2, 3, 4, 5, 6, 7, 8, 9], dtype=int32)>"
            ]
          },
          "metadata": {},
          "execution_count": 26
        }
      ]
    },
    {
      "cell_type": "code",
      "execution_count": null,
      "metadata": {
        "id": "UztJ1u4RITY_"
      },
      "outputs": [],
      "source": [
        "class InputLayer(tf.Module):\n",
        "\n",
        "  def __init__(self, batch_size, train_perc = 0.8, seed = 1):\n",
        "    self.batch_size = batch_size\n",
        "    self.train_perc = train_perc\n",
        "    self.seed = tf.random.set_seed(seed)\n",
        "\n",
        "  def get_std_mean(self,x,y):\n",
        "\n",
        "      std_x = tf.math.sqrt(tf.math.reduce_variance(x))\n",
        "      mean_x = tf.math.reduce_mean(x)\n",
        "\n",
        "      std_y = tf.math.sqrt(tf.math.reduce_variance(y))\n",
        "      mean_y = tf.math.reduce_mean(y)\n",
        "\n",
        "      return std_x, mean_x, std_y, mean_y\n",
        "\n",
        "  def normalize(self, x ,y, std_x, mean_x, std_y, mean_y):\n",
        "      return (x - mean_x)/std_x, (y - mean_y)/std_y\n",
        "\n",
        "  def transform_range(self, x):\n",
        "    x_min = tf.math.minimum(x)\n",
        "    x_max = tf.math.maximum(x)\n",
        "    return (x - x_min)/(x_max - x_min)\n",
        "\n",
        "\n",
        "  def __call__(self, x, y):\n",
        "\n",
        "    samples_size = y.shape[0]\n",
        "    train_size = int(self.train_perc * samples_size)\n",
        "\n",
        "    # shuffling\n",
        "    indices = tf.range(samples_size)\n",
        "    shuffled_indices = tf.random.shuffle(indices)\n",
        "    x = tf.gather(x, shuffled_indices)\n",
        "    y = tf.gather(y, shuffled_indices)\n",
        "\n",
        "\n",
        "    x_train, y_train = x[:train_size,:] , y[:train_size, :]\n",
        "    x_val, y_val = x[train_size:, :], y[train_size:, :]\n",
        "\n",
        "    std_x, mean_x, std_y, mean_y  = self.get_std_mean(x_train,y_train)\n",
        "    x_train, y_train= self.normalize(x_train, y_train, std_x, mean_x, std_y, mean_y)\n",
        "    x_val, y_val= self.normalize(x_val, y_val, std_x, mean_x, std_y, mean_y)\n",
        "\n",
        "\n",
        "    train_dataset = tf.data.Dataset.from_tensor_slices((x_train,y_train))\n",
        "\n",
        "    train_dataset = train_dataset.batch(self.batch_size)\n",
        "\n",
        "    return train_dataset, x_val, y_val, std_x, mean_x, std_y, mean_y, x_train, y_train\n"
      ]
    },
    {
      "cell_type": "code",
      "execution_count": null,
      "metadata": {
        "id": "LQvVeCaTTokn"
      },
      "outputs": [],
      "source": [
        "class NNLayer(tf.Module):\n",
        "  def __init__(self, number_units, input_shape, activation='sigmoid', seed = None):\n",
        "\n",
        "    self.activation = activation\n",
        "    self.seed = tf.random.set_seed(seed)\n",
        "\n",
        "    self.W = tf.Variable(tf.random.normal(shape = [input_shape, number_units], seed = self.seed), name='W')*tf.sqrt(2./input_shape)\n",
        "    self.b = tf.Variable(tf.random.normal(shape = [1, number_units], seed = self.seed),  name='b')\n",
        "\n",
        "    if self.activation ==  'parelu':\n",
        "      self.a = tf.Variable(tf.random.normal(shape = [1], seed = self.seed))\n",
        "\n",
        "  def activation_function(self, x ):\n",
        "    if self.activation == 'sigmoid':\n",
        "      return 1 / (1 + tf.math.exp(-x))\n",
        "    elif self.activation == 'linear':\n",
        "      return x\n",
        "    elif self.activation == 'relu':\n",
        "      return tf.math.maximum(0,x)\n",
        "    elif self.activation == 'tanh':\n",
        "      return tf.math.tanh(x)\n",
        "    elif self.activation == 'parelu':\n",
        "      return tf.math.maximum(0.,x) + tf.math.minimum(0., self.a * x)\n",
        "\n",
        "  def __call__(self, x):\n",
        "    return self.activation_function(tf.matmul(x, self.W) + self.b)"
      ]
    },
    {
      "cell_type": "code",
      "execution_count": null,
      "metadata": {
        "id": "f1XbD4R4aTNb"
      },
      "outputs": [],
      "source": [
        "class Model(tf.Module):\n",
        "\n",
        "  def __init__(self, n_layers, n_units, output_size=1, seed =None):\n",
        "\n",
        "    super(Model, self).__init__()\n",
        "    self.n_layers = n_layers\n",
        "    self.n_units = n_units\n",
        "    self.output_size = output_size\n",
        "    self.seed = seed\n",
        "    self.layer_input = NNLayer(self.n_units, 1, activation = 'parelu', seed = self.seed)\n",
        "    self.intermediate_layer = NNLayer(self.n_units, self.n_units, activation = 'parelu', seed = self.seed)\n",
        "    self.layer_output = NNLayer(self.output_size, self.n_units, activation='linear', seed = self.seed)\n",
        "\n",
        "\n",
        "  @tf.function\n",
        "  def __call__(self, inputs):\n",
        "\n",
        "\n",
        "    globals()[f\"a_{1}\"] = self.layer_input(inputs)\n",
        "\n",
        "    for ii in range(2, self.n_layers):\n",
        "      globals()[f\"a_{ii}\"] = self.intermediate_layer(globals()[f\"a_{ii - 1}\"])\n",
        "\n",
        "\n",
        "    return self.layer_output(globals()[f\"a_{self.n_layers - 1}\"] )"
      ]
    },
    {
      "cell_type": "code",
      "execution_count": null,
      "metadata": {
        "id": "D_i3Xs_S1rKd"
      },
      "outputs": [],
      "source": [
        "def mse_loss(y_pred, y, regularization=None, weights=None, lambd=0):\n",
        "\n",
        "  result = tf.square(y_pred - y)\n",
        "  if regularization is None:\n",
        "    pass\n",
        "\n",
        "  elif regularization == 'L2':\n",
        "    reg = 0\n",
        "\n",
        "    weights = (weight for weight in weights if 'W' in weight.name)\n",
        "\n",
        "    for weight in weights:\n",
        "      reg += tf.reduce_sum(tf.square(weight))\n",
        "\n",
        "    result += reg + 0.5 * lambd\n",
        "\n",
        "  elif regularization == 'L1':\n",
        "    reg = 0\n",
        "\n",
        "    weights = (weight for weight in weights if 'W' in weight.name)\n",
        "\n",
        "    for weight in weights:\n",
        "      reg += tf.reduce_sum(tf.abs(weight))\n",
        "\n",
        "    result += reg + 0.5 * lambd\n",
        "\n",
        "  else:\n",
        "    raise ValueError(f\"Regularization {regularization} not supported!\")\n",
        "\n",
        "\n",
        "\n",
        "  return tf.reduce_mean(result)"
      ]
    },
    {
      "cell_type": "code",
      "execution_count": null,
      "metadata": {
        "id": "qcRHaVVIB0jt"
      },
      "outputs": [],
      "source": [
        "def exponential_average(beta, avg, val):\n",
        "  return beta * avg + (1. - beta) * val"
      ]
    },
    {
      "cell_type": "code",
      "execution_count": null,
      "metadata": {
        "id": "V-Hzc99cCYO0"
      },
      "outputs": [],
      "source": [
        "def adam_optimizer(V, S, grad, epoch, beta_1=0.9, beta_2=0.999 , epsilon=1e-08):\n",
        "\n",
        "\n",
        "  V = exponential_average(beta_1, V, grad)\n",
        "  S = exponential_average(beta_2, S, tf.square(grad))\n",
        "\n",
        "\n",
        "  # corrected values\n",
        "  corr_v = 1.0 - beta_1 ** epoch\n",
        "  corr_s = 1.0 - beta_2 ** epoch\n",
        "\n",
        "  V_corr = V / corr_v\n",
        "  S_corr = S/ corr_s\n",
        "\n",
        "  # Normalizations wits mean and std\n",
        "  adv_term = V_corr / tf.math.sqrt(S_corr + epsilon)\n",
        "\n",
        "\n",
        "  return adv_term, V, S"
      ]
    },
    {
      "cell_type": "code",
      "execution_count": null,
      "metadata": {
        "id": "cLmGcAAU6iHE"
      },
      "outputs": [],
      "source": [
        "batch_size = 1024\n",
        "input = InputLayer(batch_size, train_perc=0.8)\n",
        "train_dataset, x_val, y_val, std_x, mean_x, std_y, mean_y, x_train, y_train = input(x,y)\n",
        "\n",
        "n_layers,n_units, output_size = 3, 8, 1\n",
        "my_model = Model(n_layers, n_units,  output_size, seed = 1)"
      ]
    },
    {
      "cell_type": "code",
      "execution_count": null,
      "metadata": {
        "colab": {
          "base_uri": "https://localhost:8080/"
        },
        "id": "QYeka6ObT8mp",
        "outputId": "5fa33664-fc39-431e-ddf5-777fbd7e361b"
      },
      "outputs": [
        {
          "output_type": "stream",
          "name": "stdout",
          "text": [
            "(1024, 1)\n"
          ]
        }
      ],
      "source": [
        "for x_batch0, y_batch0 in train_dataset.take(1):\n",
        "    a,b = x_batch0, y_batch0\n",
        "\n",
        "print(my_model(a).shape)"
      ]
    },
    {
      "cell_type": "code",
      "source": [
        "def order_data(ts, transform=True):\n",
        "  original_shape = ts.shape\n",
        "  result = tf.sort(tf.reshape(ts,-1))\n",
        "  if transform:\n",
        "    return result\n",
        "  else:\n",
        "    return tf.reshape(result, shape = original_shape)"
      ],
      "metadata": {
        "id": "CL2PdIbAOCTc"
      },
      "execution_count": null,
      "outputs": []
    },
    {
      "cell_type": "code",
      "source": [
        "from matplotlib import pyplot as plt\n",
        "\n",
        "def plot_curves(x, model, mean_x, std_x, mean_y, std_y):\n",
        "  x_plot = (std_x * x) + mean_x\n",
        "  x_plot = order_data(x_plot)\n",
        "  f_x_plot = f(x_plot)\n",
        "  y_pred = tf.sort((std_y * my_model(order_data(x, False))) + mean_y)\n",
        "  plt.plot(x_plot.numpy(), f_x_plot.numpy(), data = 'truth')\n",
        "  plt.plot(x_plot.numpy(), y_pred.numpy(), data = 'pred')\n",
        "  plt.show()"
      ],
      "metadata": {
        "id": "DV18hrGyQeoa"
      },
      "execution_count": null,
      "outputs": []
    },
    {
      "cell_type": "code",
      "execution_count": null,
      "metadata": {
        "colab": {
          "base_uri": "https://localhost:8080/",
          "height": 430
        },
        "id": "QtMYtSmSYMsV",
        "outputId": "2de5bd41-aaf5-4fb2-e536-bbb25cf6b99a"
      },
      "outputs": [
        {
          "output_type": "display_data",
          "data": {
            "text/plain": [
              "<Figure size 640x480 with 1 Axes>"
            ],
            "image/png": "[encoded data removed]"
          },
          "metadata": {}
        }
      ],
      "source": [
        "plot_curves(x_train, my_model, mean_x, std_x, mean_y, std_y)"
      ]
    },
    {
      "cell_type": "code",
      "execution_count": null,
      "metadata": {
        "id": "GYF1t_8bgbdL",
        "colab": {
          "base_uri": "https://localhost:8080/"
        },
        "outputId": "ac6599c6-0912-4607-ff68-2dff7b7d589a"
      },
      "outputs": [
        {
          "output_type": "stream",
          "name": "stdout",
          "text": [
            "mkdir: cannot create directory ‘losses’: File exists\n"
          ]
        }
      ],
      "source": [
        "!mkdir losses"
      ]
    },
    {
      "cell_type": "code",
      "execution_count": null,
      "metadata": {
        "id": "dP1Z7dD5ZxQh"
      },
      "outputs": [],
      "source": [
        "import matplotlib.pyplot as plt\n",
        "from IPython.display import clear_output\n",
        "import time\n",
        "\n",
        "def dynamic_plot_loss(train_losses,val_losses, wait_time = 0.5, scale='log'):\n",
        "\n",
        "    # Create a figure and axes inside the loop\n",
        "    fig, ax = plt.subplots()\n",
        "\n",
        "    # Initial plot\n",
        "    line_train, = ax.plot(train_losses, label = 'train')\n",
        "    line_val = ax.plot(val_losses, label = 'val')\n",
        "\n",
        "    # Update the y-data and x-data of the line\n",
        "    line_train.set_ydata(train_losses)\n",
        "    line_train.set_xdata(range(len(train_losses)))\n",
        "\n",
        "    # It is necessary to rescale the axis to fit the new data\n",
        "    ax.relim()\n",
        "    ax.autoscale_view()\n",
        "\n",
        "    # label\n",
        "    ax.set_xlabel('epoch')\n",
        "    ax.set_ylabel('loss')\n",
        "\n",
        "    # scale\n",
        "    ax.set_xscale(scale)\n",
        "    ax.set_yscale(scale)\n",
        "\n",
        "    # legend\n",
        "    ax.legend()\n",
        "\n",
        "    # Show the plot\n",
        "    plt.show()\n",
        "\n",
        "    # Clear the current output to make room for the next plot\n",
        "    clear_output(wait=True)"
      ]
    },
    {
      "cell_type": "code",
      "execution_count": null,
      "metadata": {
        "id": "nCgHtNsT6LQU"
      },
      "outputs": [],
      "source": [
        "restart = False\n",
        "\n",
        "\n",
        "checkpoint = tf.train.Checkpoint(my_model)\n",
        "\n",
        "if restart:\n",
        "  epoch_0= 800\n",
        "  losses = pd.read_csv(f\"losses/loss_ep{epoch_0}\")\n",
        "  train_losses =list(losses.train_loss)\n",
        "  val_losses = list(losses.val_loss)\n",
        "\n",
        "  save_path = \"checkpoints/checkpoint_ep2900-30\"\n",
        "  checkpoint.restore(save_path)\n",
        "else:\n",
        "  epoch_0 = 1\n",
        "  train_losses = []\n",
        "  val_losses = []"
      ]
    },
    {
      "cell_type": "code",
      "execution_count": null,
      "metadata": {
        "id": "wsRzTL7xIjOY"
      },
      "outputs": [],
      "source": [
        "V_d = []\n",
        "S_d = []\n",
        "for item in my_model.variables:\n",
        "  shape = item.shape\n",
        "  V_d.append(tf.Variable(tf.zeros(shape = shape)))\n",
        "  S_d.append(tf.Variable(tf.zeros(shape = shape)))"
      ]
    },
    {
      "cell_type": "code",
      "execution_count": null,
      "metadata": {
        "colab": {
          "base_uri": "https://localhost:8080/",
          "height": 1000
        },
        "id": "wcpvWrnl6Z_R",
        "outputId": "a23b8913-c6b5-41cd-f7e2-eb5566a44d2e"
      },
      "outputs": [
        {
          "output_type": "stream",
          "name": "stderr",
          "text": [
            "ERROR:root:Internal Python error in the inspect module.\n",
            "Below is the traceback from this internal error.\n",
            "\n"
          ]
        },
        {
          "output_type": "stream",
          "name": "stdout",
          "text": [
            "Traceback (most recent call last):\n",
            "  File \"/usr/local/lib/python3.11/dist-packages/IPython/core/interactiveshell.py\", line 3553, in run_code\n",
            "    exec(code_obj, self.user_global_ns, self.user_ns)\n",
            "  File \"<ipython-input-42-86eb08521306>\", line 9, in <cell line: 0>\n",
            "    batch_loss = mse_loss(my_model(x_batch), y_batch, regularization='L1', weights=my_model.variables, lambd=lambd)\n",
            "                          ^^^^^^^^^^^^^^^^^\n",
            "  File \"/usr/local/lib/python3.11/dist-packages/tensorflow/python/util/traceback_utils.py\", line 150, in error_handler\n",
            "    return fn(*args, **kwargs)\n",
            "           ^^^^^^^^^^^^^^^^^^^\n",
            "  File \"/usr/local/lib/python3.11/dist-packages/tensorflow/python/eager/polymorphic_function/polymorphic_function.py\", line 833, in __call__\n",
            "    result = self._call(*args, **kwds)\n",
            "             ^^^^^^^^^^^^^^^^^^^^^^^^^\n",
            "  File \"/usr/local/lib/python3.11/dist-packages/tensorflow/python/eager/polymorphic_function/polymorphic_function.py\", line 878, in _call\n",
            "    results = tracing_compilation.call_function(\n",
            "              ^^^^^^^^^^^^^^^^^^^^^^^^^^^^^^^^^^\n",
            "  File \"/usr/local/lib/python3.11/dist-packages/tensorflow/python/eager/polymorphic_function/tracing_compilation.py\", line 139, in call_function\n",
            "    return function._call_flat(  # pylint: disable=protected-access\n",
            "           ^^^^^^^^^^^^^^^^^^^^^^^^^^^^^^^^^^^^^^^^^^^^^^^^^^^^^^^^\n",
            "  File \"/usr/local/lib/python3.11/dist-packages/tensorflow/python/eager/polymorphic_function/concrete_function.py\", line 1329, in _call_flat\n",
            "    flat_outputs = forward_function.call_flat(*args_with_tangents)\n",
            "                   ^^^^^^^^^^^^^^^^^^^^^^^^^^^^^^^^^^^^^^^^^^^^^^^\n",
            "  File \"/usr/local/lib/python3.11/dist-packages/tensorflow/python/eager/polymorphic_function/atomic_function.py\", line 251, in call_flat\n",
            "    outputs = self._bound_context.call_function(\n",
            "              ^^^^^^^^^^^^^^^^^^^^^^^^^^^^^^^^^^\n",
            "  File \"/usr/local/lib/python3.11/dist-packages/tensorflow/python/eager/context.py\", line 1683, in call_function\n",
            "    outputs = execute.execute(\n",
            "              ^^^^^^^^^^^^^^^^\n",
            "  File \"/usr/local/lib/python3.11/dist-packages/tensorflow/python/eager/execute.py\", line 53, in quick_execute\n",
            "    tensors = pywrap_tfe.TFE_Py_Execute(ctx._handle, device_name, op_name,\n",
            "              ^^^^^^^^^^^^^^^^^^^^^^^^^^^^^^^^^^^^^^^^^^^^^^^^^^^^^^^^^^^^\n",
            "KeyboardInterrupt\n",
            "\n",
            "During handling of the above exception, another exception occurred:\n",
            "\n",
            "Traceback (most recent call last):\n",
            "  File \"/usr/local/lib/python3.11/dist-packages/IPython/core/interactiveshell.py\", line 2099, in showtraceback\n",
            "    stb = value._render_traceback_()\n",
            "          ^^^^^^^^^^^^^^^^^^^^^^^^\n",
            "AttributeError: 'KeyboardInterrupt' object has no attribute '_render_traceback_'\n",
            "\n",
            "During handling of the above exception, another exception occurred:\n",
            "\n",
            "Traceback (most recent call last):\n",
            "  File \"/usr/local/lib/python3.11/dist-packages/IPython/core/ultratb.py\", line 1101, in get_records\n",
            "    return _fixed_getinnerframes(etb, number_of_lines_of_context, tb_offset)\n",
            "           ^^^^^^^^^^^^^^^^^^^^^^^^^^^^^^^^^^^^^^^^^^^^^^^^^^^^^^^^^^^^^^^^^\n",
            "  File \"/usr/local/lib/python3.11/dist-packages/IPython/core/ultratb.py\", line 248, in wrapped\n",
            "    return f(*args, **kwargs)\n",
            "           ^^^^^^^^^^^^^^^^^^\n",
            "  File \"/usr/local/lib/python3.11/dist-packages/IPython/core/ultratb.py\", line 281, in _fixed_getinnerframes\n",
            "    records = fix_frame_records_filenames(inspect.getinnerframes(etb, context))\n",
            "                                          ^^^^^^^^^^^^^^^^^^^^^^^^^^^^^^^^^^^^\n",
            "  File \"/usr/lib/python3.11/inspect.py\", line 1739, in getinnerframes\n",
            "    traceback_info = getframeinfo(tb, context)\n",
            "                     ^^^^^^^^^^^^^^^^^^^^^^^^^\n",
            "  File \"/usr/lib/python3.11/inspect.py\", line 1688, in getframeinfo\n",
            "    lines, lnum = findsource(frame)\n",
            "                  ^^^^^^^^^^^^^^^^^\n",
            "  File \"/usr/local/lib/python3.11/dist-packages/IPython/core/ultratb.py\", line 182, in findsource\n",
            "    lines = linecache.getlines(file, globals_dict)\n",
            "            ^^^^^^^^^^^^^^^^^^^^^^^^^^^^^^^^^^^^^^\n",
            "  File \"/usr/lib/python3.11/linecache.py\", line 46, in getlines\n",
            "    return updatecache(filename, module_globals)\n",
            "           ^^^^^^^^^^^^^^^^^^^^^^^^^^^^^^^^^^^^^\n",
            "  File \"/usr/lib/python3.11/linecache.py\", line 136, in updatecache\n",
            "    with tokenize.open(fullname) as fp:\n",
            "         ^^^^^^^^^^^^^^^^^^^^^^^\n",
            "  File \"/usr/lib/python3.11/tokenize.py\", line 396, in open\n",
            "    buffer = _builtin_open(filename, 'rb')\n",
            "             ^^^^^^^^^^^^^^^^^^^^^^^^^^^^^\n",
            "KeyboardInterrupt\n"
          ]
        },
        {
          "output_type": "error",
          "ename": "TypeError",
          "evalue": "object of type 'NoneType' has no len()",
          "traceback": [
            "\u001b[0;31m---------------------------------------------------------------------------\u001b[0m",
            "\u001b[0;31mKeyboardInterrupt\u001b[0m                         Traceback (most recent call last)",
            "    \u001b[0;31m[... skipping hidden 1 frame]\u001b[0m\n",
            "\u001b[0;32m<ipython-input-42-86eb08521306>\u001b[0m in \u001b[0;36m<cell line: 0>\u001b[0;34m()\u001b[0m\n\u001b[1;32m      8\u001b[0m     \u001b[0;32mwith\u001b[0m \u001b[0mtf\u001b[0m\u001b[0;34m.\u001b[0m\u001b[0mGradientTape\u001b[0m\u001b[0;34m(\u001b[0m\u001b[0;34m)\u001b[0m \u001b[0;32mas\u001b[0m \u001b[0mtape\u001b[0m\u001b[0;34m:\u001b[0m\u001b[0;34m\u001b[0m\u001b[0;34m\u001b[0m\u001b[0m\n\u001b[0;32m----> 9\u001b[0;31m       \u001b[0mbatch_loss\u001b[0m \u001b[0;34m=\u001b[0m \u001b[0mmse_loss\u001b[0m\u001b[0;34m(\u001b[0m\u001b[0mmy_model\u001b[0m\u001b[0;34m(\u001b[0m\u001b[0mx_batch\u001b[0m\u001b[0;34m)\u001b[0m\u001b[0;34m,\u001b[0m \u001b[0my_batch\u001b[0m\u001b[0;34m,\u001b[0m \u001b[0mregularization\u001b[0m\u001b[0;34m=\u001b[0m\u001b[0;34m'L1'\u001b[0m\u001b[0;34m,\u001b[0m \u001b[0mweights\u001b[0m\u001b[0;34m=\u001b[0m\u001b[0mmy_model\u001b[0m\u001b[0;34m.\u001b[0m\u001b[0mvariables\u001b[0m\u001b[0;34m,\u001b[0m \u001b[0mlambd\u001b[0m\u001b[0;34m=\u001b[0m\u001b[0mlambd\u001b[0m\u001b[0;34m)\u001b[0m\u001b[0;34m\u001b[0m\u001b[0;34m\u001b[0m\u001b[0m\n\u001b[0m\u001b[1;32m     10\u001b[0m \u001b[0;34m\u001b[0m\u001b[0m\n",
            "\u001b[0;32m/usr/local/lib/python3.11/dist-packages/tensorflow/python/util/traceback_utils.py\u001b[0m in \u001b[0;36merror_handler\u001b[0;34m(*args, **kwargs)\u001b[0m\n\u001b[1;32m    149\u001b[0m     \u001b[0;32mtry\u001b[0m\u001b[0;34m:\u001b[0m\u001b[0;34m\u001b[0m\u001b[0;34m\u001b[0m\u001b[0m\n\u001b[0;32m--> 150\u001b[0;31m       \u001b[0;32mreturn\u001b[0m \u001b[0mfn\u001b[0m\u001b[0;34m(\u001b[0m\u001b[0;34m*\u001b[0m\u001b[0margs\u001b[0m\u001b[0;34m,\u001b[0m \u001b[0;34m**\u001b[0m\u001b[0mkwargs\u001b[0m\u001b[0;34m)\u001b[0m\u001b[0;34m\u001b[0m\u001b[0;34m\u001b[0m\u001b[0m\n\u001b[0m\u001b[1;32m    151\u001b[0m     \u001b[0;32mexcept\u001b[0m \u001b[0mException\u001b[0m \u001b[0;32mas\u001b[0m \u001b[0me\u001b[0m\u001b[0;34m:\u001b[0m\u001b[0;34m\u001b[0m\u001b[0;34m\u001b[0m\u001b[0m\n",
            "\u001b[0;32m/usr/local/lib/python3.11/dist-packages/tensorflow/python/eager/polymorphic_function/polymorphic_function.py\u001b[0m in \u001b[0;36m__call__\u001b[0;34m(self, *args, **kwds)\u001b[0m\n\u001b[1;32m    832\u001b[0m       \u001b[0;32mwith\u001b[0m \u001b[0mOptionalXlaContext\u001b[0m\u001b[0;34m(\u001b[0m\u001b[0mself\u001b[0m\u001b[0;34m.\u001b[0m\u001b[0m_jit_compile\u001b[0m\u001b[0;34m)\u001b[0m\u001b[0;34m:\u001b[0m\u001b[0;34m\u001b[0m\u001b[0;34m\u001b[0m\u001b[0m\n\u001b[0;32m--> 833\u001b[0;31m         \u001b[0mresult\u001b[0m \u001b[0;34m=\u001b[0m \u001b[0mself\u001b[0m\u001b[0;34m.\u001b[0m\u001b[0m_call\u001b[0m\u001b[0;34m(\u001b[0m\u001b[0;34m*\u001b[0m\u001b[0margs\u001b[0m\u001b[0;34m,\u001b[0m \u001b[0;34m**\u001b[0m\u001b[0mkwds\u001b[0m\u001b[0;34m)\u001b[0m\u001b[0;34m\u001b[0m\u001b[0;34m\u001b[0m\u001b[0m\n\u001b[0m\u001b[1;32m    834\u001b[0m \u001b[0;34m\u001b[0m\u001b[0m\n",
            "\u001b[0;32m/usr/local/lib/python3.11/dist-packages/tensorflow/python/eager/polymorphic_function/polymorphic_function.py\u001b[0m in \u001b[0;36m_call\u001b[0;34m(self, *args, **kwds)\u001b[0m\n\u001b[1;32m    877\u001b[0m       \u001b[0;31m# run the first trace but we should fail if variables are created.\u001b[0m\u001b[0;34m\u001b[0m\u001b[0;34m\u001b[0m\u001b[0m\n\u001b[0;32m--> 878\u001b[0;31m       results = tracing_compilation.call_function(\n\u001b[0m\u001b[1;32m    879\u001b[0m           \u001b[0margs\u001b[0m\u001b[0;34m,\u001b[0m \u001b[0mkwds\u001b[0m\u001b[0;34m,\u001b[0m \u001b[0mself\u001b[0m\u001b[0;34m.\u001b[0m\u001b[0m_variable_creation_config\u001b[0m\u001b[0;34m\u001b[0m\u001b[0;34m\u001b[0m\u001b[0m\n",
            "\u001b[0;32m/usr/local/lib/python3.11/dist-packages/tensorflow/python/eager/polymorphic_function/tracing_compilation.py\u001b[0m in \u001b[0;36mcall_function\u001b[0;34m(args, kwargs, tracing_options)\u001b[0m\n\u001b[1;32m    138\u001b[0m   \u001b[0mflat_inputs\u001b[0m \u001b[0;34m=\u001b[0m \u001b[0mfunction\u001b[0m\u001b[0;34m.\u001b[0m\u001b[0mfunction_type\u001b[0m\u001b[0;34m.\u001b[0m\u001b[0munpack_inputs\u001b[0m\u001b[0;34m(\u001b[0m\u001b[0mbound_args\u001b[0m\u001b[0;34m)\u001b[0m\u001b[0;34m\u001b[0m\u001b[0;34m\u001b[0m\u001b[0m\n\u001b[0;32m--> 139\u001b[0;31m   return function._call_flat(  # pylint: disable=protected-access\n\u001b[0m\u001b[1;32m    140\u001b[0m       \u001b[0mflat_inputs\u001b[0m\u001b[0;34m,\u001b[0m \u001b[0mcaptured_inputs\u001b[0m\u001b[0;34m=\u001b[0m\u001b[0mfunction\u001b[0m\u001b[0;34m.\u001b[0m\u001b[0mcaptured_inputs\u001b[0m\u001b[0;34m\u001b[0m\u001b[0;34m\u001b[0m\u001b[0m\n",
            "\u001b[0;32m/usr/local/lib/python3.11/dist-packages/tensorflow/python/eager/polymorphic_function/concrete_function.py\u001b[0m in \u001b[0;36m_call_flat\u001b[0;34m(self, tensor_inputs, captured_inputs)\u001b[0m\n\u001b[1;32m   1328\u001b[0m     \u001b[0;32mif\u001b[0m \u001b[0mexecuting_eagerly\u001b[0m\u001b[0;34m:\u001b[0m\u001b[0;34m\u001b[0m\u001b[0;34m\u001b[0m\u001b[0m\n\u001b[0;32m-> 1329\u001b[0;31m       \u001b[0mflat_outputs\u001b[0m \u001b[0;34m=\u001b[0m \u001b[0mforward_function\u001b[0m\u001b[0;34m.\u001b[0m\u001b[0mcall_flat\u001b[0m\u001b[0;34m(\u001b[0m\u001b[0;34m*\u001b[0m\u001b[0margs_with_tangents\u001b[0m\u001b[0;34m)\u001b[0m\u001b[0;34m\u001b[0m\u001b[0;34m\u001b[0m\u001b[0m\n\u001b[0m\u001b[1;32m   1330\u001b[0m     \u001b[0;32melse\u001b[0m\u001b[0;34m:\u001b[0m\u001b[0;34m\u001b[0m\u001b[0;34m\u001b[0m\u001b[0m\n",
            "\u001b[0;32m/usr/local/lib/python3.11/dist-packages/tensorflow/python/eager/polymorphic_function/atomic_function.py\u001b[0m in \u001b[0;36mcall_flat\u001b[0;34m(self, *args)\u001b[0m\n\u001b[1;32m    250\u001b[0m           \u001b[0;32mif\u001b[0m \u001b[0mself\u001b[0m\u001b[0;34m.\u001b[0m\u001b[0m_bound_context\u001b[0m\u001b[0;34m.\u001b[0m\u001b[0mexecuting_eagerly\u001b[0m\u001b[0;34m(\u001b[0m\u001b[0;34m)\u001b[0m\u001b[0;34m:\u001b[0m\u001b[0;34m\u001b[0m\u001b[0;34m\u001b[0m\u001b[0m\n\u001b[0;32m--> 251\u001b[0;31m             outputs = self._bound_context.call_function(\n\u001b[0m\u001b[1;32m    252\u001b[0m                 \u001b[0mself\u001b[0m\u001b[0;34m.\u001b[0m\u001b[0mname\u001b[0m\u001b[0;34m,\u001b[0m\u001b[0;34m\u001b[0m\u001b[0;34m\u001b[0m\u001b[0m\n",
            "\u001b[0;32m/usr/local/lib/python3.11/dist-packages/tensorflow/python/eager/context.py\u001b[0m in \u001b[0;36mcall_function\u001b[0;34m(self, name, tensor_inputs, num_outputs)\u001b[0m\n\u001b[1;32m   1682\u001b[0m     \u001b[0;32mif\u001b[0m \u001b[0mcancellation_context\u001b[0m \u001b[0;32mis\u001b[0m \u001b[0;32mNone\u001b[0m\u001b[0;34m:\u001b[0m\u001b[0;34m\u001b[0m\u001b[0;34m\u001b[0m\u001b[0m\n\u001b[0;32m-> 1683\u001b[0;31m       outputs = execute.execute(\n\u001b[0m\u001b[1;32m   1684\u001b[0m           \u001b[0mname\u001b[0m\u001b[0;34m.\u001b[0m\u001b[0mdecode\u001b[0m\u001b[0;34m(\u001b[0m\u001b[0;34m\"utf-8\"\u001b[0m\u001b[0;34m)\u001b[0m\u001b[0;34m,\u001b[0m\u001b[0;34m\u001b[0m\u001b[0;34m\u001b[0m\u001b[0m\n",
            "\u001b[0;32m/usr/local/lib/python3.11/dist-packages/tensorflow/python/eager/execute.py\u001b[0m in \u001b[0;36mquick_execute\u001b[0;34m(op_name, num_outputs, inputs, attrs, ctx, name)\u001b[0m\n\u001b[1;32m     52\u001b[0m     \u001b[0mctx\u001b[0m\u001b[0;34m.\u001b[0m\u001b[0mensure_initialized\u001b[0m\u001b[0;34m(\u001b[0m\u001b[0;34m)\u001b[0m\u001b[0;34m\u001b[0m\u001b[0;34m\u001b[0m\u001b[0m\n\u001b[0;32m---> 53\u001b[0;31m     tensors = pywrap_tfe.TFE_Py_Execute(ctx._handle, device_name, op_name,\n\u001b[0m\u001b[1;32m     54\u001b[0m                                         inputs, attrs, num_outputs)\n",
            "\u001b[0;31mKeyboardInterrupt\u001b[0m: ",
            "\nDuring handling of the above exception, another exception occurred:\n",
            "\u001b[0;31mAttributeError\u001b[0m                            Traceback (most recent call last)",
            "\u001b[0;32m/usr/local/lib/python3.11/dist-packages/IPython/core/interactiveshell.py\u001b[0m in \u001b[0;36mshowtraceback\u001b[0;34m(self, exc_tuple, filename, tb_offset, exception_only, running_compiled_code)\u001b[0m\n\u001b[1;32m   2098\u001b[0m                         \u001b[0;31m# in the engines. This should return a list of strings.\u001b[0m\u001b[0;34m\u001b[0m\u001b[0;34m\u001b[0m\u001b[0m\n\u001b[0;32m-> 2099\u001b[0;31m                         \u001b[0mstb\u001b[0m \u001b[0;34m=\u001b[0m \u001b[0mvalue\u001b[0m\u001b[0;34m.\u001b[0m\u001b[0m_render_traceback_\u001b[0m\u001b[0;34m(\u001b[0m\u001b[0;34m)\u001b[0m\u001b[0;34m\u001b[0m\u001b[0;34m\u001b[0m\u001b[0m\n\u001b[0m\u001b[1;32m   2100\u001b[0m                     \u001b[0;32mexcept\u001b[0m \u001b[0mException\u001b[0m\u001b[0;34m:\u001b[0m\u001b[0;34m\u001b[0m\u001b[0;34m\u001b[0m\u001b[0m\n",
            "\u001b[0;31mAttributeError\u001b[0m: 'KeyboardInterrupt' object has no attribute '_render_traceback_'",
            "\nDuring handling of the above exception, another exception occurred:\n",
            "\u001b[0;31mTypeError\u001b[0m                                 Traceback (most recent call last)",
            "    \u001b[0;31m[... skipping hidden 1 frame]\u001b[0m\n",
            "\u001b[0;32m/usr/local/lib/python3.11/dist-packages/IPython/core/interactiveshell.py\u001b[0m in \u001b[0;36mshowtraceback\u001b[0;34m(self, exc_tuple, filename, tb_offset, exception_only, running_compiled_code)\u001b[0m\n\u001b[1;32m   2099\u001b[0m                         \u001b[0mstb\u001b[0m \u001b[0;34m=\u001b[0m \u001b[0mvalue\u001b[0m\u001b[0;34m.\u001b[0m\u001b[0m_render_traceback_\u001b[0m\u001b[0;34m(\u001b[0m\u001b[0;34m)\u001b[0m\u001b[0;34m\u001b[0m\u001b[0;34m\u001b[0m\u001b[0m\n\u001b[1;32m   2100\u001b[0m                     \u001b[0;32mexcept\u001b[0m \u001b[0mException\u001b[0m\u001b[0;34m:\u001b[0m\u001b[0;34m\u001b[0m\u001b[0;34m\u001b[0m\u001b[0m\n\u001b[0;32m-> 2101\u001b[0;31m                         stb = self.InteractiveTB.structured_traceback(etype,\n\u001b[0m\u001b[1;32m   2102\u001b[0m                                             value, tb, tb_offset=tb_offset)\n\u001b[1;32m   2103\u001b[0m \u001b[0;34m\u001b[0m\u001b[0m\n",
            "\u001b[0;32m/usr/local/lib/python3.11/dist-packages/IPython/core/ultratb.py\u001b[0m in \u001b[0;36mstructured_traceback\u001b[0;34m(self, etype, value, tb, tb_offset, number_of_lines_of_context)\u001b[0m\n\u001b[1;32m   1365\u001b[0m         \u001b[0;32melse\u001b[0m\u001b[0;34m:\u001b[0m\u001b[0;34m\u001b[0m\u001b[0;34m\u001b[0m\u001b[0m\n\u001b[1;32m   1366\u001b[0m             \u001b[0mself\u001b[0m\u001b[0;34m.\u001b[0m\u001b[0mtb\u001b[0m \u001b[0;34m=\u001b[0m \u001b[0mtb\u001b[0m\u001b[0;34m\u001b[0m\u001b[0;34m\u001b[0m\u001b[0m\n\u001b[0;32m-> 1367\u001b[0;31m         return FormattedTB.structured_traceback(\n\u001b[0m\u001b[1;32m   1368\u001b[0m             self, etype, value, tb, tb_offset, number_of_lines_of_context)\n\u001b[1;32m   1369\u001b[0m \u001b[0;34m\u001b[0m\u001b[0m\n",
            "\u001b[0;32m/usr/local/lib/python3.11/dist-packages/IPython/core/ultratb.py\u001b[0m in \u001b[0;36mstructured_traceback\u001b[0;34m(self, etype, value, tb, tb_offset, number_of_lines_of_context)\u001b[0m\n\u001b[1;32m   1265\u001b[0m         \u001b[0;32mif\u001b[0m \u001b[0mmode\u001b[0m \u001b[0;32min\u001b[0m \u001b[0mself\u001b[0m\u001b[0;34m.\u001b[0m\u001b[0mverbose_modes\u001b[0m\u001b[0;34m:\u001b[0m\u001b[0;34m\u001b[0m\u001b[0;34m\u001b[0m\u001b[0m\n\u001b[1;32m   1266\u001b[0m             \u001b[0;31m# Verbose modes need a full traceback\u001b[0m\u001b[0;34m\u001b[0m\u001b[0;34m\u001b[0m\u001b[0m\n\u001b[0;32m-> 1267\u001b[0;31m             return VerboseTB.structured_traceback(\n\u001b[0m\u001b[1;32m   1268\u001b[0m                 \u001b[0mself\u001b[0m\u001b[0;34m,\u001b[0m \u001b[0metype\u001b[0m\u001b[0;34m,\u001b[0m \u001b[0mvalue\u001b[0m\u001b[0;34m,\u001b[0m \u001b[0mtb\u001b[0m\u001b[0;34m,\u001b[0m \u001b[0mtb_offset\u001b[0m\u001b[0;34m,\u001b[0m \u001b[0mnumber_of_lines_of_context\u001b[0m\u001b[0;34m\u001b[0m\u001b[0;34m\u001b[0m\u001b[0m\n\u001b[1;32m   1269\u001b[0m             )\n",
            "\u001b[0;32m/usr/local/lib/python3.11/dist-packages/IPython/core/ultratb.py\u001b[0m in \u001b[0;36mstructured_traceback\u001b[0;34m(self, etype, evalue, etb, tb_offset, number_of_lines_of_context)\u001b[0m\n\u001b[1;32m   1122\u001b[0m         \u001b[0;34m\"\"\"Return a nice text document describing the traceback.\"\"\"\u001b[0m\u001b[0;34m\u001b[0m\u001b[0;34m\u001b[0m\u001b[0m\n\u001b[1;32m   1123\u001b[0m \u001b[0;34m\u001b[0m\u001b[0m\n\u001b[0;32m-> 1124\u001b[0;31m         formatted_exception = self.format_exception_as_a_whole(etype, evalue, etb, number_of_lines_of_context,\n\u001b[0m\u001b[1;32m   1125\u001b[0m                                                                tb_offset)\n\u001b[1;32m   1126\u001b[0m \u001b[0;34m\u001b[0m\u001b[0m\n",
            "\u001b[0;32m/usr/local/lib/python3.11/dist-packages/IPython/core/ultratb.py\u001b[0m in \u001b[0;36mformat_exception_as_a_whole\u001b[0;34m(self, etype, evalue, etb, number_of_lines_of_context, tb_offset)\u001b[0m\n\u001b[1;32m   1080\u001b[0m \u001b[0;34m\u001b[0m\u001b[0m\n\u001b[1;32m   1081\u001b[0m \u001b[0;34m\u001b[0m\u001b[0m\n\u001b[0;32m-> 1082\u001b[0;31m         \u001b[0mlast_unique\u001b[0m\u001b[0;34m,\u001b[0m \u001b[0mrecursion_repeat\u001b[0m \u001b[0;34m=\u001b[0m \u001b[0mfind_recursion\u001b[0m\u001b[0;34m(\u001b[0m\u001b[0morig_etype\u001b[0m\u001b[0;34m,\u001b[0m \u001b[0mevalue\u001b[0m\u001b[0;34m,\u001b[0m \u001b[0mrecords\u001b[0m\u001b[0;34m)\u001b[0m\u001b[0;34m\u001b[0m\u001b[0;34m\u001b[0m\u001b[0m\n\u001b[0m\u001b[1;32m   1083\u001b[0m \u001b[0;34m\u001b[0m\u001b[0m\n\u001b[1;32m   1084\u001b[0m         \u001b[0mframes\u001b[0m \u001b[0;34m=\u001b[0m \u001b[0mself\u001b[0m\u001b[0;34m.\u001b[0m\u001b[0mformat_records\u001b[0m\u001b[0;34m(\u001b[0m\u001b[0mrecords\u001b[0m\u001b[0;34m,\u001b[0m \u001b[0mlast_unique\u001b[0m\u001b[0;34m,\u001b[0m \u001b[0mrecursion_repeat\u001b[0m\u001b[0;34m)\u001b[0m\u001b[0;34m\u001b[0m\u001b[0;34m\u001b[0m\u001b[0m\n",
            "\u001b[0;32m/usr/local/lib/python3.11/dist-packages/IPython/core/ultratb.py\u001b[0m in \u001b[0;36mfind_recursion\u001b[0;34m(etype, value, records)\u001b[0m\n\u001b[1;32m    380\u001b[0m     \u001b[0;31m# first frame (from in to out) that looks different.\u001b[0m\u001b[0;34m\u001b[0m\u001b[0;34m\u001b[0m\u001b[0m\n\u001b[1;32m    381\u001b[0m     \u001b[0;32mif\u001b[0m \u001b[0;32mnot\u001b[0m \u001b[0mis_recursion_error\u001b[0m\u001b[0;34m(\u001b[0m\u001b[0metype\u001b[0m\u001b[0;34m,\u001b[0m \u001b[0mvalue\u001b[0m\u001b[0;34m,\u001b[0m \u001b[0mrecords\u001b[0m\u001b[0;34m)\u001b[0m\u001b[0;34m:\u001b[0m\u001b[0;34m\u001b[0m\u001b[0;34m\u001b[0m\u001b[0m\n\u001b[0;32m--> 382\u001b[0;31m         \u001b[0;32mreturn\u001b[0m \u001b[0mlen\u001b[0m\u001b[0;34m(\u001b[0m\u001b[0mrecords\u001b[0m\u001b[0;34m)\u001b[0m\u001b[0;34m,\u001b[0m \u001b[0;36m0\u001b[0m\u001b[0;34m\u001b[0m\u001b[0;34m\u001b[0m\u001b[0m\n\u001b[0m\u001b[1;32m    383\u001b[0m \u001b[0;34m\u001b[0m\u001b[0m\n\u001b[1;32m    384\u001b[0m     \u001b[0;31m# Select filename, lineno, func_name to track frames with\u001b[0m\u001b[0;34m\u001b[0m\u001b[0;34m\u001b[0m\u001b[0m\n",
            "\u001b[0;31mTypeError\u001b[0m: object of type 'NoneType' has no len()"
          ]
        }
      ],
      "source": [
        "epochs = 20000\n",
        "learning_rate = 1e-04\n",
        "lambd = 0.0\n",
        "\n",
        "\n",
        "for epoch in range(epoch_0, epochs):\n",
        "  for x_batch, y_batch in train_dataset:\n",
        "    with tf.GradientTape() as tape:\n",
        "      batch_loss = mse_loss(my_model(x_batch), y_batch, regularization='L1', weights=my_model.variables, lambd=lambd)\n",
        "\n",
        "\n",
        "\n",
        "    grads = tape.gradient(batch_loss, my_model.variables)\n",
        "\n",
        "    idx = 0\n",
        "    for g,v in zip(grads, my_model.variables):\n",
        "      adv_term, V_d[idx], S_d[idx] = adam_optimizer(V_d[idx], S_d[idx], g, epoch)\n",
        "      v.assign_sub(learning_rate * adv_term)\n",
        "      idx += 1\n",
        "\n",
        "\n",
        "  train_loss = mse_loss(my_model(x_batch), y_batch, regularization='L1', weights=my_model.variables, lambd=lambd)\n",
        "  train_losses.append(float(train_loss.numpy()))\n",
        "\n",
        "  val_loss = mse_loss(my_model(x_val), y_val, regularization='L1', weights=my_model.variables, lambd=lambd)\n",
        "  val_losses.append(float(val_loss.numpy()))\n",
        "\n",
        "\n",
        "  if epoch % 10 == 0:\n",
        "    print(f\"{epoch+1}/{epochs} TRAIN LOSS: {train_loss}, VAL LOSS: {val_loss}\")\n",
        "\n",
        "    dynamic_plot_loss(train_losses, val_losses)\n",
        "\n",
        "  if epoch % 100 == 0:\n",
        "    filename = f\"saved_model/my_model_ep{epoch}\"\n",
        "    print(f\"Saving the model at epoch {epoch}\")\n",
        "    loss_filename = f\"losses/loss_ep{epoch}\"\n",
        "    checkpoint_path = f\"checkpoints/checkpoint_ep{epoch}\"\n",
        "    save_path = checkpoint.save(checkpoint_path)\n",
        "\n",
        "\n",
        "    export_losses = pd.DataFrame({'train_loss': train_losses, 'val_loss': val_losses})\n",
        "    export_losses.to_csv(loss_filename, index_label='epoch')"
      ]
    },
    {
      "cell_type": "code",
      "execution_count": null,
      "metadata": {
        "colab": {
          "base_uri": "https://localhost:8080/",
          "height": 430
        },
        "id": "uN7s8I9FQXtG",
        "outputId": "afaba5b3-945a-49b4-c891-6ebed788337c"
      },
      "outputs": [
        {
          "output_type": "display_data",
          "data": {
            "text/plain": [
              "<Figure size 640x480 with 1 Axes>"
            ],
            "image/png": "[encoded data removed]"
          },
          "metadata": {}
        }
      ],
      "source": [
        "plot_curves(x_train, my_model, mean_x, std_x, mean_y, std_y)"
      ]
    },
    {
      "cell_type": "code",
      "execution_count": null,
      "metadata": {
        "colab": {
          "base_uri": "https://localhost:8080/",
          "height": 430
        },
        "id": "b8arLQdwNru-",
        "outputId": "1c85e611-9bd4-4f44-a0c0-a77acad925ac"
      },
      "outputs": [
        {
          "output_type": "display_data",
          "data": {
            "text/plain": [
              "<Figure size 640x480 with 1 Axes>"
            ],
            "image/png": "[encoded data removed]"
          },
          "metadata": {}
        }
      ],
      "source": [
        "plot_curves(x_val, my_model, mean_x, std_x, mean_y, std_y)"
      ]
    },
    {
      "cell_type": "markdown",
      "metadata": {
        "id": "1VMtDN-BrhLp"
      },
      "source": [
        "# Keras implementation"
      ]
    },
    {
      "cell_type": "code",
      "execution_count": null,
      "metadata": {
        "id": "tcsM5PuC8xPz"
      },
      "outputs": [],
      "source": [
        "import tensorflow as tf\n",
        "import keras\n",
        "from keras import layers"
      ]
    },
    {
      "cell_type": "code",
      "execution_count": null,
      "metadata": {
        "id": "zIxl0mhorr4f"
      },
      "outputs": [],
      "source": [
        "initializer = 'random_normal'\n",
        "\n",
        "keras_model = keras.Sequential(\n",
        "    [\n",
        "        #layers.Dense(2, activation=\"relu\", name=\"layer1\", kernel_initializer=initializer, bias_initializer=initializer),\n",
        "        #layers.Dense(2, activation=\"relu\", name=\"layer2\",  kernel_initializer=initializer, bias_initializer=initializer),\n",
        "        layers.Dense(2, activation=\"relu\", name=\"layer3\", kernel_initializer=initializer, bias_initializer=initializer),\n",
        "        layers.Dense(1, activation = \"linear\", kernel_initializer=initializer, bias_initializer=initializer)\n",
        "    ]\n",
        ")\n",
        "# Call model on a test input\n",
        "print(keras_model(x_train).shape)\n"
      ]
    },
    {
      "cell_type": "code",
      "execution_count": null,
      "metadata": {
        "id": "Hx5iY-lWsXCJ"
      },
      "outputs": [],
      "source": [
        "from keras import losses\n",
        "from keras import optimizers\n",
        "\n",
        "loss = losses.MeanSquaredError()\n",
        "optimizer = optimizers.SGD(learning_rate = 1e-04)"
      ]
    },
    {
      "cell_type": "code",
      "execution_count": null,
      "metadata": {
        "id": "HUR439NJsX3C"
      },
      "outputs": [],
      "source": [
        "keras_model.compile(optimizer = optimizer, loss = loss)"
      ]
    },
    {
      "cell_type": "code",
      "execution_count": null,
      "metadata": {
        "id": "m6GdePpQtrZf"
      },
      "outputs": [],
      "source": [
        "epochs = 1000\n",
        "history = keras_model.fit(train_dataset, epochs = epochs, validation_data= (x_val, y_val))"
      ]
    },
    {
      "cell_type": "code",
      "execution_count": null,
      "metadata": {
        "id": "JStOUvm5u_Fs"
      },
      "outputs": [],
      "source": [
        "train_loss = history.history['loss']\n",
        "val_loss = history.history['val_loss']\n",
        "plt.plot(train_loss, data = 'train')\n",
        "plt.plot(val_loss, data = 'val')\n",
        "plt.show()"
      ]
    },
    {
      "cell_type": "code",
      "execution_count": null,
      "metadata": {
        "id": "l4hNRb_vv3VA"
      },
      "outputs": [],
      "source": [
        "keras_model.compile?"
      ]
    },
    {
      "cell_type": "code",
      "execution_count": null,
      "metadata": {
        "id": "4WPZx7i7yDHU"
      },
      "outputs": [],
      "source": []
    }
  ],
  "metadata": {
    "colab": {
      "provenance": [],
      "include_colab_link": true
    },
    "kernelspec": {
      "display_name": "Python 3",
      "name": "python3"
    },
    "language_info": {
      "name": "python"
    }
  },
  "nbformat": 4,
  "nbformat_minor": 0
}