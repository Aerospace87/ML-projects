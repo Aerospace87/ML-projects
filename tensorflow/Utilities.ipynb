{
  "nbformat": 4,
  "nbformat_minor": 0,
  "metadata": {
    "colab": {
      "provenance": [],
      "authorship_tag": "ABX9TyOt9q91RfKUi60Ca87OZh4s",
      "include_colab_link": true
    },
    "kernelspec": {
      "name": "python3",
      "display_name": "Python 3"
    },
    "language_info": {
      "name": "python"
    }
  },
  "cells": [
    {
      "cell_type": "markdown",
      "metadata": {
        "id": "view-in-github",
        "colab_type": "text"
      },
      "source": [
        "<a href=\"https://colab.research.google.com/github/Aerospace87/ML-projects/blob/main/tensorflow/Utilities.ipynb\" target=\"_parent\"><img src=\"https://colab.research.google.com/assets/colab-badge.svg\" alt=\"Open In Colab\"/></a>"
      ]
    },
    {
      "cell_type": "code",
      "execution_count": 23,
      "metadata": {
        "id": "GD7lYR_CS8Fy"
      },
      "outputs": [],
      "source": [
        "from os import listdir, path\n",
        "from google.colab import drive"
      ]
    },
    {
      "cell_type": "code",
      "source": [
        "def get_paths_data(folder):\n",
        "\n",
        "  \"\"\"Function to get all the data in a folder of Google Drive\"\"\"\n",
        "\n",
        "  mount_location = \"/content/drive\"\n",
        "  drive.mount(mount_location)\n",
        "  path_loc = \"drive/MyDrive/\" + folder\n",
        "\n",
        "\n",
        "  return [path.join(path_loc, elem) for elem in listdir(path_loc)]"
      ],
      "metadata": {
        "id": "lLEQU7x2TGsG"
      },
      "execution_count": 26,
      "outputs": []
    },
    {
      "cell_type": "code",
      "source": [
        "get_paths_data(\"dataset\")"
      ],
      "metadata": {
        "colab": {
          "base_uri": "https://localhost:8080/"
        },
        "id": "lhqL2zCPTozT",
        "outputId": "4ac654f6-ae33-464d-d35a-9537109dc982"
      },
      "execution_count": 28,
      "outputs": [
        {
          "output_type": "stream",
          "name": "stdout",
          "text": [
            "Drive already mounted at /content/drive; to attempt to forcibly remount, call drive.mount(\"/content/drive\", force_remount=True).\n"
          ]
        },
        {
          "output_type": "execute_result",
          "data": {
            "text/plain": [
              "[]"
            ]
          },
          "metadata": {},
          "execution_count": 28
        }
      ]
    },
    {
      "cell_type": "code",
      "source": [],
      "metadata": {
        "id": "UJizJGg0VoAU"
      },
      "execution_count": null,
      "outputs": []
    }
  ]
}